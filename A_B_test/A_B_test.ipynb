{
 "cells": [
  {
   "cell_type": "markdown",
   "metadata": {},
   "source": [
    "# Описание проекта\n",
    "\n",
    "Используя данные интернет-магазина приоритезировать гипотезы, произвести оценку результатов A/B-тестирования различными методами"
   ]
  },
  {
   "cell_type": "markdown",
   "metadata": {},
   "source": [
    "## Содержание  \n",
    "\n",
    "\n",
    "* [1.Описание данных и задач](#данные)\n",
    "* [2.Импорт библиотек и изучение общей информации](#импорт)\n",
    "    * [2.1 Датафрейм \"Hypothesis\" (информация о гипотезах по увеличению выручки интернет-магазина)](#гипотезы) \n",
    "    * [2.2 Датафрейм \"Orders\" (информация о заказах)](#заказы)\n",
    "    * [2.3 Датафрейм \"Visitors\" (информация о пользователях)](#пользователи)\n",
    "* [3.Приоритизация гипотез](#ГИП)\n",
    "    * [3.1 Фреймворк ICE для приоритизации гипотез](#АЙС) \n",
    "    * [3.2 Фреймворк RICE для приоритизации гипотез](#РАЙС)\n",
    "    * [3.3 Интерпретация результатов приоритизации гипотез методами ICE и RICE](#результат)\n",
    "* [4.Построение графиков кумулятивных метрик](#кум)\n",
    "    * [4.1 График куммулятивной выручки по группам](#кумвыр) \n",
    "    * [4.2 График куммулятивного среднего чека по группам](#кумчек)\n",
    "    * [4.3 График относительного изменения куммулятивного среднего чека группы В к группе А](#кумчекотн)\n",
    "    * [4.4 График куммулятивной конверсии по группам](#кумконв)\n",
    "    * [4.5 График относительного изменения куммулятивной конверсии группы В к группе А](#кумконвотн)    \n",
    "* [5.Анализ выбросов и всплесков](#аном)\n",
    "    * [5.1 Точечный график количества заказов по пользователям](#аномпольз) \n",
    "    * [5.2 Граница числа заказов для определения аномальных пользователей](#апп)\n",
    "    * [5.3 Точечный график стоимостей заказов](#аномст)\n",
    "    * [5.4 Граница стоимостей заказов для определения аномальных заказов](#асп)\n",
    "* [6.Анализ результатов A/B-теста](#абтест)\n",
    "    * [6.1 Статистическая значимость различий в конверсии по \"сырым\" данным](#сзксд)\n",
    "    * [6.2 Статистическая значимость различий в среднем чеке по \"сырым\" данным](#сзчсд)\n",
    "    * [6.3 Очистка данных](#чист)    \n",
    "    * [6.4 Графики относительных изменений куммулятивных метрик по \"очищенным\" данным](#год)       \n",
    "    * [6.5 Статистическая значимость различий в конверсии по \"очищенным\" данным](#сзкод)\n",
    "    * [6.6 Статистическая значимость различий в среднем чеке по \"очищенным\" данным](#сзчод)  \n",
    "* [7.Вывод по результатам А/В-теста](#ВЫВОД)    "
   ]
  },
  {
   "cell_type": "markdown",
   "metadata": {},
   "source": [
    "# 1. Описание данных <a name=\"данные\"></a>  \n",
    "\n",
    "### Файл **hypothesis**  \n",
    "\n",
    "* **Hypothesis** — краткое описание гипотезы;  \n",
    "* **Reach** — охват пользователей по 10-балльной шкале;  \n",
    "* **Impact** — влияние на пользователей по 10-балльной шкале;  \n",
    "* **Confidence** — уверенность в гипотезе по 10-балльной шкале;  \n",
    "* **Efforts** — затраты ресурсов на проверку гипотезы по 10-балльной шкале. Чем больше значение Efforts, тем дороже проверка гипотезы.  \n",
    "\n",
    "### Файл **orders**  \n",
    "\n",
    "* **transactionId** — идентификатор заказа;  \n",
    "* **visitorId** — идентификатор пользователя, совершившего заказ;  \n",
    "* **date** — дата, когда был совершён заказ;  \n",
    "* **revenue** — выручка заказа;  \n",
    "* **group** — группа A/B-теста, в которую попал заказ.  \n",
    "\n",
    "### Файл **visitors**  \n",
    "\n",
    "* **date** — дата;  \n",
    "* **group** — группа A/B-теста;  \n",
    "* **visitors** — количество пользователей в указанную дату в указанной группе A/B-теста  \n"
   ]
  },
  {
   "cell_type": "markdown",
   "metadata": {},
   "source": [
    "## 2. Импорт библиотек и изучение общей информации <a name=\"импорт\"></a>"
   ]
  },
  {
   "cell_type": "code",
   "execution_count": 1,
   "metadata": {},
   "outputs": [],
   "source": [
    "# импортируем библиотеки\n",
    "import pandas as pd \n",
    "import matplotlib.pyplot as plt\n",
    "%matplotlib inline\n",
    "import numpy as np\n",
    "import seaborn as sns\n",
    "import plotly.express as px\n",
    "import datetime as dt\n",
    "import scipy.stats as stats\n"
   ]
  },
  {
   "cell_type": "code",
   "execution_count": 2,
   "metadata": {},
   "outputs": [],
   "source": [
    "# сохраняем данные  в переменные hypothesis, orders, visitors\n",
    "hypothesis = pd.read_csv('')\n",
    "orders = pd.read_csv('')\n",
    "visitors = pd.read_csv('')"
   ]
  },
  {
   "cell_type": "markdown",
   "metadata": {},
   "source": [
    "Напишем функцию с помощью которой будем выводить информацию о датафреймах"
   ]
  },
  {
   "cell_type": "code",
   "execution_count": 3,
   "metadata": {},
   "outputs": [],
   "source": [
    "def total_info(data, name):\n",
    "    print(name)\n",
    "    display(data.head(10))\n",
    "    print('*************************************')\n",
    "    display(data.info()) \n",
    "    print('*************************************')\n",
    "    print(\"Число дубликатов:\", data.duplicated().sum())\n",
    "    print('*************************************')"
   ]
  },
  {
   "cell_type": "markdown",
   "metadata": {},
   "source": [
    "Приступим к ознакомлению с данными."
   ]
  },
  {
   "cell_type": "markdown",
   "metadata": {},
   "source": [
    "**Датафрейм \"Hypothesis\" (информация о гипотезах по увеличению выручки интернет-магазина)**<a name=\"гипотезы\"></a>"
   ]
  },
  {
   "cell_type": "code",
   "execution_count": 4,
   "metadata": {
    "scrolled": false
   },
   "outputs": [
    {
     "name": "stdout",
     "output_type": "stream",
     "text": [
      "Информация о гипотезах по увеличению выручки интернет-магазина\n"
     ]
    },
    {
     "data": {
      "text/html": [
       "<div>\n",
       "<style scoped>\n",
       "    .dataframe tbody tr th:only-of-type {\n",
       "        vertical-align: middle;\n",
       "    }\n",
       "\n",
       "    .dataframe tbody tr th {\n",
       "        vertical-align: top;\n",
       "    }\n",
       "\n",
       "    .dataframe thead th {\n",
       "        text-align: right;\n",
       "    }\n",
       "</style>\n",
       "<table border=\"1\" class=\"dataframe\">\n",
       "  <thead>\n",
       "    <tr style=\"text-align: right;\">\n",
       "      <th></th>\n",
       "      <th>Hypothesis</th>\n",
       "      <th>Reach</th>\n",
       "      <th>Impact</th>\n",
       "      <th>Confidence</th>\n",
       "      <th>Efforts</th>\n",
       "    </tr>\n",
       "  </thead>\n",
       "  <tbody>\n",
       "    <tr>\n",
       "      <td>0</td>\n",
       "      <td>Добавить два новых канала привлечения трафика,...</td>\n",
       "      <td>3</td>\n",
       "      <td>10</td>\n",
       "      <td>8</td>\n",
       "      <td>6</td>\n",
       "    </tr>\n",
       "    <tr>\n",
       "      <td>1</td>\n",
       "      <td>Запустить собственную службу доставки, что сок...</td>\n",
       "      <td>2</td>\n",
       "      <td>5</td>\n",
       "      <td>4</td>\n",
       "      <td>10</td>\n",
       "    </tr>\n",
       "    <tr>\n",
       "      <td>2</td>\n",
       "      <td>Добавить блоки рекомендаций товаров на сайт ин...</td>\n",
       "      <td>8</td>\n",
       "      <td>3</td>\n",
       "      <td>7</td>\n",
       "      <td>3</td>\n",
       "    </tr>\n",
       "    <tr>\n",
       "      <td>3</td>\n",
       "      <td>Изменить структура категорий, что увеличит кон...</td>\n",
       "      <td>8</td>\n",
       "      <td>3</td>\n",
       "      <td>3</td>\n",
       "      <td>8</td>\n",
       "    </tr>\n",
       "    <tr>\n",
       "      <td>4</td>\n",
       "      <td>Изменить цвет фона главной страницы, чтобы уве...</td>\n",
       "      <td>3</td>\n",
       "      <td>1</td>\n",
       "      <td>1</td>\n",
       "      <td>1</td>\n",
       "    </tr>\n",
       "    <tr>\n",
       "      <td>5</td>\n",
       "      <td>Добавить страницу отзывов клиентов о магазине,...</td>\n",
       "      <td>3</td>\n",
       "      <td>2</td>\n",
       "      <td>2</td>\n",
       "      <td>3</td>\n",
       "    </tr>\n",
       "    <tr>\n",
       "      <td>6</td>\n",
       "      <td>Показать на главной странице баннеры с актуаль...</td>\n",
       "      <td>5</td>\n",
       "      <td>3</td>\n",
       "      <td>8</td>\n",
       "      <td>3</td>\n",
       "    </tr>\n",
       "    <tr>\n",
       "      <td>7</td>\n",
       "      <td>Добавить форму подписки на все основные страни...</td>\n",
       "      <td>10</td>\n",
       "      <td>7</td>\n",
       "      <td>8</td>\n",
       "      <td>5</td>\n",
       "    </tr>\n",
       "    <tr>\n",
       "      <td>8</td>\n",
       "      <td>Запустить акцию, дающую скидку на товар в день...</td>\n",
       "      <td>1</td>\n",
       "      <td>9</td>\n",
       "      <td>9</td>\n",
       "      <td>5</td>\n",
       "    </tr>\n",
       "  </tbody>\n",
       "</table>\n",
       "</div>"
      ],
      "text/plain": [
       "                                          Hypothesis  Reach  Impact  \\\n",
       "0  Добавить два новых канала привлечения трафика,...      3      10   \n",
       "1  Запустить собственную службу доставки, что сок...      2       5   \n",
       "2  Добавить блоки рекомендаций товаров на сайт ин...      8       3   \n",
       "3  Изменить структура категорий, что увеличит кон...      8       3   \n",
       "4  Изменить цвет фона главной страницы, чтобы уве...      3       1   \n",
       "5  Добавить страницу отзывов клиентов о магазине,...      3       2   \n",
       "6  Показать на главной странице баннеры с актуаль...      5       3   \n",
       "7  Добавить форму подписки на все основные страни...     10       7   \n",
       "8  Запустить акцию, дающую скидку на товар в день...      1       9   \n",
       "\n",
       "   Confidence  Efforts  \n",
       "0           8        6  \n",
       "1           4       10  \n",
       "2           7        3  \n",
       "3           3        8  \n",
       "4           1        1  \n",
       "5           2        3  \n",
       "6           8        3  \n",
       "7           8        5  \n",
       "8           9        5  "
      ]
     },
     "metadata": {},
     "output_type": "display_data"
    },
    {
     "name": "stdout",
     "output_type": "stream",
     "text": [
      "*************************************\n",
      "<class 'pandas.core.frame.DataFrame'>\n",
      "RangeIndex: 9 entries, 0 to 8\n",
      "Data columns (total 5 columns):\n",
      "Hypothesis    9 non-null object\n",
      "Reach         9 non-null int64\n",
      "Impact        9 non-null int64\n",
      "Confidence    9 non-null int64\n",
      "Efforts       9 non-null int64\n",
      "dtypes: int64(4), object(1)\n",
      "memory usage: 488.0+ bytes\n"
     ]
    },
    {
     "data": {
      "text/plain": [
       "None"
      ]
     },
     "metadata": {},
     "output_type": "display_data"
    },
    {
     "name": "stdout",
     "output_type": "stream",
     "text": [
      "*************************************\n",
      "Число дубликатов: 0\n",
      "*************************************\n"
     ]
    }
   ],
   "source": [
    "total_info(hypothesis, 'Информация о гипотезах по увеличению выручки интернет-магазина')"
   ]
  },
  {
   "cell_type": "markdown",
   "metadata": {},
   "source": [
    "Здесь всё отлично, данные полные, пропусков и дубликатов нет  \n",
    "\n",
    "Приведем названия столбцов к нижнему регистру"
   ]
  },
  {
   "cell_type": "code",
   "execution_count": 5,
   "metadata": {},
   "outputs": [
    {
     "data": {
      "text/html": [
       "<div>\n",
       "<style scoped>\n",
       "    .dataframe tbody tr th:only-of-type {\n",
       "        vertical-align: middle;\n",
       "    }\n",
       "\n",
       "    .dataframe tbody tr th {\n",
       "        vertical-align: top;\n",
       "    }\n",
       "\n",
       "    .dataframe thead th {\n",
       "        text-align: right;\n",
       "    }\n",
       "</style>\n",
       "<table border=\"1\" class=\"dataframe\">\n",
       "  <thead>\n",
       "    <tr style=\"text-align: right;\">\n",
       "      <th></th>\n",
       "      <th>hypothesis</th>\n",
       "      <th>reach</th>\n",
       "      <th>impact</th>\n",
       "      <th>confidence</th>\n",
       "      <th>efforts</th>\n",
       "    </tr>\n",
       "  </thead>\n",
       "  <tbody>\n",
       "    <tr>\n",
       "      <td>0</td>\n",
       "      <td>Добавить два новых канала привлечения трафика,...</td>\n",
       "      <td>3</td>\n",
       "      <td>10</td>\n",
       "      <td>8</td>\n",
       "      <td>6</td>\n",
       "    </tr>\n",
       "    <tr>\n",
       "      <td>1</td>\n",
       "      <td>Запустить собственную службу доставки, что сок...</td>\n",
       "      <td>2</td>\n",
       "      <td>5</td>\n",
       "      <td>4</td>\n",
       "      <td>10</td>\n",
       "    </tr>\n",
       "    <tr>\n",
       "      <td>2</td>\n",
       "      <td>Добавить блоки рекомендаций товаров на сайт ин...</td>\n",
       "      <td>8</td>\n",
       "      <td>3</td>\n",
       "      <td>7</td>\n",
       "      <td>3</td>\n",
       "    </tr>\n",
       "    <tr>\n",
       "      <td>3</td>\n",
       "      <td>Изменить структура категорий, что увеличит кон...</td>\n",
       "      <td>8</td>\n",
       "      <td>3</td>\n",
       "      <td>3</td>\n",
       "      <td>8</td>\n",
       "    </tr>\n",
       "    <tr>\n",
       "      <td>4</td>\n",
       "      <td>Изменить цвет фона главной страницы, чтобы уве...</td>\n",
       "      <td>3</td>\n",
       "      <td>1</td>\n",
       "      <td>1</td>\n",
       "      <td>1</td>\n",
       "    </tr>\n",
       "  </tbody>\n",
       "</table>\n",
       "</div>"
      ],
      "text/plain": [
       "                                          hypothesis  reach  impact  \\\n",
       "0  Добавить два новых канала привлечения трафика,...      3      10   \n",
       "1  Запустить собственную службу доставки, что сок...      2       5   \n",
       "2  Добавить блоки рекомендаций товаров на сайт ин...      8       3   \n",
       "3  Изменить структура категорий, что увеличит кон...      8       3   \n",
       "4  Изменить цвет фона главной страницы, чтобы уве...      3       1   \n",
       "\n",
       "   confidence  efforts  \n",
       "0           8        6  \n",
       "1           4       10  \n",
       "2           7        3  \n",
       "3           3        8  \n",
       "4           1        1  "
      ]
     },
     "execution_count": 5,
     "metadata": {},
     "output_type": "execute_result"
    }
   ],
   "source": [
    "hypothesis.columns = hypothesis.columns.str.lower()\n",
    "# посмотрим на обновленный датафрейм\n",
    "hypothesis.head()"
   ]
  },
  {
   "cell_type": "markdown",
   "metadata": {},
   "source": [
    "**Датафрейм \"Orders\" (информация о заказах)**<a name=\"заказы\"></a>"
   ]
  },
  {
   "cell_type": "code",
   "execution_count": 6,
   "metadata": {
    "scrolled": false
   },
   "outputs": [
    {
     "name": "stdout",
     "output_type": "stream",
     "text": [
      "Информация о заказах\n"
     ]
    },
    {
     "data": {
      "text/html": [
       "<div>\n",
       "<style scoped>\n",
       "    .dataframe tbody tr th:only-of-type {\n",
       "        vertical-align: middle;\n",
       "    }\n",
       "\n",
       "    .dataframe tbody tr th {\n",
       "        vertical-align: top;\n",
       "    }\n",
       "\n",
       "    .dataframe thead th {\n",
       "        text-align: right;\n",
       "    }\n",
       "</style>\n",
       "<table border=\"1\" class=\"dataframe\">\n",
       "  <thead>\n",
       "    <tr style=\"text-align: right;\">\n",
       "      <th></th>\n",
       "      <th>transactionId</th>\n",
       "      <th>visitorId</th>\n",
       "      <th>date</th>\n",
       "      <th>revenue</th>\n",
       "      <th>group</th>\n",
       "    </tr>\n",
       "  </thead>\n",
       "  <tbody>\n",
       "    <tr>\n",
       "      <td>0</td>\n",
       "      <td>3667963787</td>\n",
       "      <td>3312258926</td>\n",
       "      <td>2019-08-15</td>\n",
       "      <td>1650</td>\n",
       "      <td>B</td>\n",
       "    </tr>\n",
       "    <tr>\n",
       "      <td>1</td>\n",
       "      <td>2804400009</td>\n",
       "      <td>3642806036</td>\n",
       "      <td>2019-08-15</td>\n",
       "      <td>730</td>\n",
       "      <td>B</td>\n",
       "    </tr>\n",
       "    <tr>\n",
       "      <td>2</td>\n",
       "      <td>2961555356</td>\n",
       "      <td>4069496402</td>\n",
       "      <td>2019-08-15</td>\n",
       "      <td>400</td>\n",
       "      <td>A</td>\n",
       "    </tr>\n",
       "    <tr>\n",
       "      <td>3</td>\n",
       "      <td>3797467345</td>\n",
       "      <td>1196621759</td>\n",
       "      <td>2019-08-15</td>\n",
       "      <td>9759</td>\n",
       "      <td>B</td>\n",
       "    </tr>\n",
       "    <tr>\n",
       "      <td>4</td>\n",
       "      <td>2282983706</td>\n",
       "      <td>2322279887</td>\n",
       "      <td>2019-08-15</td>\n",
       "      <td>2308</td>\n",
       "      <td>B</td>\n",
       "    </tr>\n",
       "    <tr>\n",
       "      <td>5</td>\n",
       "      <td>182168103</td>\n",
       "      <td>935554773</td>\n",
       "      <td>2019-08-15</td>\n",
       "      <td>2210</td>\n",
       "      <td>B</td>\n",
       "    </tr>\n",
       "    <tr>\n",
       "      <td>6</td>\n",
       "      <td>398296753</td>\n",
       "      <td>2900797465</td>\n",
       "      <td>2019-08-15</td>\n",
       "      <td>1860</td>\n",
       "      <td>B</td>\n",
       "    </tr>\n",
       "    <tr>\n",
       "      <td>7</td>\n",
       "      <td>2626614568</td>\n",
       "      <td>78758296</td>\n",
       "      <td>2019-08-15</td>\n",
       "      <td>1044</td>\n",
       "      <td>A</td>\n",
       "    </tr>\n",
       "    <tr>\n",
       "      <td>8</td>\n",
       "      <td>1576988021</td>\n",
       "      <td>295230930</td>\n",
       "      <td>2019-08-15</td>\n",
       "      <td>13710</td>\n",
       "      <td>A</td>\n",
       "    </tr>\n",
       "    <tr>\n",
       "      <td>9</td>\n",
       "      <td>1506739906</td>\n",
       "      <td>1882260405</td>\n",
       "      <td>2019-08-15</td>\n",
       "      <td>1855</td>\n",
       "      <td>B</td>\n",
       "    </tr>\n",
       "  </tbody>\n",
       "</table>\n",
       "</div>"
      ],
      "text/plain": [
       "   transactionId   visitorId        date  revenue group\n",
       "0     3667963787  3312258926  2019-08-15     1650     B\n",
       "1     2804400009  3642806036  2019-08-15      730     B\n",
       "2     2961555356  4069496402  2019-08-15      400     A\n",
       "3     3797467345  1196621759  2019-08-15     9759     B\n",
       "4     2282983706  2322279887  2019-08-15     2308     B\n",
       "5      182168103   935554773  2019-08-15     2210     B\n",
       "6      398296753  2900797465  2019-08-15     1860     B\n",
       "7     2626614568    78758296  2019-08-15     1044     A\n",
       "8     1576988021   295230930  2019-08-15    13710     A\n",
       "9     1506739906  1882260405  2019-08-15     1855     B"
      ]
     },
     "metadata": {},
     "output_type": "display_data"
    },
    {
     "name": "stdout",
     "output_type": "stream",
     "text": [
      "*************************************\n",
      "<class 'pandas.core.frame.DataFrame'>\n",
      "RangeIndex: 1197 entries, 0 to 1196\n",
      "Data columns (total 5 columns):\n",
      "transactionId    1197 non-null int64\n",
      "visitorId        1197 non-null int64\n",
      "date             1197 non-null object\n",
      "revenue          1197 non-null int64\n",
      "group            1197 non-null object\n",
      "dtypes: int64(3), object(2)\n",
      "memory usage: 46.9+ KB\n"
     ]
    },
    {
     "data": {
      "text/plain": [
       "None"
      ]
     },
     "metadata": {},
     "output_type": "display_data"
    },
    {
     "name": "stdout",
     "output_type": "stream",
     "text": [
      "*************************************\n",
      "Число дубликатов: 0\n",
      "*************************************\n"
     ]
    }
   ],
   "source": [
    "total_info(orders, 'Информация о заказах')"
   ]
  },
  {
   "cell_type": "markdown",
   "metadata": {},
   "source": [
    "Данные полные, пропусков и дубликатов нет.   \n",
    "\n",
    "Для дальнейшей работы приведем столбец содержащий даты 'date' к типу datetime (сейчас они имеют тип object) и переименуем колонки 'transactionId' и 'visitorId'"
   ]
  },
  {
   "cell_type": "code",
   "execution_count": 7,
   "metadata": {},
   "outputs": [],
   "source": [
    "# приведем данные с датами к типу datetime\n",
    "orders['date'] = orders['date'].map(lambda x: dt.datetime.strptime(x, '%Y-%m-%d'))"
   ]
  },
  {
   "cell_type": "code",
   "execution_count": 8,
   "metadata": {},
   "outputs": [],
   "source": [
    "# переименуем колонки\n",
    "orders = orders.rename(columns={'transactionId': 'transaction_id', 'visitorId': 'visitor_id'})"
   ]
  },
  {
   "cell_type": "code",
   "execution_count": 9,
   "metadata": {
    "scrolled": true
   },
   "outputs": [
    {
     "data": {
      "text/html": [
       "<div>\n",
       "<style scoped>\n",
       "    .dataframe tbody tr th:only-of-type {\n",
       "        vertical-align: middle;\n",
       "    }\n",
       "\n",
       "    .dataframe tbody tr th {\n",
       "        vertical-align: top;\n",
       "    }\n",
       "\n",
       "    .dataframe thead th {\n",
       "        text-align: right;\n",
       "    }\n",
       "</style>\n",
       "<table border=\"1\" class=\"dataframe\">\n",
       "  <thead>\n",
       "    <tr style=\"text-align: right;\">\n",
       "      <th></th>\n",
       "      <th>transaction_id</th>\n",
       "      <th>visitor_id</th>\n",
       "      <th>date</th>\n",
       "      <th>revenue</th>\n",
       "      <th>group</th>\n",
       "    </tr>\n",
       "  </thead>\n",
       "  <tbody>\n",
       "    <tr>\n",
       "      <td>0</td>\n",
       "      <td>3667963787</td>\n",
       "      <td>3312258926</td>\n",
       "      <td>2019-08-15</td>\n",
       "      <td>1650</td>\n",
       "      <td>B</td>\n",
       "    </tr>\n",
       "    <tr>\n",
       "      <td>1</td>\n",
       "      <td>2804400009</td>\n",
       "      <td>3642806036</td>\n",
       "      <td>2019-08-15</td>\n",
       "      <td>730</td>\n",
       "      <td>B</td>\n",
       "    </tr>\n",
       "    <tr>\n",
       "      <td>2</td>\n",
       "      <td>2961555356</td>\n",
       "      <td>4069496402</td>\n",
       "      <td>2019-08-15</td>\n",
       "      <td>400</td>\n",
       "      <td>A</td>\n",
       "    </tr>\n",
       "    <tr>\n",
       "      <td>3</td>\n",
       "      <td>3797467345</td>\n",
       "      <td>1196621759</td>\n",
       "      <td>2019-08-15</td>\n",
       "      <td>9759</td>\n",
       "      <td>B</td>\n",
       "    </tr>\n",
       "    <tr>\n",
       "      <td>4</td>\n",
       "      <td>2282983706</td>\n",
       "      <td>2322279887</td>\n",
       "      <td>2019-08-15</td>\n",
       "      <td>2308</td>\n",
       "      <td>B</td>\n",
       "    </tr>\n",
       "  </tbody>\n",
       "</table>\n",
       "</div>"
      ],
      "text/plain": [
       "   transaction_id  visitor_id       date  revenue group\n",
       "0      3667963787  3312258926 2019-08-15     1650     B\n",
       "1      2804400009  3642806036 2019-08-15      730     B\n",
       "2      2961555356  4069496402 2019-08-15      400     A\n",
       "3      3797467345  1196621759 2019-08-15     9759     B\n",
       "4      2282983706  2322279887 2019-08-15     2308     B"
      ]
     },
     "execution_count": 9,
     "metadata": {},
     "output_type": "execute_result"
    }
   ],
   "source": [
    "# посмотрим на обновленный датафрейм\n",
    "orders.head()"
   ]
  },
  {
   "cell_type": "markdown",
   "metadata": {},
   "source": [
    "**Датафрейм \"Visitors\" (информация о пользователях)**<a name=\"пользователи\"></a>"
   ]
  },
  {
   "cell_type": "code",
   "execution_count": 10,
   "metadata": {
    "scrolled": false
   },
   "outputs": [
    {
     "name": "stdout",
     "output_type": "stream",
     "text": [
      "Информация о пользователях\n"
     ]
    },
    {
     "data": {
      "text/html": [
       "<div>\n",
       "<style scoped>\n",
       "    .dataframe tbody tr th:only-of-type {\n",
       "        vertical-align: middle;\n",
       "    }\n",
       "\n",
       "    .dataframe tbody tr th {\n",
       "        vertical-align: top;\n",
       "    }\n",
       "\n",
       "    .dataframe thead th {\n",
       "        text-align: right;\n",
       "    }\n",
       "</style>\n",
       "<table border=\"1\" class=\"dataframe\">\n",
       "  <thead>\n",
       "    <tr style=\"text-align: right;\">\n",
       "      <th></th>\n",
       "      <th>date</th>\n",
       "      <th>group</th>\n",
       "      <th>visitors</th>\n",
       "    </tr>\n",
       "  </thead>\n",
       "  <tbody>\n",
       "    <tr>\n",
       "      <td>0</td>\n",
       "      <td>2019-08-01</td>\n",
       "      <td>A</td>\n",
       "      <td>719</td>\n",
       "    </tr>\n",
       "    <tr>\n",
       "      <td>1</td>\n",
       "      <td>2019-08-02</td>\n",
       "      <td>A</td>\n",
       "      <td>619</td>\n",
       "    </tr>\n",
       "    <tr>\n",
       "      <td>2</td>\n",
       "      <td>2019-08-03</td>\n",
       "      <td>A</td>\n",
       "      <td>507</td>\n",
       "    </tr>\n",
       "    <tr>\n",
       "      <td>3</td>\n",
       "      <td>2019-08-04</td>\n",
       "      <td>A</td>\n",
       "      <td>717</td>\n",
       "    </tr>\n",
       "    <tr>\n",
       "      <td>4</td>\n",
       "      <td>2019-08-05</td>\n",
       "      <td>A</td>\n",
       "      <td>756</td>\n",
       "    </tr>\n",
       "    <tr>\n",
       "      <td>5</td>\n",
       "      <td>2019-08-06</td>\n",
       "      <td>A</td>\n",
       "      <td>667</td>\n",
       "    </tr>\n",
       "    <tr>\n",
       "      <td>6</td>\n",
       "      <td>2019-08-07</td>\n",
       "      <td>A</td>\n",
       "      <td>644</td>\n",
       "    </tr>\n",
       "    <tr>\n",
       "      <td>7</td>\n",
       "      <td>2019-08-08</td>\n",
       "      <td>A</td>\n",
       "      <td>610</td>\n",
       "    </tr>\n",
       "    <tr>\n",
       "      <td>8</td>\n",
       "      <td>2019-08-09</td>\n",
       "      <td>A</td>\n",
       "      <td>617</td>\n",
       "    </tr>\n",
       "    <tr>\n",
       "      <td>9</td>\n",
       "      <td>2019-08-10</td>\n",
       "      <td>A</td>\n",
       "      <td>406</td>\n",
       "    </tr>\n",
       "  </tbody>\n",
       "</table>\n",
       "</div>"
      ],
      "text/plain": [
       "         date group  visitors\n",
       "0  2019-08-01     A       719\n",
       "1  2019-08-02     A       619\n",
       "2  2019-08-03     A       507\n",
       "3  2019-08-04     A       717\n",
       "4  2019-08-05     A       756\n",
       "5  2019-08-06     A       667\n",
       "6  2019-08-07     A       644\n",
       "7  2019-08-08     A       610\n",
       "8  2019-08-09     A       617\n",
       "9  2019-08-10     A       406"
      ]
     },
     "metadata": {},
     "output_type": "display_data"
    },
    {
     "name": "stdout",
     "output_type": "stream",
     "text": [
      "*************************************\n",
      "<class 'pandas.core.frame.DataFrame'>\n",
      "RangeIndex: 62 entries, 0 to 61\n",
      "Data columns (total 3 columns):\n",
      "date        62 non-null object\n",
      "group       62 non-null object\n",
      "visitors    62 non-null int64\n",
      "dtypes: int64(1), object(2)\n",
      "memory usage: 1.6+ KB\n"
     ]
    },
    {
     "data": {
      "text/plain": [
       "None"
      ]
     },
     "metadata": {},
     "output_type": "display_data"
    },
    {
     "name": "stdout",
     "output_type": "stream",
     "text": [
      "*************************************\n",
      "Число дубликатов: 0\n",
      "*************************************\n"
     ]
    }
   ],
   "source": [
    "total_info(visitors, 'Информация о пользователях')"
   ]
  },
  {
   "cell_type": "markdown",
   "metadata": {},
   "source": [
    "Данные полные, пропусков и дубликатов нет.   \n",
    "\n",
    "Для дальнейшей работы приведем столбец содержащий даты 'date' к типу datetime (сейчас они имеют тип object)"
   ]
  },
  {
   "cell_type": "code",
   "execution_count": 11,
   "metadata": {},
   "outputs": [],
   "source": [
    "# приведем данные с датами к типу datetime\n",
    "visitors['date'] = visitors['date'].map(lambda x: dt.datetime.strptime(x, '%Y-%m-%d'))"
   ]
  },
  {
   "cell_type": "code",
   "execution_count": 12,
   "metadata": {},
   "outputs": [
    {
     "data": {
      "text/html": [
       "<div>\n",
       "<style scoped>\n",
       "    .dataframe tbody tr th:only-of-type {\n",
       "        vertical-align: middle;\n",
       "    }\n",
       "\n",
       "    .dataframe tbody tr th {\n",
       "        vertical-align: top;\n",
       "    }\n",
       "\n",
       "    .dataframe thead th {\n",
       "        text-align: right;\n",
       "    }\n",
       "</style>\n",
       "<table border=\"1\" class=\"dataframe\">\n",
       "  <thead>\n",
       "    <tr style=\"text-align: right;\">\n",
       "      <th></th>\n",
       "      <th>date</th>\n",
       "      <th>group</th>\n",
       "      <th>visitors</th>\n",
       "    </tr>\n",
       "  </thead>\n",
       "  <tbody>\n",
       "    <tr>\n",
       "      <td>57</td>\n",
       "      <td>2019-08-27</td>\n",
       "      <td>B</td>\n",
       "      <td>720</td>\n",
       "    </tr>\n",
       "    <tr>\n",
       "      <td>58</td>\n",
       "      <td>2019-08-28</td>\n",
       "      <td>B</td>\n",
       "      <td>654</td>\n",
       "    </tr>\n",
       "    <tr>\n",
       "      <td>59</td>\n",
       "      <td>2019-08-29</td>\n",
       "      <td>B</td>\n",
       "      <td>531</td>\n",
       "    </tr>\n",
       "    <tr>\n",
       "      <td>60</td>\n",
       "      <td>2019-08-30</td>\n",
       "      <td>B</td>\n",
       "      <td>490</td>\n",
       "    </tr>\n",
       "    <tr>\n",
       "      <td>61</td>\n",
       "      <td>2019-08-31</td>\n",
       "      <td>B</td>\n",
       "      <td>718</td>\n",
       "    </tr>\n",
       "  </tbody>\n",
       "</table>\n",
       "</div>"
      ],
      "text/plain": [
       "         date group  visitors\n",
       "57 2019-08-27     B       720\n",
       "58 2019-08-28     B       654\n",
       "59 2019-08-29     B       531\n",
       "60 2019-08-30     B       490\n",
       "61 2019-08-31     B       718"
      ]
     },
     "execution_count": 12,
     "metadata": {},
     "output_type": "execute_result"
    }
   ],
   "source": [
    "# посмотрим на обновленный датафрейм\n",
    "visitors.tail()"
   ]
  },
  {
   "cell_type": "markdown",
   "metadata": {},
   "source": [
    "**Вывод:** \n",
    "* данные полные, пропусков и дубликатов нет.\n",
    "\n",
    "* у столбцов, содержащих даты изменили дип данных на datetime.     \n",
    "* привели названия столбцов к единому формату.\n"
   ]
  },
  {
   "cell_type": "markdown",
   "metadata": {},
   "source": [
    "## 3. Приоритизация гипотез <a name=\"ГИП\"></a>"
   ]
  },
  {
   "cell_type": "markdown",
   "metadata": {},
   "source": [
    "**Применим фреймворк ICE для приоритизации гипотез**<a name=\"АЙС\"></a>"
   ]
  },
  {
   "cell_type": "markdown",
   "metadata": {},
   "source": [
    "Посчитаем ICE для гипотез и добавим полученные значения ICE к существующей таблице."
   ]
  },
  {
   "cell_type": "code",
   "execution_count": 13,
   "metadata": {},
   "outputs": [
    {
     "data": {
      "text/html": [
       "<div>\n",
       "<style scoped>\n",
       "    .dataframe tbody tr th:only-of-type {\n",
       "        vertical-align: middle;\n",
       "    }\n",
       "\n",
       "    .dataframe tbody tr th {\n",
       "        vertical-align: top;\n",
       "    }\n",
       "\n",
       "    .dataframe thead th {\n",
       "        text-align: right;\n",
       "    }\n",
       "</style>\n",
       "<table border=\"1\" class=\"dataframe\">\n",
       "  <thead>\n",
       "    <tr style=\"text-align: right;\">\n",
       "      <th></th>\n",
       "      <th>hypothesis</th>\n",
       "      <th>reach</th>\n",
       "      <th>impact</th>\n",
       "      <th>confidence</th>\n",
       "      <th>efforts</th>\n",
       "      <th>ICE</th>\n",
       "    </tr>\n",
       "  </thead>\n",
       "  <tbody>\n",
       "    <tr>\n",
       "      <td>0</td>\n",
       "      <td>Добавить два новых канала привлечения трафика,...</td>\n",
       "      <td>3</td>\n",
       "      <td>10</td>\n",
       "      <td>8</td>\n",
       "      <td>6</td>\n",
       "      <td>13.3</td>\n",
       "    </tr>\n",
       "    <tr>\n",
       "      <td>1</td>\n",
       "      <td>Запустить собственную службу доставки, что сок...</td>\n",
       "      <td>2</td>\n",
       "      <td>5</td>\n",
       "      <td>4</td>\n",
       "      <td>10</td>\n",
       "      <td>2.0</td>\n",
       "    </tr>\n",
       "    <tr>\n",
       "      <td>2</td>\n",
       "      <td>Добавить блоки рекомендаций товаров на сайт ин...</td>\n",
       "      <td>8</td>\n",
       "      <td>3</td>\n",
       "      <td>7</td>\n",
       "      <td>3</td>\n",
       "      <td>7.0</td>\n",
       "    </tr>\n",
       "    <tr>\n",
       "      <td>3</td>\n",
       "      <td>Изменить структура категорий, что увеличит кон...</td>\n",
       "      <td>8</td>\n",
       "      <td>3</td>\n",
       "      <td>3</td>\n",
       "      <td>8</td>\n",
       "      <td>1.1</td>\n",
       "    </tr>\n",
       "    <tr>\n",
       "      <td>4</td>\n",
       "      <td>Изменить цвет фона главной страницы, чтобы уве...</td>\n",
       "      <td>3</td>\n",
       "      <td>1</td>\n",
       "      <td>1</td>\n",
       "      <td>1</td>\n",
       "      <td>1.0</td>\n",
       "    </tr>\n",
       "  </tbody>\n",
       "</table>\n",
       "</div>"
      ],
      "text/plain": [
       "                                          hypothesis  reach  impact  \\\n",
       "0  Добавить два новых канала привлечения трафика,...      3      10   \n",
       "1  Запустить собственную службу доставки, что сок...      2       5   \n",
       "2  Добавить блоки рекомендаций товаров на сайт ин...      8       3   \n",
       "3  Изменить структура категорий, что увеличит кон...      8       3   \n",
       "4  Изменить цвет фона главной страницы, чтобы уве...      3       1   \n",
       "\n",
       "   confidence  efforts   ICE  \n",
       "0           8        6  13.3  \n",
       "1           4       10   2.0  \n",
       "2           7        3   7.0  \n",
       "3           3        8   1.1  \n",
       "4           1        1   1.0  "
      ]
     },
     "execution_count": 13,
     "metadata": {},
     "output_type": "execute_result"
    }
   ],
   "source": [
    "hypothesis['ICE'] = ((hypothesis['impact'] * hypothesis['confidence']) / hypothesis['efforts'])\n",
    "hypothesis['ICE'] = hypothesis['ICE'].apply(lambda x: '{:.1f}'.format(x))\n",
    "hypothesis['ICE'] = hypothesis['ICE'].astype('float')\n",
    "hypothesis.head()"
   ]
  },
  {
   "cell_type": "code",
   "execution_count": 14,
   "metadata": {
    "scrolled": true
   },
   "outputs": [
    {
     "data": {
      "text/html": [
       "<style  type=\"text/css\" >\n",
       "    #T_1fd7a216_19fe_11eb_b855_02420a391259row0_col1 {\n",
       "            width:  10em;\n",
       "             height:  80%;\n",
       "            background:  linear-gradient(90deg,#d65f5f 100.0%, transparent 100.0%);\n",
       "        }    #T_1fd7a216_19fe_11eb_b855_02420a391259row1_col1 {\n",
       "            width:  10em;\n",
       "             height:  80%;\n",
       "            background:  linear-gradient(90deg,#d65f5f 82.1%, transparent 82.1%);\n",
       "        }    #T_1fd7a216_19fe_11eb_b855_02420a391259row2_col1 {\n",
       "            width:  10em;\n",
       "             height:  80%;\n",
       "            background:  linear-gradient(90deg,#d65f5f 69.1%, transparent 69.1%);\n",
       "        }    #T_1fd7a216_19fe_11eb_b855_02420a391259row3_col1 {\n",
       "            width:  10em;\n",
       "             height:  80%;\n",
       "            background:  linear-gradient(90deg,#d65f5f 49.4%, transparent 49.4%);\n",
       "        }    #T_1fd7a216_19fe_11eb_b855_02420a391259row4_col1 {\n",
       "            width:  10em;\n",
       "             height:  80%;\n",
       "            background:  linear-gradient(90deg,#d65f5f 43.2%, transparent 43.2%);\n",
       "        }    #T_1fd7a216_19fe_11eb_b855_02420a391259row5_col1 {\n",
       "            width:  10em;\n",
       "             height:  80%;\n",
       "            background:  linear-gradient(90deg,#d65f5f 12.3%, transparent 12.3%);\n",
       "        }    #T_1fd7a216_19fe_11eb_b855_02420a391259row6_col1 {\n",
       "            width:  10em;\n",
       "             height:  80%;\n",
       "            background:  linear-gradient(90deg,#d65f5f 8.0%, transparent 8.0%);\n",
       "        }    #T_1fd7a216_19fe_11eb_b855_02420a391259row7_col1 {\n",
       "            width:  10em;\n",
       "             height:  80%;\n",
       "            background:  linear-gradient(90deg,#d65f5f 6.8%, transparent 6.8%);\n",
       "        }    #T_1fd7a216_19fe_11eb_b855_02420a391259row8_col1 {\n",
       "            width:  10em;\n",
       "             height:  80%;\n",
       "            background:  linear-gradient(90deg,#d65f5f 6.2%, transparent 6.2%);\n",
       "        }</style><table id=\"T_1fd7a216_19fe_11eb_b855_02420a391259\" ><caption>Приоритизация гипотез с помощью фреймворка ICE</caption><thead>    <tr>        <th class=\"blank level0\" ></th>        <th class=\"col_heading level0 col0\" >hypothesis</th>        <th class=\"col_heading level0 col1\" >ICE</th>    </tr></thead><tbody>\n",
       "                <tr>\n",
       "                        <th id=\"T_1fd7a216_19fe_11eb_b855_02420a391259level0_row0\" class=\"row_heading level0 row0\" >8</th>\n",
       "                        <td id=\"T_1fd7a216_19fe_11eb_b855_02420a391259row0_col0\" class=\"data row0 col0\" >Запустить акцию, дающую скидку на товар в день рождения</td>\n",
       "                        <td id=\"T_1fd7a216_19fe_11eb_b855_02420a391259row0_col1\" class=\"data row0 col1\" >16.2</td>\n",
       "            </tr>\n",
       "            <tr>\n",
       "                        <th id=\"T_1fd7a216_19fe_11eb_b855_02420a391259level0_row1\" class=\"row_heading level0 row1\" >0</th>\n",
       "                        <td id=\"T_1fd7a216_19fe_11eb_b855_02420a391259row1_col0\" class=\"data row1 col0\" >Добавить два новых канала привлечения трафика, что позволит привлекать на 30% больше пользователей</td>\n",
       "                        <td id=\"T_1fd7a216_19fe_11eb_b855_02420a391259row1_col1\" class=\"data row1 col1\" >13.3</td>\n",
       "            </tr>\n",
       "            <tr>\n",
       "                        <th id=\"T_1fd7a216_19fe_11eb_b855_02420a391259level0_row2\" class=\"row_heading level0 row2\" >7</th>\n",
       "                        <td id=\"T_1fd7a216_19fe_11eb_b855_02420a391259row2_col0\" class=\"data row2 col0\" >Добавить форму подписки на все основные страницы, чтобы собрать базу клиентов для email-рассылок</td>\n",
       "                        <td id=\"T_1fd7a216_19fe_11eb_b855_02420a391259row2_col1\" class=\"data row2 col1\" >11.2</td>\n",
       "            </tr>\n",
       "            <tr>\n",
       "                        <th id=\"T_1fd7a216_19fe_11eb_b855_02420a391259level0_row3\" class=\"row_heading level0 row3\" >6</th>\n",
       "                        <td id=\"T_1fd7a216_19fe_11eb_b855_02420a391259row3_col0\" class=\"data row3 col0\" >Показать на главной странице баннеры с актуальными акциями и распродажами, чтобы увеличить конверсию</td>\n",
       "                        <td id=\"T_1fd7a216_19fe_11eb_b855_02420a391259row3_col1\" class=\"data row3 col1\" >8</td>\n",
       "            </tr>\n",
       "            <tr>\n",
       "                        <th id=\"T_1fd7a216_19fe_11eb_b855_02420a391259level0_row4\" class=\"row_heading level0 row4\" >2</th>\n",
       "                        <td id=\"T_1fd7a216_19fe_11eb_b855_02420a391259row4_col0\" class=\"data row4 col0\" >Добавить блоки рекомендаций товаров на сайт интернет магазина, чтобы повысить конверсию и средний чек заказа</td>\n",
       "                        <td id=\"T_1fd7a216_19fe_11eb_b855_02420a391259row4_col1\" class=\"data row4 col1\" >7</td>\n",
       "            </tr>\n",
       "            <tr>\n",
       "                        <th id=\"T_1fd7a216_19fe_11eb_b855_02420a391259level0_row5\" class=\"row_heading level0 row5\" >1</th>\n",
       "                        <td id=\"T_1fd7a216_19fe_11eb_b855_02420a391259row5_col0\" class=\"data row5 col0\" >Запустить собственную службу доставки, что сократит срок доставки заказов</td>\n",
       "                        <td id=\"T_1fd7a216_19fe_11eb_b855_02420a391259row5_col1\" class=\"data row5 col1\" >2</td>\n",
       "            </tr>\n",
       "            <tr>\n",
       "                        <th id=\"T_1fd7a216_19fe_11eb_b855_02420a391259level0_row6\" class=\"row_heading level0 row6\" >5</th>\n",
       "                        <td id=\"T_1fd7a216_19fe_11eb_b855_02420a391259row6_col0\" class=\"data row6 col0\" >Добавить страницу отзывов клиентов о магазине, что позволит увеличить количество заказов</td>\n",
       "                        <td id=\"T_1fd7a216_19fe_11eb_b855_02420a391259row6_col1\" class=\"data row6 col1\" >1.3</td>\n",
       "            </tr>\n",
       "            <tr>\n",
       "                        <th id=\"T_1fd7a216_19fe_11eb_b855_02420a391259level0_row7\" class=\"row_heading level0 row7\" >3</th>\n",
       "                        <td id=\"T_1fd7a216_19fe_11eb_b855_02420a391259row7_col0\" class=\"data row7 col0\" >Изменить структура категорий, что увеличит конверсию, т.к. пользователи быстрее найдут нужный товар</td>\n",
       "                        <td id=\"T_1fd7a216_19fe_11eb_b855_02420a391259row7_col1\" class=\"data row7 col1\" >1.1</td>\n",
       "            </tr>\n",
       "            <tr>\n",
       "                        <th id=\"T_1fd7a216_19fe_11eb_b855_02420a391259level0_row8\" class=\"row_heading level0 row8\" >4</th>\n",
       "                        <td id=\"T_1fd7a216_19fe_11eb_b855_02420a391259row8_col0\" class=\"data row8 col0\" >Изменить цвет фона главной страницы, чтобы увеличить вовлеченность пользователей</td>\n",
       "                        <td id=\"T_1fd7a216_19fe_11eb_b855_02420a391259row8_col1\" class=\"data row8 col1\" >1</td>\n",
       "            </tr>\n",
       "    </tbody></table>"
      ],
      "text/plain": [
       "<pandas.io.formats.style.Styler at 0x7f2f3df25fd0>"
      ]
     },
     "execution_count": 14,
     "metadata": {},
     "output_type": "execute_result"
    }
   ],
   "source": [
    "hypothesis[['hypothesis', 'ICE']].sort_values(by = 'ICE', ascending = False).style.bar(subset=['ICE'], vmin=0, width=100)\\\n",
    ".set_caption('Приоритизация гипотез с помощью фреймворка ICE')"
   ]
  },
  {
   "cell_type": "markdown",
   "metadata": {},
   "source": [
    "Наиболее перспективные гипотезы при приоритизации  способом ICE:  \n",
    "\n",
    "* **гипотеза №8:** запустить акцию, дающую скидку на товар в день рождения  \n",
    "\n",
    "* **гипотеза №0:** добавить два новых канала привлечения трафика, что позволит привлекать на 30% больше пользователей  \n",
    "\n",
    "* **гипотеза №7:** добавить форму подписки на все основные страницы, чтобы собрать базу клиентов для email-рассылок  \n"
   ]
  },
  {
   "cell_type": "markdown",
   "metadata": {},
   "source": [
    "**Применим фреймворк RICE для приоритизации гипотез**<a name=\"РАЙС\"></a>"
   ]
  },
  {
   "cell_type": "markdown",
   "metadata": {},
   "source": [
    "Посчитаем RICE для гипотез и добавим полученные значения RICE к таблице."
   ]
  },
  {
   "cell_type": "code",
   "execution_count": 15,
   "metadata": {},
   "outputs": [],
   "source": [
    "hypothesis['RICE'] = ((hypothesis['reach'] * hypothesis['impact'] * hypothesis['confidence']) / hypothesis['efforts']).round(3)"
   ]
  },
  {
   "cell_type": "code",
   "execution_count": 16,
   "metadata": {},
   "outputs": [
    {
     "data": {
      "text/html": [
       "<style  type=\"text/css\" >\n",
       "    #T_1fdeb9a2_19fe_11eb_b855_02420a391259row0_col1 {\n",
       "            width:  10em;\n",
       "             height:  80%;\n",
       "            background:  linear-gradient(90deg,#d65f5f 100.0%, transparent 100.0%);\n",
       "        }    #T_1fdeb9a2_19fe_11eb_b855_02420a391259row1_col1 {\n",
       "            width:  10em;\n",
       "             height:  80%;\n",
       "            background:  linear-gradient(90deg,#d65f5f 50.0%, transparent 50.0%);\n",
       "        }    #T_1fdeb9a2_19fe_11eb_b855_02420a391259row2_col1 {\n",
       "            width:  10em;\n",
       "             height:  80%;\n",
       "            background:  linear-gradient(90deg,#d65f5f 35.7%, transparent 35.7%);\n",
       "        }    #T_1fdeb9a2_19fe_11eb_b855_02420a391259row3_col1 {\n",
       "            width:  10em;\n",
       "             height:  80%;\n",
       "            background:  linear-gradient(90deg,#d65f5f 35.7%, transparent 35.7%);\n",
       "        }    #T_1fdeb9a2_19fe_11eb_b855_02420a391259row4_col1 {\n",
       "            width:  10em;\n",
       "             height:  80%;\n",
       "            background:  linear-gradient(90deg,#d65f5f 14.5%, transparent 14.5%);\n",
       "        }    #T_1fdeb9a2_19fe_11eb_b855_02420a391259row5_col1 {\n",
       "            width:  10em;\n",
       "             height:  80%;\n",
       "            background:  linear-gradient(90deg,#d65f5f 8.0%, transparent 8.0%);\n",
       "        }    #T_1fdeb9a2_19fe_11eb_b855_02420a391259row6_col1 {\n",
       "            width:  10em;\n",
       "             height:  80%;\n",
       "            background:  linear-gradient(90deg,#d65f5f 3.6%, transparent 3.6%);\n",
       "        }    #T_1fdeb9a2_19fe_11eb_b855_02420a391259row7_col1 {\n",
       "            width:  10em;\n",
       "             height:  80%;\n",
       "            background:  linear-gradient(90deg,#d65f5f 3.6%, transparent 3.6%);\n",
       "        }    #T_1fdeb9a2_19fe_11eb_b855_02420a391259row8_col1 {\n",
       "            width:  10em;\n",
       "             height:  80%;\n",
       "            background:  linear-gradient(90deg,#d65f5f 2.7%, transparent 2.7%);\n",
       "        }</style><table id=\"T_1fdeb9a2_19fe_11eb_b855_02420a391259\" ><caption>Приоритизация гипотез с помощью фреймворка RICE</caption><thead>    <tr>        <th class=\"blank level0\" ></th>        <th class=\"col_heading level0 col0\" >hypothesis</th>        <th class=\"col_heading level0 col1\" >RICE</th>    </tr></thead><tbody>\n",
       "                <tr>\n",
       "                        <th id=\"T_1fdeb9a2_19fe_11eb_b855_02420a391259level0_row0\" class=\"row_heading level0 row0\" >7</th>\n",
       "                        <td id=\"T_1fdeb9a2_19fe_11eb_b855_02420a391259row0_col0\" class=\"data row0 col0\" >Добавить форму подписки на все основные страницы, чтобы собрать базу клиентов для email-рассылок</td>\n",
       "                        <td id=\"T_1fdeb9a2_19fe_11eb_b855_02420a391259row0_col1\" class=\"data row0 col1\" >112</td>\n",
       "            </tr>\n",
       "            <tr>\n",
       "                        <th id=\"T_1fdeb9a2_19fe_11eb_b855_02420a391259level0_row1\" class=\"row_heading level0 row1\" >2</th>\n",
       "                        <td id=\"T_1fdeb9a2_19fe_11eb_b855_02420a391259row1_col0\" class=\"data row1 col0\" >Добавить блоки рекомендаций товаров на сайт интернет магазина, чтобы повысить конверсию и средний чек заказа</td>\n",
       "                        <td id=\"T_1fdeb9a2_19fe_11eb_b855_02420a391259row1_col1\" class=\"data row1 col1\" >56</td>\n",
       "            </tr>\n",
       "            <tr>\n",
       "                        <th id=\"T_1fdeb9a2_19fe_11eb_b855_02420a391259level0_row2\" class=\"row_heading level0 row2\" >0</th>\n",
       "                        <td id=\"T_1fdeb9a2_19fe_11eb_b855_02420a391259row2_col0\" class=\"data row2 col0\" >Добавить два новых канала привлечения трафика, что позволит привлекать на 30% больше пользователей</td>\n",
       "                        <td id=\"T_1fdeb9a2_19fe_11eb_b855_02420a391259row2_col1\" class=\"data row2 col1\" >40</td>\n",
       "            </tr>\n",
       "            <tr>\n",
       "                        <th id=\"T_1fdeb9a2_19fe_11eb_b855_02420a391259level0_row3\" class=\"row_heading level0 row3\" >6</th>\n",
       "                        <td id=\"T_1fdeb9a2_19fe_11eb_b855_02420a391259row3_col0\" class=\"data row3 col0\" >Показать на главной странице баннеры с актуальными акциями и распродажами, чтобы увеличить конверсию</td>\n",
       "                        <td id=\"T_1fdeb9a2_19fe_11eb_b855_02420a391259row3_col1\" class=\"data row3 col1\" >40</td>\n",
       "            </tr>\n",
       "            <tr>\n",
       "                        <th id=\"T_1fdeb9a2_19fe_11eb_b855_02420a391259level0_row4\" class=\"row_heading level0 row4\" >8</th>\n",
       "                        <td id=\"T_1fdeb9a2_19fe_11eb_b855_02420a391259row4_col0\" class=\"data row4 col0\" >Запустить акцию, дающую скидку на товар в день рождения</td>\n",
       "                        <td id=\"T_1fdeb9a2_19fe_11eb_b855_02420a391259row4_col1\" class=\"data row4 col1\" >16.2</td>\n",
       "            </tr>\n",
       "            <tr>\n",
       "                        <th id=\"T_1fdeb9a2_19fe_11eb_b855_02420a391259level0_row5\" class=\"row_heading level0 row5\" >3</th>\n",
       "                        <td id=\"T_1fdeb9a2_19fe_11eb_b855_02420a391259row5_col0\" class=\"data row5 col0\" >Изменить структура категорий, что увеличит конверсию, т.к. пользователи быстрее найдут нужный товар</td>\n",
       "                        <td id=\"T_1fdeb9a2_19fe_11eb_b855_02420a391259row5_col1\" class=\"data row5 col1\" >9</td>\n",
       "            </tr>\n",
       "            <tr>\n",
       "                        <th id=\"T_1fdeb9a2_19fe_11eb_b855_02420a391259level0_row6\" class=\"row_heading level0 row6\" >1</th>\n",
       "                        <td id=\"T_1fdeb9a2_19fe_11eb_b855_02420a391259row6_col0\" class=\"data row6 col0\" >Запустить собственную службу доставки, что сократит срок доставки заказов</td>\n",
       "                        <td id=\"T_1fdeb9a2_19fe_11eb_b855_02420a391259row6_col1\" class=\"data row6 col1\" >4</td>\n",
       "            </tr>\n",
       "            <tr>\n",
       "                        <th id=\"T_1fdeb9a2_19fe_11eb_b855_02420a391259level0_row7\" class=\"row_heading level0 row7\" >5</th>\n",
       "                        <td id=\"T_1fdeb9a2_19fe_11eb_b855_02420a391259row7_col0\" class=\"data row7 col0\" >Добавить страницу отзывов клиентов о магазине, что позволит увеличить количество заказов</td>\n",
       "                        <td id=\"T_1fdeb9a2_19fe_11eb_b855_02420a391259row7_col1\" class=\"data row7 col1\" >4</td>\n",
       "            </tr>\n",
       "            <tr>\n",
       "                        <th id=\"T_1fdeb9a2_19fe_11eb_b855_02420a391259level0_row8\" class=\"row_heading level0 row8\" >4</th>\n",
       "                        <td id=\"T_1fdeb9a2_19fe_11eb_b855_02420a391259row8_col0\" class=\"data row8 col0\" >Изменить цвет фона главной страницы, чтобы увеличить вовлеченность пользователей</td>\n",
       "                        <td id=\"T_1fdeb9a2_19fe_11eb_b855_02420a391259row8_col1\" class=\"data row8 col1\" >3</td>\n",
       "            </tr>\n",
       "    </tbody></table>"
      ],
      "text/plain": [
       "<pandas.io.formats.style.Styler at 0x7f2f3db3e4d0>"
      ]
     },
     "execution_count": 16,
     "metadata": {},
     "output_type": "execute_result"
    }
   ],
   "source": [
    "hypothesis[['hypothesis', 'RICE']].sort_values(by = 'RICE', ascending = False).style.bar(subset=['RICE'], vmin=0, width=100)\\\n",
    ".set_caption('Приоритизация гипотез с помощью фреймворка RICE')"
   ]
  },
  {
   "cell_type": "markdown",
   "metadata": {},
   "source": [
    "Наиболее перспективные гипотезы при приоритизации  способом RICE:  \n",
    "\n",
    "* **гипотеза №7:** добавить форму подписки на все основные страницы, чтобы собрать базу клиентов для email-рассылок  \n",
    "\n",
    "* **гипотеза №2:** добавить блоки рекомендаций товаров на сайт интернет магазина, чтобы повысить конверсию и средний чек заказа    \n",
    "* **гипотеза №0:** добавить два новых канала привлечения трафика, что позволит привлекать на 30% больше пользователей    \n",
    "\n",
    "* **гипотеза №6:** показать на главной странице баннеры с актуальными акциями и распродажами, чтобы увеличить конверсию  "
   ]
  },
  {
   "cell_type": "markdown",
   "metadata": {},
   "source": [
    "**Интерпретируем результаты приоритизации гипотез методами ICE и RICE**<a name=\"результат\"></a>"
   ]
  },
  {
   "cell_type": "code",
   "execution_count": 17,
   "metadata": {
    "scrolled": true
   },
   "outputs": [],
   "source": [
    "# присвоим гипотезам номера\n",
    "hypothesis = hypothesis.reset_index()\n",
    "hypothesis.columns = ['hypothesis_number', 'hypothesis', 'reach', 'impact', 'confidence', 'efforts', 'ICE',\n",
    "       'RICE']"
   ]
  },
  {
   "cell_type": "markdown",
   "metadata": {},
   "source": [
    "Создадим датафрейм hypothesis_ICE в котором будет содержаться информация о номере гипотезы, о значении ICE для этой гипотезы и о том насколько перспективна эта гипотеза при оценке способом ICE по шкале от 1 до 9 (ICE_points)."
   ]
  },
  {
   "cell_type": "code",
   "execution_count": 18,
   "metadata": {
    "scrolled": true
   },
   "outputs": [
    {
     "data": {
      "text/html": [
       "<div>\n",
       "<style scoped>\n",
       "    .dataframe tbody tr th:only-of-type {\n",
       "        vertical-align: middle;\n",
       "    }\n",
       "\n",
       "    .dataframe tbody tr th {\n",
       "        vertical-align: top;\n",
       "    }\n",
       "\n",
       "    .dataframe thead th {\n",
       "        text-align: right;\n",
       "    }\n",
       "</style>\n",
       "<table border=\"1\" class=\"dataframe\">\n",
       "  <thead>\n",
       "    <tr style=\"text-align: right;\">\n",
       "      <th></th>\n",
       "      <th>ICE_points</th>\n",
       "      <th>hypothesis_number</th>\n",
       "      <th>ICE</th>\n",
       "    </tr>\n",
       "  </thead>\n",
       "  <tbody>\n",
       "    <tr>\n",
       "      <td>0</td>\n",
       "      <td>1</td>\n",
       "      <td>4</td>\n",
       "      <td>1.0</td>\n",
       "    </tr>\n",
       "    <tr>\n",
       "      <td>1</td>\n",
       "      <td>2</td>\n",
       "      <td>3</td>\n",
       "      <td>1.1</td>\n",
       "    </tr>\n",
       "    <tr>\n",
       "      <td>2</td>\n",
       "      <td>3</td>\n",
       "      <td>5</td>\n",
       "      <td>1.3</td>\n",
       "    </tr>\n",
       "    <tr>\n",
       "      <td>3</td>\n",
       "      <td>4</td>\n",
       "      <td>1</td>\n",
       "      <td>2.0</td>\n",
       "    </tr>\n",
       "    <tr>\n",
       "      <td>4</td>\n",
       "      <td>5</td>\n",
       "      <td>2</td>\n",
       "      <td>7.0</td>\n",
       "    </tr>\n",
       "  </tbody>\n",
       "</table>\n",
       "</div>"
      ],
      "text/plain": [
       "   ICE_points  hypothesis_number  ICE\n",
       "0           1                  4  1.0\n",
       "1           2                  3  1.1\n",
       "2           3                  5  1.3\n",
       "3           4                  1  2.0\n",
       "4           5                  2  7.0"
      ]
     },
     "execution_count": 18,
     "metadata": {},
     "output_type": "execute_result"
    }
   ],
   "source": [
    "hypothesis_ICE = hypothesis.sort_values(by = 'ICE', ascending = True)\n",
    "hypothesis_ICE.index = range(len(hypothesis))\n",
    "hypothesis_ICE = hypothesis_ICE[['hypothesis_number', 'ICE']].reset_index()\n",
    "hypothesis_ICE.columns = ['ICE_points', 'hypothesis_number', 'ICE']\n",
    "hypothesis_ICE['ICE_points'] += 1\n",
    "hypothesis_ICE.head()"
   ]
  },
  {
   "cell_type": "markdown",
   "metadata": {},
   "source": [
    "Создадим датафрейм hypothesis_RICE в котором будет содержаться информация о номере гипотезы, о значении RICE для этой гипотезы и о том насколько перспективна эта гипотеза при оценке способом RICE по шкале от 1 до 9(RICE_points)."
   ]
  },
  {
   "cell_type": "code",
   "execution_count": 19,
   "metadata": {
    "scrolled": false
   },
   "outputs": [
    {
     "data": {
      "text/html": [
       "<div>\n",
       "<style scoped>\n",
       "    .dataframe tbody tr th:only-of-type {\n",
       "        vertical-align: middle;\n",
       "    }\n",
       "\n",
       "    .dataframe tbody tr th {\n",
       "        vertical-align: top;\n",
       "    }\n",
       "\n",
       "    .dataframe thead th {\n",
       "        text-align: right;\n",
       "    }\n",
       "</style>\n",
       "<table border=\"1\" class=\"dataframe\">\n",
       "  <thead>\n",
       "    <tr style=\"text-align: right;\">\n",
       "      <th></th>\n",
       "      <th>RICE_points</th>\n",
       "      <th>hypothesis_number</th>\n",
       "      <th>RICE</th>\n",
       "    </tr>\n",
       "  </thead>\n",
       "  <tbody>\n",
       "    <tr>\n",
       "      <td>0</td>\n",
       "      <td>1</td>\n",
       "      <td>4</td>\n",
       "      <td>3.0</td>\n",
       "    </tr>\n",
       "    <tr>\n",
       "      <td>1</td>\n",
       "      <td>2</td>\n",
       "      <td>1</td>\n",
       "      <td>4.0</td>\n",
       "    </tr>\n",
       "    <tr>\n",
       "      <td>2</td>\n",
       "      <td>3</td>\n",
       "      <td>5</td>\n",
       "      <td>4.0</td>\n",
       "    </tr>\n",
       "    <tr>\n",
       "      <td>3</td>\n",
       "      <td>4</td>\n",
       "      <td>3</td>\n",
       "      <td>9.0</td>\n",
       "    </tr>\n",
       "    <tr>\n",
       "      <td>4</td>\n",
       "      <td>5</td>\n",
       "      <td>8</td>\n",
       "      <td>16.2</td>\n",
       "    </tr>\n",
       "  </tbody>\n",
       "</table>\n",
       "</div>"
      ],
      "text/plain": [
       "   RICE_points  hypothesis_number  RICE\n",
       "0            1                  4   3.0\n",
       "1            2                  1   4.0\n",
       "2            3                  5   4.0\n",
       "3            4                  3   9.0\n",
       "4            5                  8  16.2"
      ]
     },
     "execution_count": 19,
     "metadata": {},
     "output_type": "execute_result"
    }
   ],
   "source": [
    "hypothesis_RICE = hypothesis.sort_values(by = 'RICE', ascending = True)\n",
    "hypothesis_RICE.index = range(len(hypothesis))\n",
    "hypothesis_RICE = hypothesis_RICE[['hypothesis_number', 'RICE']].reset_index()\n",
    "hypothesis_RICE.columns = ['RICE_points', 'hypothesis_number', 'RICE']\n",
    "hypothesis_RICE['RICE_points'] += 1\n",
    "hypothesis_RICE.head()"
   ]
  },
  {
   "cell_type": "markdown",
   "metadata": {},
   "source": [
    "Объединим hypothesis_ICE и hypothesis_RICE в df_total"
   ]
  },
  {
   "cell_type": "code",
   "execution_count": 20,
   "metadata": {
    "scrolled": true
   },
   "outputs": [],
   "source": [
    "df_total = hypothesis_ICE.merge(hypothesis_RICE, on='hypothesis_number').sort_values(by='RICE', ascending=False)\n",
    "df_total = df_total[['hypothesis_number', 'ICE_points', 'RICE_points']]"
   ]
  },
  {
   "cell_type": "markdown",
   "metadata": {},
   "source": [
    "Построим график, на котором отобразим насколько перспективны гипотезы при оценке способом ICE и RICE по шкале от 1 до 9 "
   ]
  },
  {
   "cell_type": "code",
   "execution_count": 21,
   "metadata": {},
   "outputs": [
    {
     "data": {
      "image/png": "[encoded data removed]",
      "text/plain": [
       "<Figure size 1080x360 with 1 Axes>"
      ]
     },
     "metadata": {
      "needs_background": "light"
     },
     "output_type": "display_data"
    }
   ],
   "source": [
    "ax = plt.gca()\n",
    "\n",
    "df_total.plot(x='hypothesis_number', y='RICE_points', kind='bar',figsize=(15,5), title = \\\n",
    "                              'Интерпретация результатов приоритизации гипотез методами ICE и RICE',\\\n",
    "              ax=ax, ec='black', width=0.2, position=0, color = 'c')\n",
    "df_total.plot(x='hypothesis_number', y='ICE_points', kind='bar',ax=ax, ec='black',\\\n",
    "                                                               width=0.2, position=1, color = 'mediumseagreen')\n",
    "\n",
    "ax.set_xlabel('Гипотезы')\n",
    "ax.set_ylabel('Приоритеты')\n",
    "plt.legend(['RICE', 'ICE']);"
   ]
  },
  {
   "cell_type": "markdown",
   "metadata": {},
   "source": [
    "Параметр охвата (reach), использующийся в методе RICE изменил всю приоритетность, полученную по методу ICE:\n",
    "\n",
    "* без учета охвата (метод ICE) на первом месте идет акция со скидкой имениннику гипотеза №8, но параметр reach=1 справедливо понизил приоритет этой акции, т.к. и правда, охват её минимальный (по сравнению с другими гипотезами увеличения выручки);\n",
    "\n",
    "* выросли в рейтинге (стали более приоритетными) RICE (по сравнению с ICE): гипотеза №7 (reach=10)о добавлении формы подписки на все основные страницы ресурса и гипотеза №2 (reach=8) о добавлении блоков рекомендаций товаров на сайт интернет магазина, чтобы повысить конверсию и средний чек заказа."
   ]
  },
  {
   "cell_type": "markdown",
   "metadata": {},
   "source": [
    "**Вывод:**   \n",
    "Так как при использовании фреймворка RICE учитывается охват изменений (это важная составляющая оценки гипотез) будем опираться на результаты этого метода приоритизации и выделим следующие гипотезы для увеличения выручки:    \n",
    "\n",
    "* **гипотеза №7:** добавить форму подписки на все основные страницы, чтобы собрать базу клиентов для email-рассылок  \n",
    "\n",
    "* **гипотеза №2:** добавить блоки рекомендаций товаров на сайт интернет магазина, чтобы повысить конверсию и средний чек заказа    \n",
    "* **гипотеза №0:** добавить два новых канала привлечения трафика, что позволит привлекать на 30% больше пользователей    \n",
    "\n",
    "* **гипотеза №6:** показать на главной странице баннеры с актуальными акциями и распродажами, чтобы увеличить конверсию  \n",
    "\n"
   ]
  },
  {
   "cell_type": "markdown",
   "metadata": {},
   "source": [
    "## 4. Построение графиков кумулятивных метрик <a name=\"кум\"></a>"
   ]
  },
  {
   "cell_type": "markdown",
   "metadata": {},
   "source": [
    "Проверим корректность разделения пользователей на группы, нет ли у нас пользователей, которые попали и в группу А и в группу В"
   ]
  },
  {
   "cell_type": "code",
   "execution_count": 22,
   "metadata": {
    "scrolled": true
   },
   "outputs": [
    {
     "name": "stdout",
     "output_type": "stream",
     "text": [
      "Процент пользователей, которые попали в две группы: 5.63%\n",
      "Количество пользователей, которые попали в две группы: 58\n"
     ]
    }
   ],
   "source": [
    "print('Процент пользователей, которые попали в две группы: {:.2%}'.\\\n",
    "      format(orders.groupby('visitor_id')['group'].nunique().mean()-1))\n",
    "print('Количество пользователей, которые попали в две группы:',\\\n",
    "      orders.groupby('visitor_id').agg({'group' : 'nunique'}).query('group > 1').shape[0])"
   ]
  },
  {
   "cell_type": "markdown",
   "metadata": {},
   "source": [
    "Можно предположить, что это какие-нибудь тестовые пользователи.   \n",
    "Например, человек, который заводил тест, может сам себя перекинуть из одной группы в другую, чтобы убедиться, что все работает как надо, так как их менее 6% оставим их без изменений \n",
    "(преподаватель посоветовал их не удалять, но указать в выводах на этот факт)"
   ]
  },
  {
   "cell_type": "markdown",
   "metadata": {},
   "source": [
    "**Построим график куммулятивной выручки по группам**<a name=\"кумвыр\"></a>"
   ]
  },
  {
   "cell_type": "markdown",
   "metadata": {},
   "source": [
    "Чтобы нагляднее увидеть разницу между группами, строят график относительного различия. Чтобы построить графики, нужно собрать кумулятивные данные. "
   ]
  },
  {
   "cell_type": "code",
   "execution_count": 23,
   "metadata": {},
   "outputs": [],
   "source": [
    "# создаем массив уникальных пар значений дат и групп теста\n",
    "datesGroups = orders[['date','group']].drop_duplicates()"
   ]
  },
  {
   "cell_type": "markdown",
   "metadata": {},
   "source": [
    "Агрегируем значения. Вычислим максимальную дату. Для группы тоже рассчитаем максимум, и хотя она будет определённой, сделаем это, чтобы столбец 'group' не пропал из итогового вывода. Найдём число уникальных ID заказов и пользователей. Подсчитаем сумму средних чеков"
   ]
  },
  {
   "cell_type": "code",
   "execution_count": 24,
   "metadata": {},
   "outputs": [],
   "source": [
    "# получаем агрегированные кумулятивные по дням данные о заказах \n",
    "ordersAggregated = datesGroups\\\n",
    ".apply(lambda x: orders[np.logical_and(orders['date'] <= x['date'], orders['group'] == x['group'])]\\\n",
    "       .agg({'date' : 'max', 'group' : 'max', 'transaction_id' : pd.Series.nunique, \\\n",
    "             'visitor_id' : pd.Series.nunique, 'revenue' : 'sum'}), axis=1).sort_values(by=['date','group'])"
   ]
  },
  {
   "cell_type": "markdown",
   "metadata": {},
   "source": [
    "Аналогично получим агрегированные кумулятивные по дням данные о посетителях интернет-магазина"
   ]
  },
  {
   "cell_type": "code",
   "execution_count": 25,
   "metadata": {},
   "outputs": [],
   "source": [
    "# получаем агрегированные кумулятивные по дням данные о посетителях интернет-магазина \n",
    "visitorsAggregated = datesGroups.\\\n",
    "apply(lambda x: visitors[np.logical_and(visitors['date'] <= x['date'], visitors['group'] == x['group'])]\\\n",
    "      .agg({'date' : 'max', 'group' : 'max', 'visitors' : 'sum'}), axis=1).sort_values(by=['date','group'])"
   ]
  },
  {
   "cell_type": "markdown",
   "metadata": {},
   "source": [
    "Объединим обе таблицы в одной с понятными названиями столбцов"
   ]
  },
  {
   "cell_type": "code",
   "execution_count": 26,
   "metadata": {},
   "outputs": [
    {
     "data": {
      "text/html": [
       "<div>\n",
       "<style scoped>\n",
       "    .dataframe tbody tr th:only-of-type {\n",
       "        vertical-align: middle;\n",
       "    }\n",
       "\n",
       "    .dataframe tbody tr th {\n",
       "        vertical-align: top;\n",
       "    }\n",
       "\n",
       "    .dataframe thead th {\n",
       "        text-align: right;\n",
       "    }\n",
       "</style>\n",
       "<table border=\"1\" class=\"dataframe\">\n",
       "  <thead>\n",
       "    <tr style=\"text-align: right;\">\n",
       "      <th></th>\n",
       "      <th>date</th>\n",
       "      <th>group</th>\n",
       "      <th>orders</th>\n",
       "      <th>buyers</th>\n",
       "      <th>revenue</th>\n",
       "      <th>visitors</th>\n",
       "    </tr>\n",
       "  </thead>\n",
       "  <tbody>\n",
       "    <tr>\n",
       "      <td>0</td>\n",
       "      <td>2019-08-01</td>\n",
       "      <td>A</td>\n",
       "      <td>24</td>\n",
       "      <td>20</td>\n",
       "      <td>148579</td>\n",
       "      <td>719</td>\n",
       "    </tr>\n",
       "    <tr>\n",
       "      <td>1</td>\n",
       "      <td>2019-08-01</td>\n",
       "      <td>B</td>\n",
       "      <td>21</td>\n",
       "      <td>20</td>\n",
       "      <td>101217</td>\n",
       "      <td>713</td>\n",
       "    </tr>\n",
       "    <tr>\n",
       "      <td>2</td>\n",
       "      <td>2019-08-02</td>\n",
       "      <td>A</td>\n",
       "      <td>44</td>\n",
       "      <td>38</td>\n",
       "      <td>242401</td>\n",
       "      <td>1338</td>\n",
       "    </tr>\n",
       "    <tr>\n",
       "      <td>3</td>\n",
       "      <td>2019-08-02</td>\n",
       "      <td>B</td>\n",
       "      <td>45</td>\n",
       "      <td>43</td>\n",
       "      <td>266748</td>\n",
       "      <td>1294</td>\n",
       "    </tr>\n",
       "    <tr>\n",
       "      <td>4</td>\n",
       "      <td>2019-08-03</td>\n",
       "      <td>A</td>\n",
       "      <td>68</td>\n",
       "      <td>62</td>\n",
       "      <td>354874</td>\n",
       "      <td>1845</td>\n",
       "    </tr>\n",
       "  </tbody>\n",
       "</table>\n",
       "</div>"
      ],
      "text/plain": [
       "        date group  orders  buyers  revenue  visitors\n",
       "0 2019-08-01     A      24      20   148579       719\n",
       "1 2019-08-01     B      21      20   101217       713\n",
       "2 2019-08-02     A      44      38   242401      1338\n",
       "3 2019-08-02     B      45      43   266748      1294\n",
       "4 2019-08-03     A      68      62   354874      1845"
      ]
     },
     "execution_count": 26,
     "metadata": {},
     "output_type": "execute_result"
    }
   ],
   "source": [
    "# объединяем кумулятивные данные в одной таблице и присваиваем ее столбцам понятные названия\n",
    "cumulativeData = ordersAggregated.merge(visitorsAggregated, left_on=['date', 'group'], right_on=['date', 'group'])\n",
    "cumulativeData.columns = ['date', 'group', 'orders', 'buyers', 'revenue', 'visitors']\n",
    "\n",
    "cumulativeData.head(5)"
   ]
  },
  {
   "cell_type": "markdown",
   "metadata": {},
   "source": [
    "Построим графики кумулятивной выручки по дням и группам A/B-тестирования"
   ]
  },
  {
   "cell_type": "code",
   "execution_count": 27,
   "metadata": {},
   "outputs": [],
   "source": [
    "# датафрейм с кумулятивным количеством заказов и кумулятивной выручкой по дням в группе А\n",
    "cumulativeRevenueA = cumulativeData[cumulativeData['group']=='A'][['date','revenue', 'orders']]\n",
    "\n",
    "# датафрейм с кумулятивным количеством заказов и кумулятивной выручкой по дням в группе B\n",
    "cumulativeRevenueB = cumulativeData[cumulativeData['group']=='B'][['date','revenue', 'orders']]"
   ]
  },
  {
   "cell_type": "code",
   "execution_count": 28,
   "metadata": {},
   "outputs": [],
   "source": [
    "# напишем функцию для построения графиков куммулятивных метрик\n",
    "def cum_plt(data_A, data_B, column, title, ylabel):\n",
    "    plt.figure(figsize = (15, 6))\n",
    "    plt.plot(data_A['date'], data_A[column], label='A')\n",
    "    plt.plot(data_B['date'], data_B[column], label='B')\n",
    "    plt.title(title)\n",
    "    plt.xlabel('Дата')\n",
    "    plt.ylabel(ylabel)\n",
    "    plt.grid()\n",
    "    plt.legend();"
   ]
  },
  {
   "cell_type": "code",
   "execution_count": 29,
   "metadata": {},
   "outputs": [
    {
     "data": {
      "image/png": "[encoded data removed]",
      "text/plain": [
       "<Figure size 1080x432 with 1 Axes>"
      ]
     },
     "metadata": {
      "needs_background": "light"
     },
     "output_type": "display_data"
    }
   ],
   "source": [
    "# строим график\n",
    "cum_plt(cumulativeRevenueA, cumulativeRevenueB, 'revenue', 'Графики кумулятивной выручки по дням и группам A/B-тестирования',\\\n",
    "        'Сумма кумулятивной выручки')"
   ]
  },
  {
   "cell_type": "markdown",
   "metadata": {},
   "source": [
    "Выручка по обоим группам почти равномерно увеличивается в течение всего теста.   \n",
    "Показатели выручки группы В на протяжении всего теста выше, чем у группы А.   \n",
    "Получается, что пользователи, группы B, приносят больше денег.  \n",
    "График выручки группы В **2019-08-20** резко вырос.   \n",
    "Это может сигнализировать о всплеске числа заказов, либо о появлении очень дорогих заказов в выборке.\n"
   ]
  },
  {
   "cell_type": "markdown",
   "metadata": {},
   "source": [
    "**Построим график куммулятивного среднего чека по группам**<a name=\"кумчек\"></a>"
   ]
  },
  {
   "cell_type": "markdown",
   "metadata": {},
   "source": [
    "Построим графики среднего чека по группам — разделим кумулятивную выручку на кумулятивное число заказов"
   ]
  },
  {
   "cell_type": "code",
   "execution_count": 30,
   "metadata": {},
   "outputs": [],
   "source": [
    "cumulativeRevenueA['check'] = cumulativeRevenueA['revenue']/cumulativeRevenueA['orders']\n",
    "cumulativeRevenueB['check'] = cumulativeRevenueB['revenue']/cumulativeRevenueB['orders']"
   ]
  },
  {
   "cell_type": "code",
   "execution_count": 31,
   "metadata": {},
   "outputs": [
    {
     "data": {
      "image/png": "[encoded data removed]",
      "text/plain": [
       "<Figure size 1080x432 with 1 Axes>"
      ]
     },
     "metadata": {
      "needs_background": "light"
     },
     "output_type": "display_data"
    }
   ],
   "source": [
    "# строим график\n",
    "cum_plt(cumulativeRevenueA, cumulativeRevenueB, 'check', \\\n",
    "        'Графики кумулятивного среднего чека по дням и группам A/B-тестирования'\\\n",
    "        ,'Сумма среднего чека')"
   ]
  },
  {
   "cell_type": "markdown",
   "metadata": {},
   "source": [
    "Средний чек ближе к концу теста: немного растет для группы A и  постепенно падает для группы B (после резкого всплеска **2019-08-20**).   \n",
    "\n",
    "Возможно, в группу B **2019-08-20** попал крупный заказ (резкий всплеск на графике), такой же всплеск мы наблюдали на графике куммулятивной выручки, за счет этого график среднего чека группы В лежит значительно выше графика группы А\n"
   ]
  },
  {
   "cell_type": "markdown",
   "metadata": {},
   "source": [
    "**Построим график относительного изменения кумулятивного среднего чека группы В к группе А**<a name=\"кумчекотн\"></a>"
   ]
  },
  {
   "cell_type": "markdown",
   "metadata": {},
   "source": [
    "Построим график относительного различия для среднего чека. "
   ]
  },
  {
   "cell_type": "code",
   "execution_count": 32,
   "metadata": {},
   "outputs": [
    {
     "data": {
      "text/html": [
       "<div>\n",
       "<style scoped>\n",
       "    .dataframe tbody tr th:only-of-type {\n",
       "        vertical-align: middle;\n",
       "    }\n",
       "\n",
       "    .dataframe tbody tr th {\n",
       "        vertical-align: top;\n",
       "    }\n",
       "\n",
       "    .dataframe thead th {\n",
       "        text-align: right;\n",
       "    }\n",
       "</style>\n",
       "<table border=\"1\" class=\"dataframe\">\n",
       "  <thead>\n",
       "    <tr style=\"text-align: right;\">\n",
       "      <th></th>\n",
       "      <th>date</th>\n",
       "      <th>revenueA</th>\n",
       "      <th>ordersA</th>\n",
       "      <th>checkA</th>\n",
       "      <th>revenueB</th>\n",
       "      <th>ordersB</th>\n",
       "      <th>checkB</th>\n",
       "    </tr>\n",
       "  </thead>\n",
       "  <tbody>\n",
       "    <tr>\n",
       "      <td>0</td>\n",
       "      <td>2019-08-01</td>\n",
       "      <td>148579</td>\n",
       "      <td>24</td>\n",
       "      <td>6190.791667</td>\n",
       "      <td>101217</td>\n",
       "      <td>21</td>\n",
       "      <td>4819.857143</td>\n",
       "    </tr>\n",
       "    <tr>\n",
       "      <td>1</td>\n",
       "      <td>2019-08-02</td>\n",
       "      <td>242401</td>\n",
       "      <td>44</td>\n",
       "      <td>5509.113636</td>\n",
       "      <td>266748</td>\n",
       "      <td>45</td>\n",
       "      <td>5927.733333</td>\n",
       "    </tr>\n",
       "    <tr>\n",
       "      <td>2</td>\n",
       "      <td>2019-08-03</td>\n",
       "      <td>354874</td>\n",
       "      <td>68</td>\n",
       "      <td>5218.735294</td>\n",
       "      <td>380996</td>\n",
       "      <td>61</td>\n",
       "      <td>6245.836066</td>\n",
       "    </tr>\n",
       "    <tr>\n",
       "      <td>3</td>\n",
       "      <td>2019-08-04</td>\n",
       "      <td>425699</td>\n",
       "      <td>84</td>\n",
       "      <td>5067.845238</td>\n",
       "      <td>489567</td>\n",
       "      <td>78</td>\n",
       "      <td>6276.500000</td>\n",
       "    </tr>\n",
       "    <tr>\n",
       "      <td>4</td>\n",
       "      <td>2019-08-05</td>\n",
       "      <td>549917</td>\n",
       "      <td>109</td>\n",
       "      <td>5045.110092</td>\n",
       "      <td>581995</td>\n",
       "      <td>101</td>\n",
       "      <td>5762.326733</td>\n",
       "    </tr>\n",
       "  </tbody>\n",
       "</table>\n",
       "</div>"
      ],
      "text/plain": [
       "        date  revenueA  ordersA       checkA  revenueB  ordersB       checkB\n",
       "0 2019-08-01    148579       24  6190.791667    101217       21  4819.857143\n",
       "1 2019-08-02    242401       44  5509.113636    266748       45  5927.733333\n",
       "2 2019-08-03    354874       68  5218.735294    380996       61  6245.836066\n",
       "3 2019-08-04    425699       84  5067.845238    489567       78  6276.500000\n",
       "4 2019-08-05    549917      109  5045.110092    581995      101  5762.326733"
      ]
     },
     "execution_count": 32,
     "metadata": {},
     "output_type": "execute_result"
    }
   ],
   "source": [
    "# собираем данные в одном датафрейме\n",
    "mergedCumulativeRevenue = cumulativeRevenueA.\\\n",
    "merge(cumulativeRevenueB, left_on='date', right_on='date', how='left', suffixes=['A', 'B'])\n",
    "mergedCumulativeRevenue.head()"
   ]
  },
  {
   "cell_type": "code",
   "execution_count": 33,
   "metadata": {},
   "outputs": [],
   "source": [
    "# напишем функцию для построения графиков относительных изменений\n",
    "def relation_plot(data, columnA, columnB, title, ylable, y):\n",
    "    plt.figure(figsize = (15, 6))\n",
    "    plt.plot(data['date'],(data[columnB]/data[columnA]-1))\n",
    "    plt.axhline(y=0, color='black', linestyle='--')\n",
    "    plt.axhline(y=y, color='black', linestyle='--')\n",
    "    plt.title(title)\n",
    "    plt.xlabel('Дата')\n",
    "    plt.ylabel(ylable);"
   ]
  },
  {
   "cell_type": "code",
   "execution_count": 34,
   "metadata": {},
   "outputs": [
    {
     "data": {
      "image/png": "[encoded data removed]",
      "text/plain": [
       "<Figure size 1080x432 with 1 Axes>"
      ]
     },
     "metadata": {
      "needs_background": "light"
     },
     "output_type": "display_data"
    }
   ],
   "source": [
    "# строим график\n",
    "relation_plot(mergedCumulativeRevenue, 'checkA', 'checkB', \\\n",
    "              'График относительного изменения кумулятивного среднего чека группы В к группе А',\\\n",
    "              'Отношение кумулятивного среднего чека группы В к группе А', 0.4)"
   ]
  },
  {
   "cell_type": "markdown",
   "metadata": {},
   "source": [
    "В нескольких точках график различия между сегментами резко «скачет».  \n",
    "Значит есть крупные заказы и выбросы.   \n",
    "**2019-08-20** видим тот же всплеск, что и на предыдущих графиках.\n"
   ]
  },
  {
   "cell_type": "markdown",
   "metadata": {},
   "source": [
    "**Построим график кумулятивной конверсии по группам**<a name=\"кумконв\"></a>"
   ]
  },
  {
   "cell_type": "code",
   "execution_count": 35,
   "metadata": {
    "scrolled": false
   },
   "outputs": [],
   "source": [
    "# считаем кумулятивную конверсию\n",
    "cumulativeData['conversion'] = cumulativeData['orders']/cumulativeData['visitors']\n",
    "\n",
    "# отделяем данные по группе A\n",
    "cumulativeDataA = cumulativeData[cumulativeData['group']=='A']\n",
    "\n",
    "# отделяем данные по группе B\n",
    "cumulativeDataB = cumulativeData[cumulativeData['group']=='B']"
   ]
  },
  {
   "cell_type": "code",
   "execution_count": 36,
   "metadata": {},
   "outputs": [
    {
     "data": {
      "image/png": "[encoded data removed]",
      "text/plain": [
       "<Figure size 1080x432 with 1 Axes>"
      ]
     },
     "metadata": {
      "needs_background": "light"
     },
     "output_type": "display_data"
    }
   ],
   "source": [
    "# строим график\n",
    "cum_plt(cumulativeDataA, cumulativeDataB, 'conversion', 'График кумулятивной конверсии по группам A/B-тестирования',\\\n",
    "        'Кумулятивная конверсия')"
   ]
  },
  {
   "cell_type": "markdown",
   "metadata": {},
   "source": [
    "Сначала группа А показывала более высокие значения конверсии, но затем конверсия группы В вырвалась вперёд и зафиксировалась, а конверсия группы А просела и также зафиксировалась."
   ]
  },
  {
   "cell_type": "markdown",
   "metadata": {},
   "source": [
    "**Построим график относительного изменения кумулятивной конверсии группы В к группе А**<a name=\"кумконвотн\"></a>"
   ]
  },
  {
   "cell_type": "code",
   "execution_count": 37,
   "metadata": {
    "scrolled": true
   },
   "outputs": [
    {
     "data": {
      "text/html": [
       "<div>\n",
       "<style scoped>\n",
       "    .dataframe tbody tr th:only-of-type {\n",
       "        vertical-align: middle;\n",
       "    }\n",
       "\n",
       "    .dataframe tbody tr th {\n",
       "        vertical-align: top;\n",
       "    }\n",
       "\n",
       "    .dataframe thead th {\n",
       "        text-align: right;\n",
       "    }\n",
       "</style>\n",
       "<table border=\"1\" class=\"dataframe\">\n",
       "  <thead>\n",
       "    <tr style=\"text-align: right;\">\n",
       "      <th></th>\n",
       "      <th>date</th>\n",
       "      <th>conversionA</th>\n",
       "      <th>conversionB</th>\n",
       "    </tr>\n",
       "  </thead>\n",
       "  <tbody>\n",
       "    <tr>\n",
       "      <td>0</td>\n",
       "      <td>2019-08-01</td>\n",
       "      <td>0.033380</td>\n",
       "      <td>0.029453</td>\n",
       "    </tr>\n",
       "    <tr>\n",
       "      <td>1</td>\n",
       "      <td>2019-08-02</td>\n",
       "      <td>0.032885</td>\n",
       "      <td>0.034776</td>\n",
       "    </tr>\n",
       "    <tr>\n",
       "      <td>2</td>\n",
       "      <td>2019-08-03</td>\n",
       "      <td>0.036856</td>\n",
       "      <td>0.033833</td>\n",
       "    </tr>\n",
       "    <tr>\n",
       "      <td>3</td>\n",
       "      <td>2019-08-04</td>\n",
       "      <td>0.032787</td>\n",
       "      <td>0.030315</td>\n",
       "    </tr>\n",
       "    <tr>\n",
       "      <td>4</td>\n",
       "      <td>2019-08-05</td>\n",
       "      <td>0.032851</td>\n",
       "      <td>0.030793</td>\n",
       "    </tr>\n",
       "  </tbody>\n",
       "</table>\n",
       "</div>"
      ],
      "text/plain": [
       "        date  conversionA  conversionB\n",
       "0 2019-08-01     0.033380     0.029453\n",
       "1 2019-08-02     0.032885     0.034776\n",
       "2 2019-08-03     0.036856     0.033833\n",
       "3 2019-08-04     0.032787     0.030315\n",
       "4 2019-08-05     0.032851     0.030793"
      ]
     },
     "execution_count": 37,
     "metadata": {},
     "output_type": "execute_result"
    }
   ],
   "source": [
    "# собираем данные в одном датафрейме\n",
    "mergedCumulativeConversions = cumulativeDataA[['date','conversion']]\\\n",
    ".merge(cumulativeDataB[['date','conversion']], left_on='date', right_on='date', how='left', suffixes=['A', 'B'])\n",
    "mergedCumulativeConversions.head()"
   ]
  },
  {
   "cell_type": "code",
   "execution_count": 38,
   "metadata": {},
   "outputs": [
    {
     "data": {
      "image/png": "[encoded data removed]",
      "text/plain": [
       "<Figure size 1080x432 with 1 Axes>"
      ]
     },
     "metadata": {
      "needs_background": "light"
     },
     "output_type": "display_data"
    }
   ],
   "source": [
    "# строим график\n",
    "relation_plot(mergedCumulativeConversions, 'conversionA', 'conversionB', \\\n",
    "              'График относительного изменения кумулятивной конверсии группы В к группе А',\\\n",
    "              'Отношение кумулятивной конверсии группы В к группе А', 0.2)"
   ]
  },
  {
   "cell_type": "markdown",
   "metadata": {},
   "source": [
    "В начале теста группа B значительно проигрывала группе A, затем вырвалась вперёд.   \n",
    "Примерно с середины теста конверсия группа B начала снижаться, но к концу теста рост возобновился.  \n",
    "Конверсия в группе B стабильно лучше конверсии в группе A на 10% по просшествии 1 недели после начала"
   ]
  },
  {
   "cell_type": "markdown",
   "metadata": {},
   "source": [
    "**Вывод:**  по \"сырым\" данным можно сказать, что:  \n",
    "\n",
    "* кумулятивная выручка группы В выше, чем у группы А\n",
    "* кумулятивный средний чек группы В выше, чем у группы А\n",
    "* конверсия группы В выше, чем конверсия группы А\n",
    "* имеется аномальный всплеск данных в группе В - 20 августа 2019, необходимо исследовать данные на наличие аномалий\n"
   ]
  },
  {
   "cell_type": "markdown",
   "metadata": {},
   "source": [
    "## 5.Анализ выбросов и всплесков<a name=\"аном\"></a>"
   ]
  },
  {
   "cell_type": "markdown",
   "metadata": {},
   "source": [
    "**Построим точечный график количества заказов по пользователям**<a name=\"аномпольз\"></a>"
   ]
  },
  {
   "cell_type": "markdown",
   "metadata": {},
   "source": [
    "Подсчитаем количество заказов по пользователям и посмотрим на результат"
   ]
  },
  {
   "cell_type": "code",
   "execution_count": 39,
   "metadata": {},
   "outputs": [
    {
     "data": {
      "text/html": [
       "<div>\n",
       "<style scoped>\n",
       "    .dataframe tbody tr th:only-of-type {\n",
       "        vertical-align: middle;\n",
       "    }\n",
       "\n",
       "    .dataframe tbody tr th {\n",
       "        vertical-align: top;\n",
       "    }\n",
       "\n",
       "    .dataframe thead th {\n",
       "        text-align: right;\n",
       "    }\n",
       "</style>\n",
       "<table border=\"1\" class=\"dataframe\">\n",
       "  <thead>\n",
       "    <tr style=\"text-align: right;\">\n",
       "      <th></th>\n",
       "      <th>visitor_id</th>\n",
       "      <th>orders</th>\n",
       "    </tr>\n",
       "  </thead>\n",
       "  <tbody>\n",
       "    <tr>\n",
       "      <td>1023</td>\n",
       "      <td>4256040402</td>\n",
       "      <td>11</td>\n",
       "    </tr>\n",
       "    <tr>\n",
       "      <td>591</td>\n",
       "      <td>2458001652</td>\n",
       "      <td>11</td>\n",
       "    </tr>\n",
       "    <tr>\n",
       "      <td>569</td>\n",
       "      <td>2378935119</td>\n",
       "      <td>9</td>\n",
       "    </tr>\n",
       "    <tr>\n",
       "      <td>487</td>\n",
       "      <td>2038680547</td>\n",
       "      <td>8</td>\n",
       "    </tr>\n",
       "    <tr>\n",
       "      <td>44</td>\n",
       "      <td>199603092</td>\n",
       "      <td>5</td>\n",
       "    </tr>\n",
       "  </tbody>\n",
       "</table>\n",
       "</div>"
      ],
      "text/plain": [
       "      visitor_id  orders\n",
       "1023  4256040402      11\n",
       "591   2458001652      11\n",
       "569   2378935119       9\n",
       "487   2038680547       8\n",
       "44     199603092       5"
      ]
     },
     "execution_count": 39,
     "metadata": {},
     "output_type": "execute_result"
    }
   ],
   "source": [
    "ordersByUsers = orders.drop(['group', 'revenue', 'date'], axis=1).groupby('visitor_id', as_index=False)\\\n",
    ".agg({'transaction_id' : pd.Series.nunique})\n",
    "ordersByUsers.columns = ['visitor_id','orders']\n",
    "ordersByUsers.sort_values(by='orders',ascending=False).head()"
   ]
  },
  {
   "cell_type": "markdown",
   "metadata": {},
   "source": [
    "Есть пользователи, которые совершали 5, 8, 9 и 11 заказов. Значительно больше, чем обычный пользователь  \n",
    "Построим гистрограмму распределения количества заказов на одного пользователя.  "
   ]
  },
  {
   "cell_type": "code",
   "execution_count": 40,
   "metadata": {},
   "outputs": [
    {
     "data": {
      "image/png": "[encoded data removed]",
      "text/plain": [
       "<Figure size 864x360 with 1 Axes>"
      ]
     },
     "metadata": {
      "needs_background": "light"
     },
     "output_type": "display_data"
    }
   ],
   "source": [
    "plt.figure(figsize = (12, 5))\n",
    "plt.hist(ordersByUsers['orders'])\n",
    "plt.title('Гистрограмма распределения количества заказов на одного пользователя')\n",
    "plt.xlabel('Количество заказов')\n",
    "plt.ylabel('Количество пользователей');"
   ]
  },
  {
   "cell_type": "markdown",
   "metadata": {},
   "source": [
    "Большинство покупателей заказывали только один раз.   \n",
    "Однако доля пользователей с 2-4 заказами тоже значительна.  \n",
    "Построим точечную диаграмму числа заказов на одного пользователя"
   ]
  },
  {
   "cell_type": "code",
   "execution_count": 41,
   "metadata": {},
   "outputs": [
    {
     "data": {
      "image/png": "[encoded data removed]",
      "text/plain": [
       "<Figure size 864x360 with 1 Axes>"
      ]
     },
     "metadata": {
      "needs_background": "light"
     },
     "output_type": "display_data"
    }
   ],
   "source": [
    "x_values = pd.Series(range(0,len(ordersByUsers)))\n",
    "plt.figure(figsize = (12, 5))\n",
    "plt.scatter(x_values, ordersByUsers['orders'])\n",
    "plt.title('Диаграмма числа заказов на одного пользователя')\n",
    "plt.xlabel('')\n",
    "plt.ylabel('Количество заказов');"
   ]
  },
  {
   "cell_type": "markdown",
   "metadata": {},
   "source": [
    "Выводы подтверждаются: много пользователей с 2-4 заказами.   \n",
    "Их точная доля не ясна — непонятно, считать их аномалиями или нет.  \n",
    "Посчитаем выборочные перцентили количества заказов на одного пользователя  "
   ]
  },
  {
   "cell_type": "markdown",
   "metadata": {},
   "source": [
    "**Найдем границу числа заказов для определения аномальных пользователей**<a name=\"апп\"></a>"
   ]
  },
  {
   "cell_type": "code",
   "execution_count": 42,
   "metadata": {},
   "outputs": [
    {
     "name": "stdout",
     "output_type": "stream",
     "text": [
      "90-й перцентиль количества заказов на пользователя: 1\n",
      "95-й перцентиль количества заказов на пользователя: 2\n",
      "99-й перцентиль количества заказов на пользователя: 4\n"
     ]
    }
   ],
   "source": [
    "print('90-й перцентиль количества заказов на пользователя: %.0f' % (np.percentile(ordersByUsers['orders'], [90])))\n",
    "print('95-й перцентиль количества заказов на пользователя: %.0f' % (np.percentile(ordersByUsers['orders'], [95])))\n",
    "print('99-й перцентиль количества заказов на пользователя: %.0f' % (np.percentile(ordersByUsers['orders'], [99])))"
   ]
  },
  {
   "cell_type": "markdown",
   "metadata": {},
   "source": [
    "Большая часть клиентов сделали по 1 заказу.  \n",
    "95-й перцентиль равен 2 заказам, 99-й - 4 заказа.  \n",
    "Не более 5% посетителей сделали больше чем 3 заказа и не более 1% - оформили 4 и больше заказов\n",
    "Разумно выбрать 3 заказа на одного пользователя за границу числа заказов, и отсеять аномальных пользователей по ней. \n"
   ]
  },
  {
   "cell_type": "markdown",
   "metadata": {},
   "source": [
    "**Построим точечный график стоимостей заказов**<a name=\"аномст\"></a>"
   ]
  },
  {
   "cell_type": "markdown",
   "metadata": {},
   "source": [
    "Изучим гистограмму распределения стоимостей заказов"
   ]
  },
  {
   "cell_type": "code",
   "execution_count": 43,
   "metadata": {},
   "outputs": [
    {
     "data": {
      "image/png": "[encoded data removed]",
      "text/plain": [
       "<Figure size 864x360 with 1 Axes>"
      ]
     },
     "metadata": {
      "needs_background": "light"
     },
     "output_type": "display_data"
    }
   ],
   "source": [
    "plt.figure(figsize = (12, 5))\n",
    "plt.hist(orders['revenue'], range=(0,100000), bins = 100)\n",
    "plt.title('Гистрограмма распределения стоимостей заказов')\n",
    "plt.xlabel('Стоимость заказа')\n",
    "plt.ylabel('Количество пользователей');"
   ]
  },
  {
   "cell_type": "markdown",
   "metadata": {},
   "source": [
    "В данных явно есть заказы дороже 20 000 — например, около 80 000 и 90 000. \n",
    "\n",
    "Однако большинство всё-таки имеет выручку не более 20 000.  \n",
    "\n",
    "Построим точечный график стоимостей заказов  "
   ]
  },
  {
   "cell_type": "code",
   "execution_count": 44,
   "metadata": {
    "scrolled": true
   },
   "outputs": [
    {
     "data": {
      "image/png": "[encoded data removed]",
      "text/plain": [
       "<Figure size 864x360 with 1 Axes>"
      ]
     },
     "metadata": {
      "needs_background": "light"
     },
     "output_type": "display_data"
    }
   ],
   "source": [
    "x_values = pd.Series(range(0,len(orders['revenue'])))\n",
    "plt.figure(figsize = (12, 5))\n",
    "plt.scatter(x_values, orders['revenue'])\n",
    "plt.grid()\n",
    "plt.title('Диаграмма стоимостей заказов')\n",
    "plt.xlabel('')\n",
    "plt.ylabel('Стоимость заказов');"
   ]
  },
  {
   "cell_type": "markdown",
   "metadata": {},
   "source": [
    "На графике видим аномальный выброс около 1 250 000 (скорее всего это и есть тот заказ, который вызывал всплески на графиках кумулятивных метрик).   \n",
    "Посмотрим на диаграмму поближе, ограничив стоимость заказа в 200 000   "
   ]
  },
  {
   "cell_type": "code",
   "execution_count": 45,
   "metadata": {
    "scrolled": true
   },
   "outputs": [
    {
     "data": {
      "image/png": "[encoded data removed]",
      "text/plain": [
       "<Figure size 864x360 with 1 Axes>"
      ]
     },
     "metadata": {
      "needs_background": "light"
     },
     "output_type": "display_data"
    }
   ],
   "source": [
    "x_values = pd.Series(range(0,len(orders.query('revenue <= 200000')['revenue'])))\n",
    "plt.figure(figsize = (12, 5))\n",
    "plt.scatter(x_values, orders.query('revenue <= 200000')['revenue'])\n",
    "plt.title('Диаграмма стоимостей заказов')\n",
    "plt.xlabel('')\n",
    "plt.ylabel('Стоимость заказов');"
   ]
  },
  {
   "cell_type": "markdown",
   "metadata": {},
   "source": [
    "Большая часть заказов в пределах 40 000, заказов стоимостью более 60 000 совсем не много.  \n",
    "\n",
    "Определим границу для определения аномальной стоимости заказов"
   ]
  },
  {
   "cell_type": "markdown",
   "metadata": {},
   "source": [
    "**Найдем границу стоимостей заказов для определения аномальных заказов**<a name=\"асп\"></a>"
   ]
  },
  {
   "cell_type": "code",
   "execution_count": 46,
   "metadata": {},
   "outputs": [
    {
     "name": "stdout",
     "output_type": "stream",
     "text": [
      "90-й перцентиль стоимостей заказов: 18168.00\n",
      "95-й перцентиль стоимостей заказов: 28000.00\n",
      "99-й перцентиль стоимостей заказов: 58233.20\n"
     ]
    }
   ],
   "source": [
    "print('90-й перцентиль стоимостей заказов: %.2f' % (np.percentile(orders['revenue'], [90])))\n",
    "print('95-й перцентиль стоимостей заказов: %.2f' % (np.percentile(orders['revenue'], [95])))\n",
    "print('99-й перцентиль стоимостей заказов: %.2f' % (np.percentile(orders['revenue'], [99])))"
   ]
  },
  {
   "cell_type": "markdown",
   "metadata": {},
   "source": [
    "Большая часть заказов не более 20 000.  \n",
    "5% заказов стоимостью более 28 000.  \n",
    "1% заказов стоимостью более 58 000.  \n",
    "Определим границу для аномальной стоимости заказов в размере 40 000.  "
   ]
  },
  {
   "cell_type": "markdown",
   "metadata": {},
   "source": [
    "**Вывод:**  \n",
    "\n",
    "* граница числа заказов для аномальных пользователей - 3 заказа.\n",
    "\n",
    "* граница стоимостей заказоов для аномальных заказов - 40 000.\n"
   ]
  },
  {
   "cell_type": "markdown",
   "metadata": {},
   "source": [
    "## 6. Анализ результатов A/B-теста <a name=\"абтест\"></a>"
   ]
  },
  {
   "cell_type": "markdown",
   "metadata": {},
   "source": [
    "**Посчитаем статистическую значимость различий в конверсии между группами по \"сырым\" данным**<a name=\"сзксд\"></a>"
   ]
  },
  {
   "cell_type": "markdown",
   "metadata": {},
   "source": [
    "Соберем датафрейм, который будет содержать информацию по каждой группе: количество заказов в выбранную дату, суммарное количество заказов до выбранной даты, выручка на выбранную дату, суммарная выручка до выбранной даты, количество пользователей в выбранную дату, суммарное количество пользователей до выбранной даты"
   ]
  },
  {
   "cell_type": "code",
   "execution_count": 47,
   "metadata": {
    "scrolled": true
   },
   "outputs": [
    {
     "data": {
      "text/html": [
       "<div>\n",
       "<style scoped>\n",
       "    .dataframe tbody tr th:only-of-type {\n",
       "        vertical-align: middle;\n",
       "    }\n",
       "\n",
       "    .dataframe tbody tr th {\n",
       "        vertical-align: top;\n",
       "    }\n",
       "\n",
       "    .dataframe thead th {\n",
       "        text-align: right;\n",
       "    }\n",
       "</style>\n",
       "<table border=\"1\" class=\"dataframe\">\n",
       "  <thead>\n",
       "    <tr style=\"text-align: right;\">\n",
       "      <th></th>\n",
       "      <th>date</th>\n",
       "      <th>ordersPerDateA</th>\n",
       "      <th>revenuePerDateA</th>\n",
       "      <th>ordersPerDateB</th>\n",
       "      <th>revenuePerDateB</th>\n",
       "      <th>ordersCummulativeA</th>\n",
       "      <th>revenueCummulativeA</th>\n",
       "      <th>ordersCummulativeB</th>\n",
       "      <th>revenueCummulativeB</th>\n",
       "      <th>visitorsPerDateA</th>\n",
       "      <th>visitorsPerDateB</th>\n",
       "      <th>visitorsCummulativeA</th>\n",
       "      <th>visitorsCummulativeB</th>\n",
       "    </tr>\n",
       "  </thead>\n",
       "  <tbody>\n",
       "    <tr>\n",
       "      <td>0</td>\n",
       "      <td>2019-08-01</td>\n",
       "      <td>24</td>\n",
       "      <td>148579</td>\n",
       "      <td>21</td>\n",
       "      <td>101217</td>\n",
       "      <td>24</td>\n",
       "      <td>148579</td>\n",
       "      <td>21</td>\n",
       "      <td>101217</td>\n",
       "      <td>719</td>\n",
       "      <td>713</td>\n",
       "      <td>719</td>\n",
       "      <td>713</td>\n",
       "    </tr>\n",
       "    <tr>\n",
       "      <td>1</td>\n",
       "      <td>2019-08-02</td>\n",
       "      <td>20</td>\n",
       "      <td>93822</td>\n",
       "      <td>24</td>\n",
       "      <td>165531</td>\n",
       "      <td>44</td>\n",
       "      <td>242401</td>\n",
       "      <td>45</td>\n",
       "      <td>266748</td>\n",
       "      <td>619</td>\n",
       "      <td>581</td>\n",
       "      <td>1338</td>\n",
       "      <td>1294</td>\n",
       "    </tr>\n",
       "    <tr>\n",
       "      <td>2</td>\n",
       "      <td>2019-08-03</td>\n",
       "      <td>24</td>\n",
       "      <td>112473</td>\n",
       "      <td>16</td>\n",
       "      <td>114248</td>\n",
       "      <td>68</td>\n",
       "      <td>354874</td>\n",
       "      <td>61</td>\n",
       "      <td>380996</td>\n",
       "      <td>507</td>\n",
       "      <td>509</td>\n",
       "      <td>1845</td>\n",
       "      <td>1803</td>\n",
       "    </tr>\n",
       "    <tr>\n",
       "      <td>3</td>\n",
       "      <td>2019-08-04</td>\n",
       "      <td>16</td>\n",
       "      <td>70825</td>\n",
       "      <td>17</td>\n",
       "      <td>108571</td>\n",
       "      <td>84</td>\n",
       "      <td>425699</td>\n",
       "      <td>78</td>\n",
       "      <td>489567</td>\n",
       "      <td>717</td>\n",
       "      <td>770</td>\n",
       "      <td>2562</td>\n",
       "      <td>2573</td>\n",
       "    </tr>\n",
       "    <tr>\n",
       "      <td>4</td>\n",
       "      <td>2019-08-05</td>\n",
       "      <td>25</td>\n",
       "      <td>124218</td>\n",
       "      <td>23</td>\n",
       "      <td>92428</td>\n",
       "      <td>109</td>\n",
       "      <td>549917</td>\n",
       "      <td>101</td>\n",
       "      <td>581995</td>\n",
       "      <td>756</td>\n",
       "      <td>707</td>\n",
       "      <td>3318</td>\n",
       "      <td>3280</td>\n",
       "    </tr>\n",
       "  </tbody>\n",
       "</table>\n",
       "</div>"
      ],
      "text/plain": [
       "        date  ordersPerDateA  revenuePerDateA  ordersPerDateB  \\\n",
       "0 2019-08-01              24           148579              21   \n",
       "1 2019-08-02              20            93822              24   \n",
       "2 2019-08-03              24           112473              16   \n",
       "3 2019-08-04              16            70825              17   \n",
       "4 2019-08-05              25           124218              23   \n",
       "\n",
       "   revenuePerDateB  ordersCummulativeA  revenueCummulativeA  \\\n",
       "0           101217                  24               148579   \n",
       "1           165531                  44               242401   \n",
       "2           114248                  68               354874   \n",
       "3           108571                  84               425699   \n",
       "4            92428                 109               549917   \n",
       "\n",
       "   ordersCummulativeB  revenueCummulativeB  visitorsPerDateA  \\\n",
       "0                  21               101217               719   \n",
       "1                  45               266748               619   \n",
       "2                  61               380996               507   \n",
       "3                  78               489567               717   \n",
       "4                 101               581995               756   \n",
       "\n",
       "   visitorsPerDateB  visitorsCummulativeA  visitorsCummulativeB  \n",
       "0               713                   719                   713  \n",
       "1               581                  1338                  1294  \n",
       "2               509                  1845                  1803  \n",
       "3               770                  2562                  2573  \n",
       "4               707                  3318                  3280  "
      ]
     },
     "execution_count": 47,
     "metadata": {},
     "output_type": "execute_result"
    }
   ],
   "source": [
    "visitorsADaily = visitors[visitors['group']=='A'][['date', 'visitors']]\n",
    "visitorsADaily.columns = ['date', 'visitorsPerDateA']\n",
    "\n",
    "visitorsACummulative = visitorsADaily.apply(lambda x: visitorsADaily[visitorsADaily['date'] <= x['date']]\\\n",
    "                                            .agg({'date' : 'max', 'visitorsPerDateA' : 'sum'}), axis=1)\n",
    "visitorsACummulative.columns = ['date', 'visitorsCummulativeA']\n",
    "\n",
    "visitorsBDaily = visitors[visitors['group']=='B'][['date', 'visitors']]\n",
    "visitorsBDaily.columns = ['date', 'visitorsPerDateB']\n",
    "\n",
    "visitorsBCummulative = visitorsBDaily.apply(lambda x: visitorsBDaily[visitorsBDaily['date'] <= x['date']]\\\n",
    "                                            .agg({'date' : 'max', 'visitorsPerDateB' : 'sum'}), axis=1)\n",
    "visitorsBCummulative.columns = ['date', 'visitorsCummulativeB']\n",
    "\n",
    "ordersADaily = orders[orders['group']=='A'][['date', 'transaction_id', 'visitor_id', 'revenue']]\\\n",
    "    .groupby('date', as_index=False)\\\n",
    "    .agg({'transaction_id' : pd.Series.nunique, 'revenue' : 'sum'})\n",
    "ordersADaily.columns = ['date', 'ordersPerDateA', 'revenuePerDateA']\n",
    "\n",
    "ordersACummulative = ordersADaily.apply(\n",
    "    lambda x: \\\n",
    "        ordersADaily[ordersADaily['date'] <= x['date']]\\\n",
    "            .agg({\n",
    "                'date' : 'max',\n",
    "                'ordersPerDateA' : 'sum',\n",
    "                'revenuePerDateA' : 'sum'}), axis=1).sort_values(by=['date'])\n",
    "ordersACummulative.columns = ['date', 'ordersCummulativeA', 'revenueCummulativeA']\n",
    "\n",
    "ordersBDaily = orders[orders['group']=='B'][['date', 'transaction_id', 'visitor_id', 'revenue']]\\\n",
    "    .groupby('date', as_index=False)\\\n",
    "    .agg({'transaction_id' : pd.Series.nunique, 'revenue' : 'sum'})\n",
    "ordersBDaily.columns = ['date', 'ordersPerDateB', 'revenuePerDateB']\n",
    "\n",
    "ordersBCummulative = ordersBDaily.apply(\n",
    "    lambda x: \\\n",
    "        ordersBDaily[ordersBDaily['date'] <= x['date']]\\\n",
    "            .agg({\n",
    "                'date' : 'max',\n",
    "                'ordersPerDateB' : 'sum',\n",
    "                'revenuePerDateB' : 'sum'}), axis=1).sort_values(by=['date'])\n",
    "ordersBCummulative.columns = ['date', 'ordersCummulativeB', 'revenueCummulativeB']\n",
    "\n",
    "data = ordersADaily.merge(ordersBDaily, left_on='date', right_on='date', how='left')\\\n",
    "    .merge(ordersACummulative, left_on='date', right_on='date', how='left')\\\n",
    "    .merge(ordersBCummulative, left_on='date', right_on='date', how='left')\\\n",
    "    .merge(visitorsADaily, left_on='date', right_on='date', how='left')\\\n",
    "    .merge(visitorsBDaily, left_on='date', right_on='date', how='left')\\\n",
    "    .merge(visitorsACummulative, left_on='date', right_on='date', how='left')\\\n",
    "    .merge(visitorsBCummulative, left_on='date', right_on='date', how='left')\n",
    "data.head()"
   ]
  },
  {
   "cell_type": "markdown",
   "metadata": {},
   "source": [
    "Создадим переменные в которых для пользователей, которые заказывали хотя бы 1 раз, укажем число совершённых заказов"
   ]
  },
  {
   "cell_type": "code",
   "execution_count": 48,
   "metadata": {},
   "outputs": [],
   "source": [
    "ordersByUsersA = orders[orders['group']=='A'].groupby('visitor_id', as_index=False).agg({'transaction_id' : pd.Series.nunique})\n",
    "ordersByUsersA.columns = ['userId', 'orders']\n",
    "\n",
    "ordersByUsersB = orders[orders['group']=='B'].groupby('visitor_id', as_index=False).agg({'transaction_id' : pd.Series.nunique})\n",
    "ordersByUsersB.columns = ['userId', 'orders']"
   ]
  },
  {
   "cell_type": "markdown",
   "metadata": {},
   "source": [
    "Создадим переменные в которых пользователям из разных групп будет соответствовать количество заказов"
   ]
  },
  {
   "cell_type": "code",
   "execution_count": 49,
   "metadata": {},
   "outputs": [],
   "source": [
    "sampleA = pd.concat([ordersByUsersA['orders'],\\\n",
    "                     pd.Series(0, index=np.arange(data['visitorsPerDateA'].sum() - len(ordersByUsersA['orders'])),\\\n",
    "                               name='orders')],axis=0)\n",
    "\n",
    "sampleB = pd.concat([ordersByUsersB['orders'],\\\n",
    "                     pd.Series(0, index=np.arange(data['visitorsPerDateB'].sum() - len(ordersByUsersB['orders'])),\\\n",
    "                               name='orders')],axis=0)"
   ]
  },
  {
   "cell_type": "markdown",
   "metadata": {},
   "source": [
    "Посчитаем статистическую значимость различий в конверсии между группами по \"сырым\" данным с помощью критерия Манна-Уитни.  \n",
    "Определим гиппотезы:  \n",
    "* H0: статистически значимых различий в конверсии между группами нет  \n",
    "* H1: статистически значимые различия в конверсии между группами есть  \n"
   ]
  },
  {
   "cell_type": "code",
   "execution_count": 50,
   "metadata": {
    "scrolled": true
   },
   "outputs": [
    {
     "name": "stdout",
     "output_type": "stream",
     "text": [
      "p-value=0.00840\n",
      "Отвергаем нулевую гипотезу\n",
      "Относительный прирост конверсии группы В: 0.138\n"
     ]
    }
   ],
   "source": [
    "alpha=0.05\n",
    "p_value = (stats.mannwhitneyu(sampleA, sampleB)[1])\n",
    "print(\"p-value={0:.5f}\".format(p_value))\n",
    "if (p_value < alpha):\n",
    "    print(\"Отвергаем нулевую гипотезу\")\n",
    "else:\n",
    "    print(\"Не получилось отвергнуть нулевую гипотезу\")\n",
    "print(\"Относительный прирост конверсии группы В: {0:.3f}\".format((data['ordersPerDateB'].sum()/data['visitorsPerDateB'].sum())\\\n",
    "                       /(data['ordersPerDateA'].sum()/data['visitorsPerDateA'].sum())-1))"
   ]
  },
  {
   "cell_type": "markdown",
   "metadata": {},
   "source": [
    "Так как у нас p-value = 0.00840 меньше 0.05, значит, нулевую гипотезу о том, что статистически значимых различий в конверсии между группами нет, можем отвергнуть.   \n",
    "**Прирост конверсии группы В на 13,8% статистическим значим**"
   ]
  },
  {
   "cell_type": "markdown",
   "metadata": {},
   "source": [
    "**Посчитаем статистическую значимость различий в среднем чеке между группами по \"сырым\" данным**<a name=\"сзчсд\"></a>"
   ]
  },
  {
   "cell_type": "markdown",
   "metadata": {},
   "source": [
    "Посчитаем статистическую значимость различий в среднем чеке между группами по \"сырым\" данным с помощью критерия Манна-Уитни.  \n",
    "Определим гиппотезы:  \n",
    "* H0: статистически значимых различий в среднем чеке между группами нет\n",
    "* H1: статистически значимые различия в среднем чеке между группами есть"
   ]
  },
  {
   "cell_type": "code",
   "execution_count": 51,
   "metadata": {
    "scrolled": true
   },
   "outputs": [
    {
     "name": "stdout",
     "output_type": "stream",
     "text": [
      "p-value=0.36465\n",
      "Не получилось отвергнуть нулевую гипотезу\n",
      "Относительный прирост среднего чека группы В: 0.259\n"
     ]
    }
   ],
   "source": [
    "alpha=0.05\n",
    "p_value = (stats.mannwhitneyu(orders[orders['group']=='A']['revenue'], orders[orders['group']=='B']['revenue'])[1])\n",
    "print(\"p-value={0:.5f}\".format(p_value))\n",
    "if (p_value < alpha):\n",
    "    print(\"Отвергаем нулевую гипотезу\")\n",
    "else:\n",
    "    print(\"Не получилось отвергнуть нулевую гипотезу\")\n",
    "\n",
    "print(\"Относительный прирост среднего чека группы В: {0:.3f}\".\\\n",
    "      format(orders[orders['group']=='B']['revenue'].mean()/orders[orders['group']=='A']['revenue'].mean()-1))"
   ]
  },
  {
   "cell_type": "markdown",
   "metadata": {},
   "source": [
    "Так как у нас p-value = 0.36465 больше 0.05, значит, нулевую гипотезу о том, что статистически значимых различий в конверсии между группами нет, не можем отвергнуть.   \n",
    "**Прирост среднего чека группы В на 25,9% НЕ ЯВЛЯЕТСЯ статистическим значимым**"
   ]
  },
  {
   "cell_type": "markdown",
   "metadata": {},
   "source": [
    "**Очистим данные**<a name=\"сзчсд\"></a>"
   ]
  },
  {
   "cell_type": "markdown",
   "metadata": {},
   "source": [
    "Выше мы приняли за аномальных пользователей тех, кто совершил от 4 заказов или совершил заказ дороже 40 000 рублей.   \n",
    "Посмотрим как изменятся показатели теста после удаления аномальных пользователей  \n",
    "Сделаем срезы пользователей с числом заказов больше 3 и пользователей, совершивших заказы дороже 40 000   \n",
    "Объединим их в таблице "
   ]
  },
  {
   "cell_type": "code",
   "execution_count": 52,
   "metadata": {},
   "outputs": [],
   "source": [
    "usersWithManyOrders = pd.concat([ordersByUsersA[ordersByUsersA['orders'] > 3]['userId'], \\\n",
    "                                 ordersByUsersB[ordersByUsersB['orders'] > 3]['userId']], axis = 0)\n",
    "usersWithExpensiveOrders = orders[orders['revenue'] > 40000]['visitor_id']\n",
    "abnormalUsers = pd.concat([usersWithManyOrders, usersWithExpensiveOrders], axis = 0).drop_duplicates().sort_values()"
   ]
  },
  {
   "cell_type": "markdown",
   "metadata": {},
   "source": [
    "**Посмотрим на графики относительных изменений куммулятивных метрик на \"очищенных\" данных**<a name=\"год\"></a>"
   ]
  },
  {
   "cell_type": "code",
   "execution_count": 53,
   "metadata": {},
   "outputs": [],
   "source": [
    "# создадим список аномальных пользователей и исключим их из таблицы orders\n",
    "abnormalUsers_list = abnormalUsers.tolist()\n",
    "orders_filt = orders.query('visitor_id not in @abnormalUsers_list')"
   ]
  },
  {
   "cell_type": "markdown",
   "metadata": {},
   "source": [
    "По аналогии с графиками по \"сырым\" результатам соберём кумулятивные данные по \"очищенным\" результатам."
   ]
  },
  {
   "cell_type": "code",
   "execution_count": 54,
   "metadata": {},
   "outputs": [],
   "source": [
    "datesGroups_filt = orders_filt[['date','group']].drop_duplicates()\n",
    "ordersAggregated_filt = datesGroups_filt.apply(lambda x: orders_filt[np.logical_and(orders_filt['date'] <= x['date'], \\\n",
    "                        orders_filt['group'] == x['group'])].agg({'date' : 'max', 'group' : 'max', \\\n",
    "                       'transaction_id' : pd.Series.nunique, 'visitor_id' : pd.Series.nunique, 'revenue' : 'sum'}), axis=1).\\\n",
    "                        sort_values(by=['date','group'])\n",
    "visitorsAggregated_filt = datesGroups_filt.apply(lambda x: visitors[np.logical_and(visitors['date'] <= x['date'], \\\n",
    "                          visitors['group'] == x['group'])].agg({'date' : 'max', 'group' : 'max', 'visitors' : 'sum'}),\\\n",
    "                                                 axis=1).sort_values(by=['date','group'])\n",
    "cumulativeData_filt = ordersAggregated_filt.merge(visitorsAggregated_filt, left_on=['date', 'group'], \\\n",
    "                                                  right_on=['date', 'group'])\n",
    "cumulativeData_filt.columns = ['date', 'group', 'orders', 'buyers', 'revenue', 'visitors']\n",
    "cumulativeRevenueA_filt = cumulativeData_filt[cumulativeData_filt['group']=='A'][['date','revenue', 'orders']]\n",
    "cumulativeRevenueB_filt = cumulativeData_filt[cumulativeData_filt['group']=='B'][['date','revenue', 'orders']]\n",
    "cumulativeRevenueA_filt['check'] = cumulativeRevenueA_filt['revenue']/cumulativeRevenueA_filt['orders']\n",
    "cumulativeRevenueB_filt['check'] = cumulativeRevenueB_filt['revenue']/cumulativeRevenueB_filt['orders']\n",
    "mergedCumulativeRevenue_filt = cumulativeRevenueA_filt.\\\n",
    "merge(cumulativeRevenueB_filt, left_on='date', right_on='date', how='left', suffixes=['A', 'B'])\n",
    "cumulativeData_filt['conversion'] = cumulativeData_filt['orders']/cumulativeData_filt['visitors']\n",
    "cumulativeDataA_filt = cumulativeData_filt[cumulativeData_filt['group']=='A']\n",
    "cumulativeDataB_filt = cumulativeData_filt[cumulativeData_filt['group']=='B']\n",
    "mergedCumulativeConversions_filt = cumulativeDataA_filt[['date','conversion']]\\\n",
    ".merge(cumulativeDataB_filt[['date','conversion']], left_on='date', right_on='date', how='left', suffixes=['A', 'B'])"
   ]
  },
  {
   "cell_type": "code",
   "execution_count": 55,
   "metadata": {
    "scrolled": false
   },
   "outputs": [
    {
     "data": {
      "image/png": "[encoded data removed]",
      "text/plain": [
       "<Figure size 1080x432 with 1 Axes>"
      ]
     },
     "metadata": {
      "needs_background": "light"
     },
     "output_type": "display_data"
    }
   ],
   "source": [
    "# строим график относительного изменения среднего чека по фильтрованным данным\n",
    "relation_plot(mergedCumulativeRevenue_filt, 'checkA', 'checkB',\\\n",
    "              'График относительного изменения кумулятивного среднего чека группы В к группе А по \"очищенным\" данным',\\\n",
    "              'Отношение кумулятивного среднего чека группы В к группе А', 0.4)"
   ]
  },
  {
   "cell_type": "markdown",
   "metadata": {},
   "source": [
    "По \"очищенным\" данным видим следующую картину: в первую неделю относительное изменение среднего чека группы В к группе А уверенно растёт, потом небольшое падение и стабилизация около 7-10% в конце теста "
   ]
  },
  {
   "cell_type": "code",
   "execution_count": 56,
   "metadata": {
    "scrolled": false
   },
   "outputs": [
    {
     "data": {
      "image/png": "[encoded data removed]",
      "text/plain": [
       "<Figure size 1080x432 with 1 Axes>"
      ]
     },
     "metadata": {
      "needs_background": "light"
     },
     "output_type": "display_data"
    }
   ],
   "source": [
    "# строим график относительного изменения конверсии по фильтрованным данным\n",
    "relation_plot(mergedCumulativeConversions_filt, 'conversionA', 'conversionB', \\\n",
    "              'График относительного изменения кумулятивной конверсии группы В к группе А по \"очищенным\" данным',\\\n",
    "              'Отношение кумулятивной конверсии группы В к группе А', 0.2)"
   ]
  },
  {
   "cell_type": "markdown",
   "metadata": {},
   "source": [
    "Относительное изменение конверсии группы В к группе А по \"очищенным\" данным показывает уверенный рост с первой недели проведения теста, к концу недели она стабилизировалась в районе 15 - 16 %\n"
   ]
  },
  {
   "cell_type": "markdown",
   "metadata": {},
   "source": [
    "**Посчитаем статистическую значимость различий в конверсии между группами по \"очищенным\" данным**<a name=\"сзкод\"></a>"
   ]
  },
  {
   "cell_type": "markdown",
   "metadata": {},
   "source": [
    "Подготовим выборки количества заказов по пользователям по группам теста"
   ]
  },
  {
   "cell_type": "code",
   "execution_count": 57,
   "metadata": {},
   "outputs": [],
   "source": [
    "sampleAFiltered = pd.concat([ordersByUsersA[np.logical_not(ordersByUsersA['userId'].isin(abnormalUsers))]['orders'],\\\n",
    "                             pd.Series(0, index=np.arange(data['visitorsPerDateA'].sum() - len(ordersByUsersA['orders'])),\\\n",
    "                                       name='orders')],axis=0)\n",
    "\n",
    "sampleBFiltered = pd.concat([ordersByUsersB[np.logical_not(ordersByUsersB['userId'].isin(abnormalUsers))]['orders'],\\\n",
    "                             pd.Series(0, index=np.arange(data['visitorsPerDateB'].sum() - len(ordersByUsersB['orders'])),\\\n",
    "                                       name='orders')],axis=0)"
   ]
  },
  {
   "cell_type": "markdown",
   "metadata": {},
   "source": [
    "Применим статистический критерий Манна-Уитни к полученным выборкам"
   ]
  },
  {
   "cell_type": "markdown",
   "metadata": {},
   "source": [
    "Посчитаем статистическую значимость различий в конверсии между группами по \"очищенным\" данным.  \n",
    "Определим гиппотезы:  \n",
    "* H0: статистически значимых различий в конверсии между группами нет  \n",
    "* H1: статистически значимые различия в конверсии между группами есть  "
   ]
  },
  {
   "cell_type": "code",
   "execution_count": 58,
   "metadata": {},
   "outputs": [
    {
     "name": "stdout",
     "output_type": "stream",
     "text": [
      "p-value=0.00465\n",
      "Отвергаем нулевую гипотезу\n",
      "Относительный прирост конверсии группы В: 0.164\n"
     ]
    }
   ],
   "source": [
    "alpha=0.05\n",
    "p_value = (stats.mannwhitneyu(sampleAFiltered, sampleBFiltered)[1])\n",
    "print(\"p-value={0:.5f}\".format(p_value))\n",
    "if (p_value < alpha):\n",
    "    print(\"Отвергаем нулевую гипотезу\")\n",
    "else:\n",
    "    print(\"Не получилось отвергнуть нулевую гипотезу\")\n",
    "print(\"Относительный прирост конверсии группы В: {0:.3f}\".format(sampleBFiltered.mean()/sampleAFiltered.mean()-1))"
   ]
  },
  {
   "cell_type": "markdown",
   "metadata": {},
   "source": [
    "Так как у нас p-value = 0.00465 меньше 0.05, значит, нулевую гипотезу о том, что статистически значимых различий в конверсии между группами нет, можем отвергнуть.  \n",
    "После \"очистки\" данных, прирост конверсии увеличился на 2,6 %  \n",
    "**Прирост конверсии группы В на 16,4% статистическим значим**"
   ]
  },
  {
   "cell_type": "markdown",
   "metadata": {},
   "source": [
    "**Посчитаем статистическую значимость различий в среднем чеке между группами по \"очищенным\" данным**<a name=\"сзчод\"></a>"
   ]
  },
  {
   "cell_type": "markdown",
   "metadata": {},
   "source": [
    "Посчитаем статистическую значимость различий в среднем чеке между группами по \"очищенным\" данным с помощью статистического критерия Манна-Уитни.  \n",
    "Определим гиппотезы:  \n",
    "* H0: статистически значимых различий в среднем чеке между группами нет\n",
    "* H1: статистически значимые различия в среднем чеке между группами есть"
   ]
  },
  {
   "cell_type": "code",
   "execution_count": 59,
   "metadata": {},
   "outputs": [
    {
     "name": "stdout",
     "output_type": "stream",
     "text": [
      "p-value=0.35549\n",
      "Не получилось отвергнуть нулевую гипотезу\n",
      "Относительный прирост среднего чека группы В: 0.060\n"
     ]
    }
   ],
   "source": [
    "alpha=0.05\n",
    "p_value = (stats.mannwhitneyu(orders[np.logical_and(orders['group']=='A',\\\n",
    "                    np.logical_not(orders['visitor_id'].isin(abnormalUsers)))]['revenue'],\\\n",
    "                    orders[np.logical_and(orders['group']=='B',np.logical_not(orders['visitor_id'].\\\n",
    "                                        isin(abnormalUsers)))]['revenue'])[1])\n",
    "print(\"p-value={0:.5f}\".format(p_value))\n",
    "if (p_value < alpha):\n",
    "    print(\"Отвергаем нулевую гипотезу\")\n",
    "else:\n",
    "    print(\"Не получилось отвергнуть нулевую гипотезу\")\n",
    "\n",
    "print(\"Относительный прирост среднего чека группы В: {0:.3f}\".\\\n",
    "      format(orders[np.logical_and(orders['group']=='B',np.logical_not(orders['visitor_id']\\\n",
    "                    .isin(abnormalUsers)))]['revenue'].mean()/orders[np.logical_and(orders['group']=='A',\\\n",
    "                    np.logical_not(orders['visitor_id'].isin(abnormalUsers)))]['revenue'].mean() - 1))"
   ]
  },
  {
   "cell_type": "markdown",
   "metadata": {},
   "source": [
    "Так как у нас p-value = 0.35549 больше 0.05, значит, нулевую гипотезу о том, что статистически значимых различий в конверсии между группами нет, не можем отвергнуть.   \n",
    "После очистки данных мы увидели реальную картину, что прирост среднего чека совсем не большой, всего 6% (прирост среднего чека по \"сырым\" данным был почти 26%).  \n",
    "Выбросы значительно искажали картину.  \n",
    "**Прирост среднего чека группы В на 6 % НЕ ЯВЛЯЕТСЯ статистическим значимым**  \n"
   ]
  },
  {
   "cell_type": "markdown",
   "metadata": {},
   "source": [
    "**Вывод:**\n",
    "\n",
    "* прирост конверсии группы В относительно группы А статистически значим до и после очистки данных  \n",
    "\n",
    "* прирост среднего чека группы В относительно группы А не является статистически значимым ни до, ни после очистки данных"
   ]
  },
  {
   "cell_type": "markdown",
   "metadata": {},
   "source": [
    "## 7. Вывод по результатам А/В-теста <a name=\"ВЫВОД\"></a>"
   ]
  },
  {
   "cell_type": "markdown",
   "metadata": {},
   "source": [
    "Кумулятивные метрики по выручке, среднему чеку и конверсии почти все время лидировали в группе B.     \n",
    "\n",
    "Были сомнения из-за резких колебаний на графике кумулятивного среднего чека в группе B до очистки данных от аномальных пользователей.   \n",
    "\n",
    "Сомнения подтвердились на этот счет, т.к. после очистки разница между средними чеками стала минимальна, но это не даёт повода сомневаться в проведении теста и его результатах.   \n",
    "\n",
    "Показатель конверсии в группе B больше показателя в группе A:  \n",
    "\n",
    "* на 13.8 % до очистки данных  \n",
    "* на 16.4 % после очистки данных.     \n",
    "\n",
    "Данная разница показателей конверсии между группами и до, и после очистки данных является СТАТИСТИЧЕСКИ ЗНАЧИМОЙ, что пользволяет сделать вывод о том, что **можно остановить A/B-тест и зафиксировать ПОБЕДУ группы B**.  \n",
    "\n",
    "Стоит отметить, что процессе работы с данными было выяснено, что некоторые пользователи попали в обе группы (А и В), что нарушает один из основных принцип работы A/B-теста - один пользователь попадает только в одну группу на всём протяжении теста.  \n",
    "В связи с этим, необходимо проверить корректность отработки метода разделения пользователей и поправить его, чтобы один пользователь попадал только в одну группу.\n"
   ]
  }
 ],
 "metadata": {
  "kernelspec": {
   "display_name": "Python 3",
   "language": "python",
   "name": "python3"
  },
  "language_info": {
   "codemirror_mode": {
    "name": "ipython",
    "version": 3
   },
   "file_extension": ".py",
   "mimetype": "text/x-python",
   "name": "python",
   "nbconvert_exporter": "python",
   "pygments_lexer": "ipython3",
   "version": "3.7.6"
  }
 },
 "nbformat": 4,
 "nbformat_minor": 2
}

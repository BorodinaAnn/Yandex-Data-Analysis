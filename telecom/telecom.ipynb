{
 "cells": [
  {
   "cell_type": "markdown",
   "metadata": {},
   "source": [
    "# Определение перспективного тарифа для телеком компании  \n",
    "\n",
    "## Описание проекта  \n",
    "\n",
    "**На основе данных клиентов оператора сотовой связи проанализировать поведение клиентов и поиск оптимального тарифа**\n",
    "\n"
   ]
  },
  {
   "cell_type": "markdown",
   "metadata": {},
   "source": [
    "## Содержание  \n",
    "\n",
    "\n",
    "* [1.Описание данных и задач](#данные)\n",
    "* [2.Импорт библиотек и изучение общей информации](#импорт)\n",
    "    * [2.1 Датафрейм \"Tariffs\" (Информация о тарифах)](#тариф) \n",
    "    * [2.2 Датафрейм \"Calls\" (Информация о звонках)](#звонки)\n",
    "    * [2.3 Датафрейм \"Users\" (Информация о пользователях)](#пользователи)\n",
    "    * [2.4 Датафрейм \"Messages\" (Информация о сообщениях)](#смс)    \n",
    "    * [2.5 Датафрейм \"Internet\" (Информация об интернет-сессиях)](#интернет)    \n",
    "* [3.Формирование общего датафрейма](#общийДФ)\n",
    "    * [3.1 Изменение типа данных столбцов с датами и добавление столбцов \"month\"](#общийДФД)\n",
    "    * [3.2 Подсчёт для пользователей количества звонков, израсходованных минут, смс, объёма израсходованного интернета](#общийДФИ)\n",
    "    * [3.3 Формирование общего датафрейма \"total_data\"](#общийДФДФ)    \n",
    "    * [3.4 Работа с пропущенными значениями общего датафрейма](#общийДФП)  \n",
    "    * [3.5 Расчёт помесячного перерасхода пользователем пакетов услуг в рамках тарифа](#общийДФПЕР)\n",
    "    * [3.6 Расчёт помесячной выручки с пользователя](#общийДФВЫР)  \n",
    "    * [3.7 Расчёт переплаты сверх тарифа по пользователям](#общийДФПЛ) \n",
    "    * [3.8 Категоризация пользователей по наличию оплат сверх тарифа и по территориальному признаку](#общийДФКАТ) \n",
    "    * [3.9 Анализ переплат по тарифам](#общийДФПЕРТАР) \n",
    "* [4.Анализ данных](#анализ)\n",
    "    * [4.1 Функции для построения диаграмм размаха и расчета доверительных интервалов](#анализФДР)\n",
    "    * [4.2 Диаграмма размаха \"Объём использованного интернет-траффика](#анализДРИ)\n",
    "    * [4.3 Диаграмма размаха \"Количество использованных минут](#анализДРМ)    \n",
    "    * [4.4 Диаграмма размаха \"Количество отправленных сообщений](#анализДРС)  \n",
    "    * [4.5 Функция для построения гистограмм для отфильтрованных от выбросов данных и расчета дисперсии, среднего, медианы и стандартного отклонения](#анализФГ)\n",
    "    * [4.6 Гистограмма количества использованных минут](#анализГМ)  \n",
    "    * [4.7 Гистограмма объёма использованного интернет-трафика](#анализГИ) \n",
    "    * [4.8 Гистограмма количества отправленных сообщений](#анализГС) \n",
    "* [5.Проверка гипотез](#гипотезы)  \n",
    "    * [5.1 Гипотеза: средняя выручка пользователей тарифов «Ультра» и «Смарт» различается](#гипотеза1)\n",
    "    * [5.2 Гипотеза: средняя выручка пользователей из Москвы отличается от выручки пользователей из других регионов;](#гипотеза2)\n",
    "* [6.Общий вывод](#вывод)     "
   ]
  },
  {
   "cell_type": "markdown",
   "metadata": {},
   "source": [
    "# 1. Описание данных <a name=\"данные\"></a>\n",
    "\n",
    "\n",
    "### Описание тарифов\n",
    "\n",
    "#### Тариф «Смарт»  \n",
    "\n",
    "1.\tЕжемесячная плата: 550 рублей  \n",
    "\n",
    "2.\tВключено 500 минут разговора, 50 сообщений и 15 Гб интернет-трафика  \n",
    "\n",
    "3.\tСтоимость услуг сверх тарифного пакета:  \n",
    "\n",
    "•\tминута разговора: 3 рубля  \n",
    "\n",
    "•\tсообщение: 3 рубля  \n",
    "\n",
    "•\t1 Гб интернет-трафика: 200 рублей     \n",
    "\n",
    "\n",
    "#### Тариф «Ультра»  \n",
    "\n",
    "1.\tЕжемесячная плата: 1950 рублей  \n",
    "\n",
    "2.\tВключено 3000 минут разговора, 1000 сообщений и 30 Гб интернет-трафика  \n",
    "\n",
    "3.\tСтоимость услуг сверх тарифного пакета:   \n",
    "\n",
    "•\tминута разговора: 1 рубль  \n",
    "\n",
    "•\tсообщение: 1 рубль  \n",
    "\n",
    "•\t1 Гб интернет-трафика: 150 рублей  \n",
    "\n",
    "\n",
    "### Таблица users (информация о пользователях):  \n",
    "\n",
    "•\tuser_id — уникальный идентификатор пользователя  \n",
    "•\tfirst_name — имя пользователя  \n",
    "•\tlast_name — фамилия пользователя  \n",
    "•\tage — возраст пользователя (годы)  \n",
    "•\treg_date — дата подключения тарифа (день, месяц, год)  \n",
    "•\tchurn_date — дата прекращения пользования тарифом (если значение пропущено, то тариф ещё действовал на момент выгрузки данных)  \n",
    "•\tcity — город проживания пользователя  \n",
    "•\ttariff — название тарифного плана  \n",
    "\n",
    "### Таблица calls (информация о звонках):  \n",
    "\n",
    "•\tid — уникальный номер звонка  \n",
    "•\tcall_date — дата звонка  \n",
    "•\tduration — длительность звонка в минутах  \n",
    "•\tuser_id — идентификатор пользователя, сделавшего звонок  \n",
    "\n",
    "### Таблица messages (информация о сообщениях):  \n",
    "\n",
    "•\tid — уникальный номер сообщения  \n",
    "•\tmessage_date — дата сообщения  \n",
    "•\tuser_id — идентификатор пользователя, отправившего сообщение  \n",
    "\n",
    "### Таблица internet (информация об интернет-сессиях):  \n",
    "\n",
    "•\tid — уникальный номер сессии   \n",
    "•\tmb_used — объём потраченного за сессию интернет-трафика (в мегабайтах)  \n",
    "•\tsession_date — дата интернет-сессии  \n",
    "•\tuser_id — идентификатор пользователя  \n",
    "\n",
    "### Таблица tariffs (информация о тарифах):  \n",
    "\n",
    "•\ttariff_name — название тарифа  \n",
    "•\trub_monthly_fee — ежемесячная абонентская плата в рублях  \n",
    "•\tminutes_included — количество минут разговора в месяц, включённых в абонентскую плату  \n",
    "•\tmessages_included — количество сообщений в месяц, включённых в абонентскую плату  \n",
    "•\tmb_per_month_included — объём интернет-трафика, включённого в абонентскую плату (в мегабайтах)  \n",
    "•\trub_per_minute — стоимость минуты разговора сверх тарифного пакета (например, если в тарифе 100 минут разговора в месяц, то со 101 минуты будет взиматься плата)  \n",
    "•\trub_per_message — стоимость отправки сообщения сверх тарифного пакета  \n",
    "•\trub_per_gb — стоимость дополнительного гигабайта интернет-трафика сверх тарифного пакета (1 гигабайт = 1024 мегабайта)  \n"
   ]
  },
  {
   "cell_type": "markdown",
   "metadata": {},
   "source": [
    "# Задачи:"
   ]
  },
  {
   "cell_type": "markdown",
   "metadata": {},
   "source": [
    "### 1. Подготовка данных  \n",
    "\n",
    "•\tПриведем данные к нужным типам;  \n",
    "\n",
    "•\tНайдем и исправим ошибки в данных.  \n"
   ]
  },
  {
   "cell_type": "markdown",
   "metadata": {},
   "source": [
    "### 2. Расчет данных для каждого пользователя:  \n",
    "\n",
    "•\tколичество сделанных звонков и израсходованных минут разговора по месяцам;  \n",
    "\n",
    "•\tколичество отправленных сообщений по месяцам;  \n",
    "\n",
    "•\tобъем израсходованного интернет-трафика по месяцам;  \n",
    "\n",
    "•\tпомесячную выручку с каждого пользователя (вычтите бесплатный лимит из суммарного количества звонков, сообщений и интернет-трафика; остаток умножьте на значение из тарифного плана; прибавьте абонентскую плату, соответствующую тарифному плану).  "
   ]
  },
  {
   "cell_type": "markdown",
   "metadata": {},
   "source": [
    "### 3. Анализ данных  \n",
    "\n",
    "Опишем поведение клиентов оператора, исходя из выборки. Сколько минут разговора, сколько сообщений и какой объём интернет-трафика требуется пользователям каждого тарифа в месяц? Посчитаем среднее количество, дисперсию и стандартное отклонение. Построем гистограммы. Опишем распределения.\n"
   ]
  },
  {
   "cell_type": "markdown",
   "metadata": {},
   "source": [
    "### 4. Проверка гипотез  \n",
    "\n",
    "•\tсредняя выручка пользователей тарифов «Ультра» и «Смарт» различается;  \n",
    "\n",
    "•\tсредняя выручка пользователей из Москвы отличается от выручки пользователей из других регионов;  \n"
   ]
  },
  {
   "cell_type": "markdown",
   "metadata": {},
   "source": [
    "## 2. Импорт библиотек и изучение общей информации <a name=\"импорт\"></a>"
   ]
  },
  {
   "cell_type": "code",
   "execution_count": 1,
   "metadata": {},
   "outputs": [],
   "source": [
    "# импортируем библиотеки\n",
    "import pandas as pd \n",
    "import matplotlib.pyplot as plt\n",
    "%matplotlib inline\n",
    "import numpy as np\n",
    "import seaborn as sns\n",
    "from scipy import stats as st"
   ]
  },
  {
   "cell_type": "code",
   "execution_count": 2,
   "metadata": {},
   "outputs": [],
   "source": [
    "# сохраняем данные  в переменные calls, internet, messages,  tariffs, users\n",
    "calls = pd.read_csv('')\n",
    "internet = pd.read_csv('')\n",
    "messages = pd.read_csv('')\n",
    "tariffs = pd.read_csv('')\n",
    "users = pd.read_csv('')"
   ]
  },
  {
   "cell_type": "markdown",
   "metadata": {},
   "source": [
    "Напишем функцию с помощью которой будем выводить информацию о датафреймах"
   ]
  },
  {
   "cell_type": "code",
   "execution_count": 3,
   "metadata": {},
   "outputs": [],
   "source": [
    "def total_info(data, name):\n",
    "    print(name)\n",
    "    display(data.head())\n",
    "    print('*************************************')\n",
    "    display(data.info()) \n",
    "    print('*************************************')\n",
    "    print(\"Число дубликатов:\", data.duplicated().sum())\n",
    "    print('*************************************')"
   ]
  },
  {
   "cell_type": "markdown",
   "metadata": {},
   "source": [
    "Приступим к ознакомлению с данными."
   ]
  },
  {
   "cell_type": "markdown",
   "metadata": {},
   "source": [
    "**Датафрейм \"Tariffs\" (Информация о тарифах)**<a name=\"тариф\"></a>"
   ]
  },
  {
   "cell_type": "code",
   "execution_count": 4,
   "metadata": {},
   "outputs": [
    {
     "name": "stdout",
     "output_type": "stream",
     "text": [
      "Информация о тарифах\n"
     ]
    },
    {
     "data": {
      "text/html": [
       "<div>\n",
       "<style scoped>\n",
       "    .dataframe tbody tr th:only-of-type {\n",
       "        vertical-align: middle;\n",
       "    }\n",
       "\n",
       "    .dataframe tbody tr th {\n",
       "        vertical-align: top;\n",
       "    }\n",
       "\n",
       "    .dataframe thead th {\n",
       "        text-align: right;\n",
       "    }\n",
       "</style>\n",
       "<table border=\"1\" class=\"dataframe\">\n",
       "  <thead>\n",
       "    <tr style=\"text-align: right;\">\n",
       "      <th></th>\n",
       "      <th>messages_included</th>\n",
       "      <th>mb_per_month_included</th>\n",
       "      <th>minutes_included</th>\n",
       "      <th>rub_monthly_fee</th>\n",
       "      <th>rub_per_gb</th>\n",
       "      <th>rub_per_message</th>\n",
       "      <th>rub_per_minute</th>\n",
       "      <th>tariff_name</th>\n",
       "    </tr>\n",
       "  </thead>\n",
       "  <tbody>\n",
       "    <tr>\n",
       "      <td>0</td>\n",
       "      <td>50</td>\n",
       "      <td>15360</td>\n",
       "      <td>500</td>\n",
       "      <td>550</td>\n",
       "      <td>200</td>\n",
       "      <td>3</td>\n",
       "      <td>3</td>\n",
       "      <td>smart</td>\n",
       "    </tr>\n",
       "    <tr>\n",
       "      <td>1</td>\n",
       "      <td>1000</td>\n",
       "      <td>30720</td>\n",
       "      <td>3000</td>\n",
       "      <td>1950</td>\n",
       "      <td>150</td>\n",
       "      <td>1</td>\n",
       "      <td>1</td>\n",
       "      <td>ultra</td>\n",
       "    </tr>\n",
       "  </tbody>\n",
       "</table>\n",
       "</div>"
      ],
      "text/plain": [
       "   messages_included  mb_per_month_included  minutes_included  \\\n",
       "0                 50                  15360               500   \n",
       "1               1000                  30720              3000   \n",
       "\n",
       "   rub_monthly_fee  rub_per_gb  rub_per_message  rub_per_minute tariff_name  \n",
       "0              550         200                3               3       smart  \n",
       "1             1950         150                1               1       ultra  "
      ]
     },
     "metadata": {},
     "output_type": "display_data"
    },
    {
     "name": "stdout",
     "output_type": "stream",
     "text": [
      "*************************************\n",
      "<class 'pandas.core.frame.DataFrame'>\n",
      "RangeIndex: 2 entries, 0 to 1\n",
      "Data columns (total 8 columns):\n",
      "messages_included        2 non-null int64\n",
      "mb_per_month_included    2 non-null int64\n",
      "minutes_included         2 non-null int64\n",
      "rub_monthly_fee          2 non-null int64\n",
      "rub_per_gb               2 non-null int64\n",
      "rub_per_message          2 non-null int64\n",
      "rub_per_minute           2 non-null int64\n",
      "tariff_name              2 non-null object\n",
      "dtypes: int64(7), object(1)\n",
      "memory usage: 256.0+ bytes\n"
     ]
    },
    {
     "data": {
      "text/plain": [
       "None"
      ]
     },
     "metadata": {},
     "output_type": "display_data"
    },
    {
     "name": "stdout",
     "output_type": "stream",
     "text": [
      "*************************************\n",
      "Число дубликатов: 0\n",
      "*************************************\n"
     ]
    }
   ],
   "source": [
    "total_info(tariffs, 'Информация о тарифах')"
   ]
  },
  {
   "cell_type": "markdown",
   "metadata": {},
   "source": [
    "Данные чистые, ничего менять не надо."
   ]
  },
  {
   "cell_type": "markdown",
   "metadata": {},
   "source": [
    "**Датафрейм \"Calls\" (Информация о звонках)**<a name=\"звонки\"></a>"
   ]
  },
  {
   "cell_type": "code",
   "execution_count": 5,
   "metadata": {
    "scrolled": false
   },
   "outputs": [
    {
     "name": "stdout",
     "output_type": "stream",
     "text": [
      "**Информация о звонках**\n"
     ]
    },
    {
     "data": {
      "text/html": [
       "<div>\n",
       "<style scoped>\n",
       "    .dataframe tbody tr th:only-of-type {\n",
       "        vertical-align: middle;\n",
       "    }\n",
       "\n",
       "    .dataframe tbody tr th {\n",
       "        vertical-align: top;\n",
       "    }\n",
       "\n",
       "    .dataframe thead th {\n",
       "        text-align: right;\n",
       "    }\n",
       "</style>\n",
       "<table border=\"1\" class=\"dataframe\">\n",
       "  <thead>\n",
       "    <tr style=\"text-align: right;\">\n",
       "      <th></th>\n",
       "      <th>id</th>\n",
       "      <th>call_date</th>\n",
       "      <th>duration</th>\n",
       "      <th>user_id</th>\n",
       "    </tr>\n",
       "  </thead>\n",
       "  <tbody>\n",
       "    <tr>\n",
       "      <td>0</td>\n",
       "      <td>1000_0</td>\n",
       "      <td>2018-07-25</td>\n",
       "      <td>0.00</td>\n",
       "      <td>1000</td>\n",
       "    </tr>\n",
       "    <tr>\n",
       "      <td>1</td>\n",
       "      <td>1000_1</td>\n",
       "      <td>2018-08-17</td>\n",
       "      <td>0.00</td>\n",
       "      <td>1000</td>\n",
       "    </tr>\n",
       "    <tr>\n",
       "      <td>2</td>\n",
       "      <td>1000_2</td>\n",
       "      <td>2018-06-11</td>\n",
       "      <td>2.85</td>\n",
       "      <td>1000</td>\n",
       "    </tr>\n",
       "    <tr>\n",
       "      <td>3</td>\n",
       "      <td>1000_3</td>\n",
       "      <td>2018-09-21</td>\n",
       "      <td>13.80</td>\n",
       "      <td>1000</td>\n",
       "    </tr>\n",
       "    <tr>\n",
       "      <td>4</td>\n",
       "      <td>1000_4</td>\n",
       "      <td>2018-12-15</td>\n",
       "      <td>5.18</td>\n",
       "      <td>1000</td>\n",
       "    </tr>\n",
       "  </tbody>\n",
       "</table>\n",
       "</div>"
      ],
      "text/plain": [
       "       id   call_date  duration  user_id\n",
       "0  1000_0  2018-07-25      0.00     1000\n",
       "1  1000_1  2018-08-17      0.00     1000\n",
       "2  1000_2  2018-06-11      2.85     1000\n",
       "3  1000_3  2018-09-21     13.80     1000\n",
       "4  1000_4  2018-12-15      5.18     1000"
      ]
     },
     "metadata": {},
     "output_type": "display_data"
    },
    {
     "name": "stdout",
     "output_type": "stream",
     "text": [
      "*************************************\n",
      "<class 'pandas.core.frame.DataFrame'>\n",
      "RangeIndex: 202607 entries, 0 to 202606\n",
      "Data columns (total 4 columns):\n",
      "id           202607 non-null object\n",
      "call_date    202607 non-null object\n",
      "duration     202607 non-null float64\n",
      "user_id      202607 non-null int64\n",
      "dtypes: float64(1), int64(1), object(2)\n",
      "memory usage: 6.2+ MB\n"
     ]
    },
    {
     "data": {
      "text/plain": [
       "None"
      ]
     },
     "metadata": {},
     "output_type": "display_data"
    },
    {
     "name": "stdout",
     "output_type": "stream",
     "text": [
      "*************************************\n",
      "Число дубликатов: 0\n",
      "*************************************\n"
     ]
    }
   ],
   "source": [
    "total_info(calls, '**Информация о звонках**')"
   ]
  },
  {
   "cell_type": "markdown",
   "metadata": {},
   "source": [
    "Данные полные, пропусков нет, дубликатов нет.  \n",
    "Тип данных столбца call_date изменим на datetime.\t\n",
    "Длительность звонка указана с точностью до сотых, в комментариях к тарифам указано, что  \"Мегалайн\" всегда округляет вверх значения минут и мегабайтов, поэтому округлим значения столбца 'duration' таблицы calls."
   ]
  },
  {
   "cell_type": "code",
   "execution_count": 6,
   "metadata": {},
   "outputs": [],
   "source": [
    "calls['duration'] = np.ceil(calls.duration) #округляем вверх значения длительности звонка"
   ]
  },
  {
   "cell_type": "markdown",
   "metadata": {},
   "source": [
    "Посмотрим на гистограмму распределения длительности звонков"
   ]
  },
  {
   "cell_type": "code",
   "execution_count": 7,
   "metadata": {},
   "outputs": [],
   "source": [
    "# напишем функцию для прорисовки гистограмм\n",
    "def hist(df, column, name):\n",
    "        plot = df[column].plot(title=name, kind='hist', bins=50, ec='black')\n",
    "        return plot"
   ]
  },
  {
   "cell_type": "code",
   "execution_count": 8,
   "metadata": {
    "scrolled": false
   },
   "outputs": [
    {
     "data": {
      "image/png": "[encoded data removed]",
      "text/plain": [
       "<Figure size 432x288 with 1 Axes>"
      ]
     },
     "metadata": {
      "needs_background": "light"
     },
     "output_type": "display_data"
    }
   ],
   "source": [
    "hist(calls,'duration', 'Распределение длительности звонков');"
   ]
  },
  {
   "cell_type": "markdown",
   "metadata": {},
   "source": [
    "Видим, что очень много звонков имеют длительность 0, посмотрим сколько таких звонков в датафрейме"
   ]
  },
  {
   "cell_type": "markdown",
   "metadata": {
    "scrolled": true
   },
   "source": [
    "calls.query('duration == 0.0')"
   ]
  },
  {
   "cell_type": "markdown",
   "metadata": {},
   "source": [
    "Нулевых звонков почти 40 тысяч, скорее всего это несостоявшиеся звонки: пропущенные, неотвеченные.  \n",
    "Так как они не расходуют пакет тарифа и никак не влияют на выручку, думаю их можно удалить.  \n",
    "Кроме того, очень часто если абонент не дозвонился куда-либо или пропустил входящий зонок, он повторит попытку дозвона или перезвонит на пропущенный номер, т.е. нулевые звонки скорее всего \"дублируют\" состоявшиеся звонки.  "
   ]
  },
  {
   "cell_type": "code",
   "execution_count": 9,
   "metadata": {},
   "outputs": [],
   "source": [
    "# удаляем звонки длительностью 0.0 минут\n",
    "calls['duration'] = calls['duration'].replace(0, np.NaN)\n",
    "calls = calls.dropna().reset_index(drop=True)"
   ]
  },
  {
   "cell_type": "markdown",
   "metadata": {},
   "source": [
    "Посмотрим еще раз на гистограмму распределения"
   ]
  },
  {
   "cell_type": "code",
   "execution_count": 10,
   "metadata": {
    "scrolled": true
   },
   "outputs": [
    {
     "data": {
      "image/png": "[encoded data removed]",
      "text/plain": [
       "<Figure size 432x288 with 1 Axes>"
      ]
     },
     "metadata": {
      "needs_background": "light"
     },
     "output_type": "display_data"
    }
   ],
   "source": [
    "hist(calls,'duration', 'Распределение длительности звонков');"
   ]
  },
  {
   "cell_type": "markdown",
   "metadata": {},
   "source": [
    "Основная часть звонков длится от 2-3 минут до 10-12 минут"
   ]
  },
  {
   "cell_type": "markdown",
   "metadata": {},
   "source": [
    "**Датафрейм \"Users\" (Информация о пользователях)**<a name=\"пользователи\"></a>"
   ]
  },
  {
   "cell_type": "code",
   "execution_count": 11,
   "metadata": {
    "scrolled": false
   },
   "outputs": [
    {
     "name": "stdout",
     "output_type": "stream",
     "text": [
      "Информация о пользователях\n"
     ]
    },
    {
     "data": {
      "text/html": [
       "<div>\n",
       "<style scoped>\n",
       "    .dataframe tbody tr th:only-of-type {\n",
       "        vertical-align: middle;\n",
       "    }\n",
       "\n",
       "    .dataframe tbody tr th {\n",
       "        vertical-align: top;\n",
       "    }\n",
       "\n",
       "    .dataframe thead th {\n",
       "        text-align: right;\n",
       "    }\n",
       "</style>\n",
       "<table border=\"1\" class=\"dataframe\">\n",
       "  <thead>\n",
       "    <tr style=\"text-align: right;\">\n",
       "      <th></th>\n",
       "      <th>user_id</th>\n",
       "      <th>age</th>\n",
       "      <th>churn_date</th>\n",
       "      <th>city</th>\n",
       "      <th>first_name</th>\n",
       "      <th>last_name</th>\n",
       "      <th>reg_date</th>\n",
       "      <th>tariff</th>\n",
       "    </tr>\n",
       "  </thead>\n",
       "  <tbody>\n",
       "    <tr>\n",
       "      <td>0</td>\n",
       "      <td>1000</td>\n",
       "      <td>52</td>\n",
       "      <td>NaN</td>\n",
       "      <td>Краснодар</td>\n",
       "      <td>Рафаил</td>\n",
       "      <td>Верещагин</td>\n",
       "      <td>2018-05-25</td>\n",
       "      <td>ultra</td>\n",
       "    </tr>\n",
       "    <tr>\n",
       "      <td>1</td>\n",
       "      <td>1001</td>\n",
       "      <td>41</td>\n",
       "      <td>NaN</td>\n",
       "      <td>Москва</td>\n",
       "      <td>Иван</td>\n",
       "      <td>Ежов</td>\n",
       "      <td>2018-11-01</td>\n",
       "      <td>smart</td>\n",
       "    </tr>\n",
       "    <tr>\n",
       "      <td>2</td>\n",
       "      <td>1002</td>\n",
       "      <td>59</td>\n",
       "      <td>NaN</td>\n",
       "      <td>Стерлитамак</td>\n",
       "      <td>Евгений</td>\n",
       "      <td>Абрамович</td>\n",
       "      <td>2018-06-17</td>\n",
       "      <td>smart</td>\n",
       "    </tr>\n",
       "    <tr>\n",
       "      <td>3</td>\n",
       "      <td>1003</td>\n",
       "      <td>23</td>\n",
       "      <td>NaN</td>\n",
       "      <td>Москва</td>\n",
       "      <td>Белла</td>\n",
       "      <td>Белякова</td>\n",
       "      <td>2018-08-17</td>\n",
       "      <td>ultra</td>\n",
       "    </tr>\n",
       "    <tr>\n",
       "      <td>4</td>\n",
       "      <td>1004</td>\n",
       "      <td>68</td>\n",
       "      <td>NaN</td>\n",
       "      <td>Новокузнецк</td>\n",
       "      <td>Татьяна</td>\n",
       "      <td>Авдеенко</td>\n",
       "      <td>2018-05-14</td>\n",
       "      <td>ultra</td>\n",
       "    </tr>\n",
       "  </tbody>\n",
       "</table>\n",
       "</div>"
      ],
      "text/plain": [
       "   user_id  age churn_date         city first_name  last_name    reg_date  \\\n",
       "0     1000   52        NaN    Краснодар     Рафаил  Верещагин  2018-05-25   \n",
       "1     1001   41        NaN       Москва       Иван       Ежов  2018-11-01   \n",
       "2     1002   59        NaN  Стерлитамак    Евгений  Абрамович  2018-06-17   \n",
       "3     1003   23        NaN       Москва      Белла   Белякова  2018-08-17   \n",
       "4     1004   68        NaN  Новокузнецк    Татьяна   Авдеенко  2018-05-14   \n",
       "\n",
       "  tariff  \n",
       "0  ultra  \n",
       "1  smart  \n",
       "2  smart  \n",
       "3  ultra  \n",
       "4  ultra  "
      ]
     },
     "metadata": {},
     "output_type": "display_data"
    },
    {
     "name": "stdout",
     "output_type": "stream",
     "text": [
      "*************************************\n",
      "<class 'pandas.core.frame.DataFrame'>\n",
      "RangeIndex: 500 entries, 0 to 499\n",
      "Data columns (total 8 columns):\n",
      "user_id       500 non-null int64\n",
      "age           500 non-null int64\n",
      "churn_date    38 non-null object\n",
      "city          500 non-null object\n",
      "first_name    500 non-null object\n",
      "last_name     500 non-null object\n",
      "reg_date      500 non-null object\n",
      "tariff        500 non-null object\n",
      "dtypes: int64(2), object(6)\n",
      "memory usage: 31.4+ KB\n"
     ]
    },
    {
     "data": {
      "text/plain": [
       "None"
      ]
     },
     "metadata": {},
     "output_type": "display_data"
    },
    {
     "name": "stdout",
     "output_type": "stream",
     "text": [
      "*************************************\n",
      "Число дубликатов: 0\n",
      "*************************************\n"
     ]
    }
   ],
   "source": [
    "total_info(users, 'Информация о пользователях')"
   ]
  },
  {
   "cell_type": "markdown",
   "metadata": {},
   "source": [
    "Дубликатов нет.  \n",
    "Много пропусков в столбце churn_date(дата прекращения пользования тарифом).  \n",
    "В комментариях к данным указано, что значения столбца churn_date пропущены, если тариф действовал на момент выгрузки данных.  \n",
    "Так как эти данные, как и данные о дате подключения тарифа нам не потребуются для решения поставленных задач, оставим их без изменения."
   ]
  },
  {
   "cell_type": "markdown",
   "metadata": {},
   "source": [
    "Проверим уникальность пользователей:"
   ]
  },
  {
   "cell_type": "code",
   "execution_count": 12,
   "metadata": {},
   "outputs": [
    {
     "name": "stdout",
     "output_type": "stream",
     "text": [
      "Число строк в датафрейме users: 500\n",
      "Число уникальных пользователей: 500\n"
     ]
    }
   ],
   "source": [
    "print(\"Число строк в датафрейме users:\", users.shape[0])\n",
    "print(\"Число уникальных пользователей:\", len(users['user_id'].unique()))"
   ]
  },
  {
   "cell_type": "markdown",
   "metadata": {},
   "source": [
    "Всё в порядке, все пользователи уникальны."
   ]
  },
  {
   "cell_type": "markdown",
   "metadata": {},
   "source": [
    "Так как нам предстоит сделать предварительный анализ тарифов, посмотрим как распределились клиенты, в соответствии с тарифом, которым они пользуются.  \n",
    "Напишем функцию для прорисовки графика"
   ]
  },
  {
   "cell_type": "code",
   "execution_count": 13,
   "metadata": {
    "scrolled": false
   },
   "outputs": [
    {
     "data": {
      "image/png": "[encoded data removed]",
      "text/plain": [
       "<Figure size 1440x360 with 1 Axes>"
      ]
     },
     "metadata": {},
     "output_type": "display_data"
    }
   ],
   "source": [
    "all_users = len(users['user_id'])\n",
    "sns.set(style ='darkgrid', palette='rainbow')\n",
    "def func_pct(pct):\n",
    "    value = float(pct/100.*all_users)\n",
    "    return \"{:.2f}%\\n({:.0f} чел.)\".format(pct, value)\n",
    "\n",
    "\n",
    "\n",
    "axes = users.groupby('tariff')['user_id'].count().plot(kind='pie', fontsize=15,subplots = True,\n",
    "                                                                     use_index=False, title = 'Распределение по клиентам', \n",
    "                                                                     pctdistance=0.45, shadow=True,\n",
    "                                                                     figsize=(20,5), autopct=lambda pct: func_pct(pct))\n",
    "\n",
    "plt.tight_layout(pad=0)\n",
    "\n",
    "for ax in axes:\n",
    "    ax.legend(['Смарт', 'Ультра'], bbox_to_anchor=(0.9,0.9), prop={'size':12})\n",
    "    ax.set_ylabel('')"
   ]
  },
  {
   "cell_type": "markdown",
   "metadata": {},
   "source": [
    "Большинство клиентов: больше 70% - выбрали тариф \"Смарт\", скорее всего это связано с тем, что абонентская плата составляет 550 рублей, против 1950 рублей абонентской платы тарифа \"Ультра\"."
   ]
  },
  {
   "cell_type": "markdown",
   "metadata": {},
   "source": [
    "Посмотрим как распределились пользователи в соответствии с городом проживания."
   ]
  },
  {
   "cell_type": "code",
   "execution_count": 14,
   "metadata": {},
   "outputs": [
    {
     "name": "stdout",
     "output_type": "stream",
     "text": [
      "Количество городов, где живут абоненты сети \"Мегалайн\": 76 городов\n"
     ]
    }
   ],
   "source": [
    "print('Количество городов, где живут абоненты сети \"Мегалайн\": {} городов'.format(len(users['city'].unique())))"
   ]
  },
  {
   "cell_type": "code",
   "execution_count": 15,
   "metadata": {
    "scrolled": false
   },
   "outputs": [
    {
     "data": {
      "image/png": "[encoded data removed]",
      "text/plain": [
       "<Figure size 1080x720 with 1 Axes>"
      ]
     },
     "metadata": {},
     "output_type": "display_data"
    }
   ],
   "source": [
    "# нарисуем график, отображающий геогрфическое распределение абонентов\n",
    "df_for_barh = users.groupby('city').size()/all_users\n",
    "df_for_barh_filtered = df_for_barh[df_for_barh > 0.015].sort_values()\n",
    "ax = df_for_barh_filtered.plot(kind='barh', color='#86bf91', figsize=(15,10))\n",
    "\n",
    "labels = dict(df_for_barh_filtered)\n",
    "\n",
    "\n",
    "i = 0\n",
    "for city in labels:\n",
    "    ax.text(labels[city] + 0.0005, i + 0.05, str(round(labels[city]*100, 2)) + '%', \n",
    "            fontsize = 'large', fontweight='bold', color='blue')\n",
    "    if i < 9.7:\n",
    "        i += 0.98\n",
    "    else:\n",
    "        i += 1.02"
   ]
  },
  {
   "cell_type": "markdown",
   "metadata": {},
   "source": [
    "Ожидаемо, что большинство клиентов из Москвы - почти 20% абонентов, на втором месте Санкт-Петербург - 7.8% у остальных 74 городов от 3.2% и ниже"
   ]
  },
  {
   "cell_type": "markdown",
   "metadata": {},
   "source": [
    "**Датафрейм \"Messages\" (Информация о сообщениях)**<a name=\"смс\"></a>"
   ]
  },
  {
   "cell_type": "code",
   "execution_count": 16,
   "metadata": {
    "scrolled": false
   },
   "outputs": [
    {
     "name": "stdout",
     "output_type": "stream",
     "text": [
      "Информация о сообщениях\n"
     ]
    },
    {
     "data": {
      "text/html": [
       "<div>\n",
       "<style scoped>\n",
       "    .dataframe tbody tr th:only-of-type {\n",
       "        vertical-align: middle;\n",
       "    }\n",
       "\n",
       "    .dataframe tbody tr th {\n",
       "        vertical-align: top;\n",
       "    }\n",
       "\n",
       "    .dataframe thead th {\n",
       "        text-align: right;\n",
       "    }\n",
       "</style>\n",
       "<table border=\"1\" class=\"dataframe\">\n",
       "  <thead>\n",
       "    <tr style=\"text-align: right;\">\n",
       "      <th></th>\n",
       "      <th>id</th>\n",
       "      <th>message_date</th>\n",
       "      <th>user_id</th>\n",
       "    </tr>\n",
       "  </thead>\n",
       "  <tbody>\n",
       "    <tr>\n",
       "      <td>0</td>\n",
       "      <td>1000_0</td>\n",
       "      <td>2018-06-27</td>\n",
       "      <td>1000</td>\n",
       "    </tr>\n",
       "    <tr>\n",
       "      <td>1</td>\n",
       "      <td>1000_1</td>\n",
       "      <td>2018-10-08</td>\n",
       "      <td>1000</td>\n",
       "    </tr>\n",
       "    <tr>\n",
       "      <td>2</td>\n",
       "      <td>1000_2</td>\n",
       "      <td>2018-08-04</td>\n",
       "      <td>1000</td>\n",
       "    </tr>\n",
       "    <tr>\n",
       "      <td>3</td>\n",
       "      <td>1000_3</td>\n",
       "      <td>2018-06-16</td>\n",
       "      <td>1000</td>\n",
       "    </tr>\n",
       "    <tr>\n",
       "      <td>4</td>\n",
       "      <td>1000_4</td>\n",
       "      <td>2018-12-05</td>\n",
       "      <td>1000</td>\n",
       "    </tr>\n",
       "  </tbody>\n",
       "</table>\n",
       "</div>"
      ],
      "text/plain": [
       "       id message_date  user_id\n",
       "0  1000_0   2018-06-27     1000\n",
       "1  1000_1   2018-10-08     1000\n",
       "2  1000_2   2018-08-04     1000\n",
       "3  1000_3   2018-06-16     1000\n",
       "4  1000_4   2018-12-05     1000"
      ]
     },
     "metadata": {},
     "output_type": "display_data"
    },
    {
     "name": "stdout",
     "output_type": "stream",
     "text": [
      "*************************************\n",
      "<class 'pandas.core.frame.DataFrame'>\n",
      "RangeIndex: 123036 entries, 0 to 123035\n",
      "Data columns (total 3 columns):\n",
      "id              123036 non-null object\n",
      "message_date    123036 non-null object\n",
      "user_id         123036 non-null int64\n",
      "dtypes: int64(1), object(2)\n",
      "memory usage: 2.8+ MB\n"
     ]
    },
    {
     "data": {
      "text/plain": [
       "None"
      ]
     },
     "metadata": {},
     "output_type": "display_data"
    },
    {
     "name": "stdout",
     "output_type": "stream",
     "text": [
      "*************************************\n",
      "Число дубликатов: 0\n",
      "*************************************\n"
     ]
    }
   ],
   "source": [
    "total_info(messages, 'Информация о сообщениях')"
   ]
  },
  {
   "cell_type": "markdown",
   "metadata": {},
   "source": [
    "Данные полные, пропусков нет, дубликатов нет.  \n",
    "Тип данных столбца message_date изменим на datetime."
   ]
  },
  {
   "cell_type": "markdown",
   "metadata": {},
   "source": [
    "**Датафрейм \"Internet\" (Информация об интернет-сессиях)**<a name=\"интернет\"></a>"
   ]
  },
  {
   "cell_type": "code",
   "execution_count": 17,
   "metadata": {
    "scrolled": false
   },
   "outputs": [
    {
     "name": "stdout",
     "output_type": "stream",
     "text": [
      "Информация об интернет-сессиях\n"
     ]
    },
    {
     "data": {
      "text/html": [
       "<div>\n",
       "<style scoped>\n",
       "    .dataframe tbody tr th:only-of-type {\n",
       "        vertical-align: middle;\n",
       "    }\n",
       "\n",
       "    .dataframe tbody tr th {\n",
       "        vertical-align: top;\n",
       "    }\n",
       "\n",
       "    .dataframe thead th {\n",
       "        text-align: right;\n",
       "    }\n",
       "</style>\n",
       "<table border=\"1\" class=\"dataframe\">\n",
       "  <thead>\n",
       "    <tr style=\"text-align: right;\">\n",
       "      <th></th>\n",
       "      <th>Unnamed: 0</th>\n",
       "      <th>id</th>\n",
       "      <th>mb_used</th>\n",
       "      <th>session_date</th>\n",
       "      <th>user_id</th>\n",
       "    </tr>\n",
       "  </thead>\n",
       "  <tbody>\n",
       "    <tr>\n",
       "      <td>0</td>\n",
       "      <td>0</td>\n",
       "      <td>1000_0</td>\n",
       "      <td>112.95</td>\n",
       "      <td>2018-11-25</td>\n",
       "      <td>1000</td>\n",
       "    </tr>\n",
       "    <tr>\n",
       "      <td>1</td>\n",
       "      <td>1</td>\n",
       "      <td>1000_1</td>\n",
       "      <td>1052.81</td>\n",
       "      <td>2018-09-07</td>\n",
       "      <td>1000</td>\n",
       "    </tr>\n",
       "    <tr>\n",
       "      <td>2</td>\n",
       "      <td>2</td>\n",
       "      <td>1000_2</td>\n",
       "      <td>1197.26</td>\n",
       "      <td>2018-06-25</td>\n",
       "      <td>1000</td>\n",
       "    </tr>\n",
       "    <tr>\n",
       "      <td>3</td>\n",
       "      <td>3</td>\n",
       "      <td>1000_3</td>\n",
       "      <td>550.27</td>\n",
       "      <td>2018-08-22</td>\n",
       "      <td>1000</td>\n",
       "    </tr>\n",
       "    <tr>\n",
       "      <td>4</td>\n",
       "      <td>4</td>\n",
       "      <td>1000_4</td>\n",
       "      <td>302.56</td>\n",
       "      <td>2018-09-24</td>\n",
       "      <td>1000</td>\n",
       "    </tr>\n",
       "  </tbody>\n",
       "</table>\n",
       "</div>"
      ],
      "text/plain": [
       "   Unnamed: 0      id  mb_used session_date  user_id\n",
       "0           0  1000_0   112.95   2018-11-25     1000\n",
       "1           1  1000_1  1052.81   2018-09-07     1000\n",
       "2           2  1000_2  1197.26   2018-06-25     1000\n",
       "3           3  1000_3   550.27   2018-08-22     1000\n",
       "4           4  1000_4   302.56   2018-09-24     1000"
      ]
     },
     "metadata": {},
     "output_type": "display_data"
    },
    {
     "name": "stdout",
     "output_type": "stream",
     "text": [
      "*************************************\n",
      "<class 'pandas.core.frame.DataFrame'>\n",
      "RangeIndex: 149396 entries, 0 to 149395\n",
      "Data columns (total 5 columns):\n",
      "Unnamed: 0      149396 non-null int64\n",
      "id              149396 non-null object\n",
      "mb_used         149396 non-null float64\n",
      "session_date    149396 non-null object\n",
      "user_id         149396 non-null int64\n",
      "dtypes: float64(1), int64(2), object(2)\n",
      "memory usage: 5.7+ MB\n"
     ]
    },
    {
     "data": {
      "text/plain": [
       "None"
      ]
     },
     "metadata": {},
     "output_type": "display_data"
    },
    {
     "name": "stdout",
     "output_type": "stream",
     "text": [
      "*************************************\n",
      "Число дубликатов: 0\n",
      "*************************************\n"
     ]
    }
   ],
   "source": [
    "total_info(internet, 'Информация об интернет-сессиях')"
   ]
  },
  {
   "cell_type": "markdown",
   "metadata": {},
   "source": [
    "Данные полные, пропусков нет, дубликатов нет.  \n",
    "Тип данных столбца session_date изменим на datetime.  \n",
    "Объём потраченного за сессию интернет-трафика указан с точностью до сотых, в комментариям к тарифам указано, что  \"Мегалайн\" всегда округляет вверх значения мегабайтов, поэтому округлим значения столбца 'mb_used' таблицы internet."
   ]
  },
  {
   "cell_type": "code",
   "execution_count": 18,
   "metadata": {},
   "outputs": [],
   "source": [
    "internet['mb_used'] = np.ceil(internet.mb_used)"
   ]
  },
  {
   "cell_type": "markdown",
   "metadata": {},
   "source": [
    "Посмотрим гистограмму распределения объемов потраченного за сессию интернет-траффика"
   ]
  },
  {
   "cell_type": "code",
   "execution_count": 19,
   "metadata": {
    "scrolled": false
   },
   "outputs": [
    {
     "data": {
      "image/png": "[encoded data removed]",
      "text/plain": [
       "<Figure size 432x288 with 1 Axes>"
      ]
     },
     "metadata": {},
     "output_type": "display_data"
    }
   ],
   "source": [
    "hist(internet,'mb_used', 'Распределение объемов потраченного за сессию интернет-траффика');"
   ]
  },
  {
   "cell_type": "markdown",
   "metadata": {},
   "source": [
    "На гистограмме отражено значительное количество интернет-сессий объёмом 0.0 Мб, посмотрим сколько их"
   ]
  },
  {
   "cell_type": "code",
   "execution_count": 20,
   "metadata": {
    "scrolled": true
   },
   "outputs": [
    {
     "data": {
      "text/html": [
       "<div>\n",
       "<style scoped>\n",
       "    .dataframe tbody tr th:only-of-type {\n",
       "        vertical-align: middle;\n",
       "    }\n",
       "\n",
       "    .dataframe tbody tr th {\n",
       "        vertical-align: top;\n",
       "    }\n",
       "\n",
       "    .dataframe thead th {\n",
       "        text-align: right;\n",
       "    }\n",
       "</style>\n",
       "<table border=\"1\" class=\"dataframe\">\n",
       "  <thead>\n",
       "    <tr style=\"text-align: right;\">\n",
       "      <th></th>\n",
       "      <th>Unnamed: 0</th>\n",
       "      <th>id</th>\n",
       "      <th>mb_used</th>\n",
       "      <th>session_date</th>\n",
       "      <th>user_id</th>\n",
       "    </tr>\n",
       "  </thead>\n",
       "  <tbody>\n",
       "    <tr>\n",
       "      <td>11</td>\n",
       "      <td>11</td>\n",
       "      <td>1000_11</td>\n",
       "      <td>0.0</td>\n",
       "      <td>2018-08-28</td>\n",
       "      <td>1000</td>\n",
       "    </tr>\n",
       "    <tr>\n",
       "      <td>38</td>\n",
       "      <td>38</td>\n",
       "      <td>1000_38</td>\n",
       "      <td>0.0</td>\n",
       "      <td>2018-11-27</td>\n",
       "      <td>1000</td>\n",
       "    </tr>\n",
       "    <tr>\n",
       "      <td>46</td>\n",
       "      <td>46</td>\n",
       "      <td>1000_46</td>\n",
       "      <td>0.0</td>\n",
       "      <td>2018-06-30</td>\n",
       "      <td>1000</td>\n",
       "    </tr>\n",
       "    <tr>\n",
       "      <td>67</td>\n",
       "      <td>67</td>\n",
       "      <td>1000_67</td>\n",
       "      <td>0.0</td>\n",
       "      <td>2018-06-16</td>\n",
       "      <td>1000</td>\n",
       "    </tr>\n",
       "    <tr>\n",
       "      <td>72</td>\n",
       "      <td>72</td>\n",
       "      <td>1000_72</td>\n",
       "      <td>0.0</td>\n",
       "      <td>2018-06-15</td>\n",
       "      <td>1000</td>\n",
       "    </tr>\n",
       "    <tr>\n",
       "      <td>...</td>\n",
       "      <td>...</td>\n",
       "      <td>...</td>\n",
       "      <td>...</td>\n",
       "      <td>...</td>\n",
       "      <td>...</td>\n",
       "    </tr>\n",
       "    <tr>\n",
       "      <td>149380</td>\n",
       "      <td>149380</td>\n",
       "      <td>1499_141</td>\n",
       "      <td>0.0</td>\n",
       "      <td>2018-12-11</td>\n",
       "      <td>1499</td>\n",
       "    </tr>\n",
       "    <tr>\n",
       "      <td>149381</td>\n",
       "      <td>149381</td>\n",
       "      <td>1499_142</td>\n",
       "      <td>0.0</td>\n",
       "      <td>2018-11-01</td>\n",
       "      <td>1499</td>\n",
       "    </tr>\n",
       "    <tr>\n",
       "      <td>149383</td>\n",
       "      <td>149383</td>\n",
       "      <td>1499_144</td>\n",
       "      <td>0.0</td>\n",
       "      <td>2018-11-27</td>\n",
       "      <td>1499</td>\n",
       "    </tr>\n",
       "    <tr>\n",
       "      <td>149386</td>\n",
       "      <td>149386</td>\n",
       "      <td>1499_147</td>\n",
       "      <td>0.0</td>\n",
       "      <td>2018-10-21</td>\n",
       "      <td>1499</td>\n",
       "    </tr>\n",
       "    <tr>\n",
       "      <td>149393</td>\n",
       "      <td>149393</td>\n",
       "      <td>1499_154</td>\n",
       "      <td>0.0</td>\n",
       "      <td>2018-10-27</td>\n",
       "      <td>1499</td>\n",
       "    </tr>\n",
       "  </tbody>\n",
       "</table>\n",
       "<p>19598 rows × 5 columns</p>\n",
       "</div>"
      ],
      "text/plain": [
       "        Unnamed: 0        id  mb_used session_date  user_id\n",
       "11              11   1000_11      0.0   2018-08-28     1000\n",
       "38              38   1000_38      0.0   2018-11-27     1000\n",
       "46              46   1000_46      0.0   2018-06-30     1000\n",
       "67              67   1000_67      0.0   2018-06-16     1000\n",
       "72              72   1000_72      0.0   2018-06-15     1000\n",
       "...            ...       ...      ...          ...      ...\n",
       "149380      149380  1499_141      0.0   2018-12-11     1499\n",
       "149381      149381  1499_142      0.0   2018-11-01     1499\n",
       "149383      149383  1499_144      0.0   2018-11-27     1499\n",
       "149386      149386  1499_147      0.0   2018-10-21     1499\n",
       "149393      149393  1499_154      0.0   2018-10-27     1499\n",
       "\n",
       "[19598 rows x 5 columns]"
      ]
     },
     "execution_count": 20,
     "metadata": {},
     "output_type": "execute_result"
    }
   ],
   "source": [
    "internet.query('mb_used == 0')"
   ]
  },
  {
   "cell_type": "markdown",
   "metadata": {},
   "source": [
    "Почти 20000 таких сессий, так как они не расходуют заложенный в тариф трафик и не влияют на полученную выручку, удалим их."
   ]
  },
  {
   "cell_type": "code",
   "execution_count": 21,
   "metadata": {},
   "outputs": [],
   "source": [
    "internet['mb_used'] = internet['mb_used'].replace(0, np.NaN)\n",
    "internet = internet.dropna().reset_index(drop=True)"
   ]
  },
  {
   "cell_type": "markdown",
   "metadata": {},
   "source": [
    "Проверим и посмотрим ещё раз гистограмму распределения объемов потраченного за сессию интернет-траффика"
   ]
  },
  {
   "cell_type": "code",
   "execution_count": 22,
   "metadata": {},
   "outputs": [
    {
     "data": {
      "image/png": "[encoded data removed]",
      "text/plain": [
       "<Figure size 432x288 with 1 Axes>"
      ]
     },
     "metadata": {},
     "output_type": "display_data"
    }
   ],
   "source": [
    "hist(internet,'mb_used', 'Распределение объемов потраченного за сессию интернет-траффика');"
   ]
  },
  {
   "cell_type": "markdown",
   "metadata": {},
   "source": [
    "В среднем за сессию тратят от 100 до 600 Мб"
   ]
  },
  {
   "cell_type": "markdown",
   "metadata": {},
   "source": [
    "**Вывод:** данные полные, пропусков почти нет.\n",
    "\n",
    "У столбцов, содержащих даты активных действий абонентов, необходимо изменить дип данных на datetime.   \n",
    "\n",
    "Предварительно можно сказать:  \n",
    "\n",
    "* тариф \"Смарт\" популярнее, чем \"Ультра\", \"Смарт\" использует более 70% абонентов, скорее всего это связано с меньшей абонентской платой;  \n",
    "* большинство абонентов из Москвы (19.8%) и Санкт-Петербурга(7.8%) на остальные 74 города приходится 72.4%, в среднем менее 1%;\n",
    "* в среднем разговор длится от 2-3 минут до 10-12 минут;  \n",
    "* за интернет-сессию в среднем тратится от 100 до 600 Мб;"
   ]
  },
  {
   "cell_type": "markdown",
   "metadata": {},
   "source": [
    "## 3. Формирование общего датафрейма <a name=\"общийДФ\"></a>"
   ]
  },
  {
   "cell_type": "markdown",
   "metadata": {},
   "source": [
    "Для проведения анализа тарифов нам потребуется общий датафрейм, но перед формированием изменим тип данных в столбцах с датами на datetime и добавим столбец содержащий месяц, чтобы потом произвести необходимые расчеты активностей абонентов по месяцам.  "
   ]
  },
  {
   "cell_type": "markdown",
   "metadata": {},
   "source": [
    "**Изменение типа данных столбцов с датами и добавление столбцов \"month\"** <a name=\"общийДФД\"></a>"
   ]
  },
  {
   "cell_type": "code",
   "execution_count": 23,
   "metadata": {},
   "outputs": [],
   "source": [
    "# Напишем функцию, которая изменит тип данных и добавит столбец month\n",
    "def datetime_month(data):\n",
    "    for df in data:\n",
    "        for column in df.columns:\n",
    "            if 'date' in column:\n",
    "                df[column] = pd.to_datetime(df[column], format='%Y-%m-%d')\n",
    "                df['month'] = df[column].apply(lambda x: x.month)"
   ]
  },
  {
   "cell_type": "code",
   "execution_count": 24,
   "metadata": {},
   "outputs": [],
   "source": [
    "datetime_month([calls, messages, internet])"
   ]
  },
  {
   "cell_type": "markdown",
   "metadata": {},
   "source": [
    "**Подсчёт для пользователей количества звонков, израсходованных минут, смс, объёма израсходованного интернета** \n",
    "<a name=\"общийДФИ\"></a>"
   ]
  },
  {
   "cell_type": "markdown",
   "metadata": {},
   "source": [
    "Сгруппируем соответствующие датафреймы, чтобы посчитать количество звонков, количество израсходованных минут, количество смс и объём израсходованного интернета"
   ]
  },
  {
   "cell_type": "code",
   "execution_count": 25,
   "metadata": {},
   "outputs": [],
   "source": [
    "num_of_calls = calls.groupby(['user_id', 'month'])['duration'].agg(['count', 'sum'])\n",
    "num_of_messages = messages.groupby(['user_id', 'month'])['id'].count()\n",
    "num_of_internet = internet.groupby(['user_id', 'month']).sum()['mb_used']"
   ]
  },
  {
   "cell_type": "markdown",
   "metadata": {},
   "source": [
    "**Формирование общего датафрейма** <a name=\"общийДФДФ\"></a>"
   ]
  },
  {
   "cell_type": "markdown",
   "metadata": {},
   "source": [
    "Сформируем общий датафрейм с помощью метода merge(), сохраним его в переменной total_data"
   ]
  },
  {
   "cell_type": "code",
   "execution_count": 26,
   "metadata": {},
   "outputs": [],
   "source": [
    "total_data = num_of_calls\\\n",
    ".merge(num_of_messages, on = ['user_id','month'], how = 'left')\\\n",
    ".merge(num_of_internet, on = ['user_id','month'], how = 'left')\n",
    "total_data = total_data.reset_index()"
   ]
  },
  {
   "cell_type": "code",
   "execution_count": 27,
   "metadata": {},
   "outputs": [],
   "source": [
    "total_data = total_data.merge(users[['user_id', 'tariff', 'city']], on = 'user_id', how = 'left')"
   ]
  },
  {
   "cell_type": "markdown",
   "metadata": {},
   "source": [
    "Переименуем столбцы нового датафрейма total_data:\n",
    "* **user_id** - идентификатор пользователя  \n",
    "* **month** - месяц расчётов\n",
    "* **calls_count** - количество звонков в месяц\n",
    "* **calls_min_sum** - количество использованных минут\n",
    "* **sms_count** - количество отправленых сообщений\n",
    "* **internet_mb** - объём потраченного интернет-трафика  \n",
    "* **tariff** - название тарифного плана\n",
    "* **city** - город проживания пользователя  "
   ]
  },
  {
   "cell_type": "code",
   "execution_count": 28,
   "metadata": {},
   "outputs": [],
   "source": [
    "total_data.columns = ['user_id', 'month', 'calls_count', 'calls_min_sum', 'sms_count', 'internet_mb', 'tariff', 'city']"
   ]
  },
  {
   "cell_type": "markdown",
   "metadata": {},
   "source": [
    "Посмотрим на новую таблицу"
   ]
  },
  {
   "cell_type": "code",
   "execution_count": 29,
   "metadata": {
    "scrolled": false
   },
   "outputs": [
    {
     "name": "stdout",
     "output_type": "stream",
     "text": [
      "Информация об общей таблице\n"
     ]
    },
    {
     "data": {
      "text/html": [
       "<div>\n",
       "<style scoped>\n",
       "    .dataframe tbody tr th:only-of-type {\n",
       "        vertical-align: middle;\n",
       "    }\n",
       "\n",
       "    .dataframe tbody tr th {\n",
       "        vertical-align: top;\n",
       "    }\n",
       "\n",
       "    .dataframe thead th {\n",
       "        text-align: right;\n",
       "    }\n",
       "</style>\n",
       "<table border=\"1\" class=\"dataframe\">\n",
       "  <thead>\n",
       "    <tr style=\"text-align: right;\">\n",
       "      <th></th>\n",
       "      <th>user_id</th>\n",
       "      <th>month</th>\n",
       "      <th>calls_count</th>\n",
       "      <th>calls_min_sum</th>\n",
       "      <th>sms_count</th>\n",
       "      <th>internet_mb</th>\n",
       "      <th>tariff</th>\n",
       "      <th>city</th>\n",
       "    </tr>\n",
       "  </thead>\n",
       "  <tbody>\n",
       "    <tr>\n",
       "      <td>0</td>\n",
       "      <td>1000</td>\n",
       "      <td>5</td>\n",
       "      <td>17</td>\n",
       "      <td>159.0</td>\n",
       "      <td>22.0</td>\n",
       "      <td>2256.0</td>\n",
       "      <td>ultra</td>\n",
       "      <td>Краснодар</td>\n",
       "    </tr>\n",
       "    <tr>\n",
       "      <td>1</td>\n",
       "      <td>1000</td>\n",
       "      <td>6</td>\n",
       "      <td>28</td>\n",
       "      <td>172.0</td>\n",
       "      <td>60.0</td>\n",
       "      <td>23257.0</td>\n",
       "      <td>ultra</td>\n",
       "      <td>Краснодар</td>\n",
       "    </tr>\n",
       "    <tr>\n",
       "      <td>2</td>\n",
       "      <td>1000</td>\n",
       "      <td>7</td>\n",
       "      <td>41</td>\n",
       "      <td>340.0</td>\n",
       "      <td>75.0</td>\n",
       "      <td>14016.0</td>\n",
       "      <td>ultra</td>\n",
       "      <td>Краснодар</td>\n",
       "    </tr>\n",
       "    <tr>\n",
       "      <td>3</td>\n",
       "      <td>1000</td>\n",
       "      <td>8</td>\n",
       "      <td>42</td>\n",
       "      <td>408.0</td>\n",
       "      <td>81.0</td>\n",
       "      <td>14070.0</td>\n",
       "      <td>ultra</td>\n",
       "      <td>Краснодар</td>\n",
       "    </tr>\n",
       "    <tr>\n",
       "      <td>4</td>\n",
       "      <td>1000</td>\n",
       "      <td>9</td>\n",
       "      <td>46</td>\n",
       "      <td>466.0</td>\n",
       "      <td>57.0</td>\n",
       "      <td>14581.0</td>\n",
       "      <td>ultra</td>\n",
       "      <td>Краснодар</td>\n",
       "    </tr>\n",
       "  </tbody>\n",
       "</table>\n",
       "</div>"
      ],
      "text/plain": [
       "   user_id  month  calls_count  calls_min_sum  sms_count  internet_mb tariff  \\\n",
       "0     1000      5           17          159.0       22.0       2256.0  ultra   \n",
       "1     1000      6           28          172.0       60.0      23257.0  ultra   \n",
       "2     1000      7           41          340.0       75.0      14016.0  ultra   \n",
       "3     1000      8           42          408.0       81.0      14070.0  ultra   \n",
       "4     1000      9           46          466.0       57.0      14581.0  ultra   \n",
       "\n",
       "        city  \n",
       "0  Краснодар  \n",
       "1  Краснодар  \n",
       "2  Краснодар  \n",
       "3  Краснодар  \n",
       "4  Краснодар  "
      ]
     },
     "metadata": {},
     "output_type": "display_data"
    },
    {
     "name": "stdout",
     "output_type": "stream",
     "text": [
      "*************************************\n",
      "<class 'pandas.core.frame.DataFrame'>\n",
      "Int64Index: 3168 entries, 0 to 3167\n",
      "Data columns (total 8 columns):\n",
      "user_id          3168 non-null int64\n",
      "month            3168 non-null int64\n",
      "calls_count      3168 non-null int64\n",
      "calls_min_sum    3168 non-null float64\n",
      "sms_count        2673 non-null float64\n",
      "internet_mb      3155 non-null float64\n",
      "tariff           3168 non-null object\n",
      "city             3168 non-null object\n",
      "dtypes: float64(3), int64(3), object(2)\n",
      "memory usage: 222.8+ KB\n"
     ]
    },
    {
     "data": {
      "text/plain": [
       "None"
      ]
     },
     "metadata": {},
     "output_type": "display_data"
    },
    {
     "name": "stdout",
     "output_type": "stream",
     "text": [
      "*************************************\n",
      "Число дубликатов: 0\n",
      "*************************************\n"
     ]
    }
   ],
   "source": [
    "total_info(total_data, 'Информация об общей таблице')"
   ]
  },
  {
   "cell_type": "markdown",
   "metadata": {},
   "source": [
    "Есть пропуски в столбцах sms_count, internet_mb, посмотрим на них поближе"
   ]
  },
  {
   "cell_type": "markdown",
   "metadata": {},
   "source": [
    "**Работа с пропущенными значениями общего датафрейма** <a name=\"общийДФП\"></a>"
   ]
  },
  {
   "cell_type": "code",
   "execution_count": 30,
   "metadata": {
    "scrolled": true
   },
   "outputs": [
    {
     "data": {
      "text/html": [
       "<div>\n",
       "<style scoped>\n",
       "    .dataframe tbody tr th:only-of-type {\n",
       "        vertical-align: middle;\n",
       "    }\n",
       "\n",
       "    .dataframe tbody tr th {\n",
       "        vertical-align: top;\n",
       "    }\n",
       "\n",
       "    .dataframe thead th {\n",
       "        text-align: right;\n",
       "    }\n",
       "</style>\n",
       "<table border=\"1\" class=\"dataframe\">\n",
       "  <thead>\n",
       "    <tr style=\"text-align: right;\">\n",
       "      <th></th>\n",
       "      <th>user_id</th>\n",
       "      <th>month</th>\n",
       "      <th>calls_count</th>\n",
       "      <th>calls_min_sum</th>\n",
       "      <th>sms_count</th>\n",
       "      <th>internet_mb</th>\n",
       "      <th>tariff</th>\n",
       "      <th>city</th>\n",
       "    </tr>\n",
       "  </thead>\n",
       "  <tbody>\n",
       "    <tr>\n",
       "      <td>8</td>\n",
       "      <td>1001</td>\n",
       "      <td>11</td>\n",
       "      <td>45</td>\n",
       "      <td>430.0</td>\n",
       "      <td>NaN</td>\n",
       "      <td>18452.0</td>\n",
       "      <td>smart</td>\n",
       "      <td>Москва</td>\n",
       "    </tr>\n",
       "    <tr>\n",
       "      <td>9</td>\n",
       "      <td>1001</td>\n",
       "      <td>12</td>\n",
       "      <td>47</td>\n",
       "      <td>414.0</td>\n",
       "      <td>NaN</td>\n",
       "      <td>14053.0</td>\n",
       "      <td>smart</td>\n",
       "      <td>Москва</td>\n",
       "    </tr>\n",
       "    <tr>\n",
       "      <td>42</td>\n",
       "      <td>1006</td>\n",
       "      <td>2</td>\n",
       "      <td>3</td>\n",
       "      <td>42.0</td>\n",
       "      <td>NaN</td>\n",
       "      <td>1395.0</td>\n",
       "      <td>smart</td>\n",
       "      <td>Ульяновск</td>\n",
       "    </tr>\n",
       "    <tr>\n",
       "      <td>43</td>\n",
       "      <td>1006</td>\n",
       "      <td>3</td>\n",
       "      <td>36</td>\n",
       "      <td>286.0</td>\n",
       "      <td>NaN</td>\n",
       "      <td>17309.0</td>\n",
       "      <td>smart</td>\n",
       "      <td>Ульяновск</td>\n",
       "    </tr>\n",
       "    <tr>\n",
       "      <td>44</td>\n",
       "      <td>1006</td>\n",
       "      <td>4</td>\n",
       "      <td>38</td>\n",
       "      <td>356.0</td>\n",
       "      <td>NaN</td>\n",
       "      <td>13954.0</td>\n",
       "      <td>smart</td>\n",
       "      <td>Ульяновск</td>\n",
       "    </tr>\n",
       "    <tr>\n",
       "      <td>...</td>\n",
       "      <td>...</td>\n",
       "      <td>...</td>\n",
       "      <td>...</td>\n",
       "      <td>...</td>\n",
       "      <td>...</td>\n",
       "      <td>...</td>\n",
       "      <td>...</td>\n",
       "      <td>...</td>\n",
       "    </tr>\n",
       "    <tr>\n",
       "      <td>3135</td>\n",
       "      <td>1494</td>\n",
       "      <td>8</td>\n",
       "      <td>26</td>\n",
       "      <td>262.0</td>\n",
       "      <td>NaN</td>\n",
       "      <td>6601.0</td>\n",
       "      <td>smart</td>\n",
       "      <td>Омск</td>\n",
       "    </tr>\n",
       "    <tr>\n",
       "      <td>3136</td>\n",
       "      <td>1494</td>\n",
       "      <td>9</td>\n",
       "      <td>57</td>\n",
       "      <td>501.0</td>\n",
       "      <td>NaN</td>\n",
       "      <td>16986.0</td>\n",
       "      <td>smart</td>\n",
       "      <td>Омск</td>\n",
       "    </tr>\n",
       "    <tr>\n",
       "      <td>3137</td>\n",
       "      <td>1494</td>\n",
       "      <td>10</td>\n",
       "      <td>45</td>\n",
       "      <td>354.0</td>\n",
       "      <td>NaN</td>\n",
       "      <td>17794.0</td>\n",
       "      <td>smart</td>\n",
       "      <td>Омск</td>\n",
       "    </tr>\n",
       "    <tr>\n",
       "      <td>3138</td>\n",
       "      <td>1494</td>\n",
       "      <td>11</td>\n",
       "      <td>46</td>\n",
       "      <td>411.0</td>\n",
       "      <td>NaN</td>\n",
       "      <td>18076.0</td>\n",
       "      <td>smart</td>\n",
       "      <td>Омск</td>\n",
       "    </tr>\n",
       "    <tr>\n",
       "      <td>3139</td>\n",
       "      <td>1494</td>\n",
       "      <td>12</td>\n",
       "      <td>54</td>\n",
       "      <td>418.0</td>\n",
       "      <td>NaN</td>\n",
       "      <td>17645.0</td>\n",
       "      <td>smart</td>\n",
       "      <td>Омск</td>\n",
       "    </tr>\n",
       "  </tbody>\n",
       "</table>\n",
       "<p>495 rows × 8 columns</p>\n",
       "</div>"
      ],
      "text/plain": [
       "      user_id  month  calls_count  calls_min_sum  sms_count  internet_mb  \\\n",
       "8        1001     11           45          430.0        NaN      18452.0   \n",
       "9        1001     12           47          414.0        NaN      14053.0   \n",
       "42       1006      2            3           42.0        NaN       1395.0   \n",
       "43       1006      3           36          286.0        NaN      17309.0   \n",
       "44       1006      4           38          356.0        NaN      13954.0   \n",
       "...       ...    ...          ...            ...        ...          ...   \n",
       "3135     1494      8           26          262.0        NaN       6601.0   \n",
       "3136     1494      9           57          501.0        NaN      16986.0   \n",
       "3137     1494     10           45          354.0        NaN      17794.0   \n",
       "3138     1494     11           46          411.0        NaN      18076.0   \n",
       "3139     1494     12           54          418.0        NaN      17645.0   \n",
       "\n",
       "     tariff       city  \n",
       "8     smart     Москва  \n",
       "9     smart     Москва  \n",
       "42    smart  Ульяновск  \n",
       "43    smart  Ульяновск  \n",
       "44    smart  Ульяновск  \n",
       "...     ...        ...  \n",
       "3135  smart       Омск  \n",
       "3136  smart       Омск  \n",
       "3137  smart       Омск  \n",
       "3138  smart       Омск  \n",
       "3139  smart       Омск  \n",
       "\n",
       "[495 rows x 8 columns]"
      ]
     },
     "execution_count": 30,
     "metadata": {},
     "output_type": "execute_result"
    }
   ],
   "source": [
    "total_data[total_data['sms_count'].isnull()]"
   ]
  },
  {
   "cell_type": "code",
   "execution_count": 31,
   "metadata": {
    "scrolled": false
   },
   "outputs": [
    {
     "data": {
      "text/html": [
       "<div>\n",
       "<style scoped>\n",
       "    .dataframe tbody tr th:only-of-type {\n",
       "        vertical-align: middle;\n",
       "    }\n",
       "\n",
       "    .dataframe tbody tr th {\n",
       "        vertical-align: top;\n",
       "    }\n",
       "\n",
       "    .dataframe thead th {\n",
       "        text-align: right;\n",
       "    }\n",
       "</style>\n",
       "<table border=\"1\" class=\"dataframe\">\n",
       "  <thead>\n",
       "    <tr style=\"text-align: right;\">\n",
       "      <th></th>\n",
       "      <th>user_id</th>\n",
       "      <th>month</th>\n",
       "      <th>calls_count</th>\n",
       "      <th>calls_min_sum</th>\n",
       "      <th>sms_count</th>\n",
       "      <th>internet_mb</th>\n",
       "      <th>tariff</th>\n",
       "      <th>city</th>\n",
       "    </tr>\n",
       "  </thead>\n",
       "  <tbody>\n",
       "    <tr>\n",
       "      <td>584</td>\n",
       "      <td>1094</td>\n",
       "      <td>5</td>\n",
       "      <td>12</td>\n",
       "      <td>107.0</td>\n",
       "      <td>3.0</td>\n",
       "      <td>NaN</td>\n",
       "      <td>ultra</td>\n",
       "      <td>Новосибирск</td>\n",
       "    </tr>\n",
       "    <tr>\n",
       "      <td>1693</td>\n",
       "      <td>1273</td>\n",
       "      <td>5</td>\n",
       "      <td>19</td>\n",
       "      <td>220.0</td>\n",
       "      <td>21.0</td>\n",
       "      <td>NaN</td>\n",
       "      <td>ultra</td>\n",
       "      <td>Курган</td>\n",
       "    </tr>\n",
       "    <tr>\n",
       "      <td>1694</td>\n",
       "      <td>1273</td>\n",
       "      <td>6</td>\n",
       "      <td>28</td>\n",
       "      <td>230.0</td>\n",
       "      <td>38.0</td>\n",
       "      <td>NaN</td>\n",
       "      <td>ultra</td>\n",
       "      <td>Курган</td>\n",
       "    </tr>\n",
       "    <tr>\n",
       "      <td>1695</td>\n",
       "      <td>1273</td>\n",
       "      <td>7</td>\n",
       "      <td>30</td>\n",
       "      <td>253.0</td>\n",
       "      <td>37.0</td>\n",
       "      <td>NaN</td>\n",
       "      <td>ultra</td>\n",
       "      <td>Курган</td>\n",
       "    </tr>\n",
       "    <tr>\n",
       "      <td>1696</td>\n",
       "      <td>1273</td>\n",
       "      <td>8</td>\n",
       "      <td>39</td>\n",
       "      <td>253.0</td>\n",
       "      <td>41.0</td>\n",
       "      <td>NaN</td>\n",
       "      <td>ultra</td>\n",
       "      <td>Курган</td>\n",
       "    </tr>\n",
       "    <tr>\n",
       "      <td>1697</td>\n",
       "      <td>1273</td>\n",
       "      <td>9</td>\n",
       "      <td>28</td>\n",
       "      <td>223.0</td>\n",
       "      <td>32.0</td>\n",
       "      <td>NaN</td>\n",
       "      <td>ultra</td>\n",
       "      <td>Курган</td>\n",
       "    </tr>\n",
       "    <tr>\n",
       "      <td>1698</td>\n",
       "      <td>1273</td>\n",
       "      <td>10</td>\n",
       "      <td>35</td>\n",
       "      <td>315.0</td>\n",
       "      <td>35.0</td>\n",
       "      <td>NaN</td>\n",
       "      <td>ultra</td>\n",
       "      <td>Курган</td>\n",
       "    </tr>\n",
       "    <tr>\n",
       "      <td>1699</td>\n",
       "      <td>1273</td>\n",
       "      <td>11</td>\n",
       "      <td>31</td>\n",
       "      <td>272.0</td>\n",
       "      <td>29.0</td>\n",
       "      <td>NaN</td>\n",
       "      <td>ultra</td>\n",
       "      <td>Курган</td>\n",
       "    </tr>\n",
       "    <tr>\n",
       "      <td>1700</td>\n",
       "      <td>1273</td>\n",
       "      <td>12</td>\n",
       "      <td>38</td>\n",
       "      <td>260.0</td>\n",
       "      <td>39.0</td>\n",
       "      <td>NaN</td>\n",
       "      <td>ultra</td>\n",
       "      <td>Курган</td>\n",
       "    </tr>\n",
       "    <tr>\n",
       "      <td>2274</td>\n",
       "      <td>1365</td>\n",
       "      <td>10</td>\n",
       "      <td>5</td>\n",
       "      <td>43.0</td>\n",
       "      <td>1.0</td>\n",
       "      <td>NaN</td>\n",
       "      <td>smart</td>\n",
       "      <td>Ростов-на-Дону</td>\n",
       "    </tr>\n",
       "    <tr>\n",
       "      <td>2352</td>\n",
       "      <td>1377</td>\n",
       "      <td>2</td>\n",
       "      <td>20</td>\n",
       "      <td>179.0</td>\n",
       "      <td>2.0</td>\n",
       "      <td>NaN</td>\n",
       "      <td>ultra</td>\n",
       "      <td>Брянск</td>\n",
       "    </tr>\n",
       "    <tr>\n",
       "      <td>2465</td>\n",
       "      <td>1392</td>\n",
       "      <td>2</td>\n",
       "      <td>2</td>\n",
       "      <td>13.0</td>\n",
       "      <td>3.0</td>\n",
       "      <td>NaN</td>\n",
       "      <td>ultra</td>\n",
       "      <td>Челябинск</td>\n",
       "    </tr>\n",
       "    <tr>\n",
       "      <td>2823</td>\n",
       "      <td>1446</td>\n",
       "      <td>8</td>\n",
       "      <td>4</td>\n",
       "      <td>50.0</td>\n",
       "      <td>1.0</td>\n",
       "      <td>NaN</td>\n",
       "      <td>smart</td>\n",
       "      <td>Липецк</td>\n",
       "    </tr>\n",
       "  </tbody>\n",
       "</table>\n",
       "</div>"
      ],
      "text/plain": [
       "      user_id  month  calls_count  calls_min_sum  sms_count  internet_mb  \\\n",
       "584      1094      5           12          107.0        3.0          NaN   \n",
       "1693     1273      5           19          220.0       21.0          NaN   \n",
       "1694     1273      6           28          230.0       38.0          NaN   \n",
       "1695     1273      7           30          253.0       37.0          NaN   \n",
       "1696     1273      8           39          253.0       41.0          NaN   \n",
       "1697     1273      9           28          223.0       32.0          NaN   \n",
       "1698     1273     10           35          315.0       35.0          NaN   \n",
       "1699     1273     11           31          272.0       29.0          NaN   \n",
       "1700     1273     12           38          260.0       39.0          NaN   \n",
       "2274     1365     10            5           43.0        1.0          NaN   \n",
       "2352     1377      2           20          179.0        2.0          NaN   \n",
       "2465     1392      2            2           13.0        3.0          NaN   \n",
       "2823     1446      8            4           50.0        1.0          NaN   \n",
       "\n",
       "     tariff            city  \n",
       "584   ultra     Новосибирск  \n",
       "1693  ultra          Курган  \n",
       "1694  ultra          Курган  \n",
       "1695  ultra          Курган  \n",
       "1696  ultra          Курган  \n",
       "1697  ultra          Курган  \n",
       "1698  ultra          Курган  \n",
       "1699  ultra          Курган  \n",
       "1700  ultra          Курган  \n",
       "2274  smart  Ростов-на-Дону  \n",
       "2352  ultra          Брянск  \n",
       "2465  ultra       Челябинск  \n",
       "2823  smart          Липецк  "
      ]
     },
     "execution_count": 31,
     "metadata": {},
     "output_type": "execute_result"
    }
   ],
   "source": [
    "total_data[total_data['internet_mb'].isnull()]"
   ]
  },
  {
   "cell_type": "markdown",
   "metadata": {},
   "source": [
    "Так как в периоды когда обнаружены пропущенные значения есть активность абонентов по другим видам связи, предположим, что в эти периоды абоненты не пользовались интенетом и не отправляли сообщения, поэтому заменим пропуки на 0"
   ]
  },
  {
   "cell_type": "code",
   "execution_count": 32,
   "metadata": {},
   "outputs": [],
   "source": [
    "total_data = total_data.fillna(0)"
   ]
  },
  {
   "cell_type": "markdown",
   "metadata": {},
   "source": [
    "Проверим еще раз total_data"
   ]
  },
  {
   "cell_type": "code",
   "execution_count": 33,
   "metadata": {
    "scrolled": true
   },
   "outputs": [
    {
     "name": "stdout",
     "output_type": "stream",
     "text": [
      "<class 'pandas.core.frame.DataFrame'>\n",
      "Int64Index: 3168 entries, 0 to 3167\n",
      "Data columns (total 8 columns):\n",
      "user_id          3168 non-null int64\n",
      "month            3168 non-null int64\n",
      "calls_count      3168 non-null int64\n",
      "calls_min_sum    3168 non-null float64\n",
      "sms_count        3168 non-null float64\n",
      "internet_mb      3168 non-null float64\n",
      "tariff           3168 non-null object\n",
      "city             3168 non-null object\n",
      "dtypes: float64(3), int64(3), object(2)\n",
      "memory usage: 222.8+ KB\n"
     ]
    }
   ],
   "source": [
    "total_data.info()"
   ]
  },
  {
   "cell_type": "markdown",
   "metadata": {},
   "source": [
    "Отлично, пропусков больше нет."
   ]
  },
  {
   "cell_type": "markdown",
   "metadata": {},
   "source": [
    "**Расчёт помесячного перерасхода пользователем пакетов услуг в рамках тарифа** <a name=\"общийДФПЕР\"></a>"
   ]
  },
  {
   "cell_type": "markdown",
   "metadata": {},
   "source": [
    "Для анализа тарифов нам потребуется информация о перерасходах абонентов по пакетам услуг, посчитаем по каждому абоненту перерасход (при его наличии) по минутам разговоров, сообщениям и трафику интернета"
   ]
  },
  {
   "cell_type": "code",
   "execution_count": 34,
   "metadata": {},
   "outputs": [],
   "source": [
    "# напишем функции, которые посчитают нам расходы услуг сверх пакетов включенных в тарифы\n",
    "\n",
    "# минуты сверх тарифа\n",
    "def min_over(row):\n",
    "    tariff = row['tariff']\n",
    "    short_min = row['calls_min_sum']\n",
    "    minutes_lim = tariffs.loc[tariffs['tariff_name'] == tariff, 'minutes_included'].array[0]\n",
    "    min_overlimit = max(short_min - minutes_lim, 0)\n",
    "    \n",
    "    return np.ceil(min_overlimit)\n",
    "\n",
    "# сообщения сверх тарифа\n",
    "def sms_over(row):\n",
    "    tariff = row['tariff']\n",
    "    short_sms = row['sms_count']\n",
    "    sms_lim = tariffs.loc[tariffs['tariff_name'] == tariff, 'messages_included'].array[0]\n",
    "    sms_overlimit = max(short_sms - sms_lim, 0)\n",
    "    \n",
    "    return sms_overlimit\n",
    "\n",
    "# Мб интернета сверх тарифа\n",
    "def internet_over(row):\n",
    "    tariff = row['tariff']\n",
    "    short_internet = row['internet_mb']\n",
    "    internet_lim = tariffs.loc[tariffs['tariff_name'] == tariff, 'mb_per_month_included'].array[0]\n",
    "    internet_overlimit = max(short_internet - internet_lim, 0)\n",
    "    \n",
    "    return np.ceil(internet_overlimit)"
   ]
  },
  {
   "cell_type": "markdown",
   "metadata": {},
   "source": [
    "Добавим в датафрейм total_data столбцы:\n",
    "* **min_overlimit** - количество минут использованных сверх тарифа\n",
    "* **sms_overlimit** - количество сообщений отправленных сверх тарифа\n",
    "* **internet_overlimit** - количество Мб интернет израсходованного сверх тарифа"
   ]
  },
  {
   "cell_type": "code",
   "execution_count": 35,
   "metadata": {},
   "outputs": [],
   "source": [
    "total_data['min_overlimit'] = total_data.apply(min_over, axis = 1)\n",
    "total_data['sms_overlimit'] = total_data.apply(sms_over, axis = 1)\n",
    "total_data['internet_overlimit'] = total_data.apply(internet_over, axis = 1)"
   ]
  },
  {
   "cell_type": "markdown",
   "metadata": {},
   "source": [
    "**Расчёт помесячной выручки с пользователя** <a name=\"общийДФВЫР\"></a>"
   ]
  },
  {
   "cell_type": "markdown",
   "metadata": {},
   "source": [
    "Теперь приступим к расчету помесячной выручки с каждого пользователя: для этого данные о перерасходах услуг умножим на значение из тарифного плана и прибавим абонентскую плату, соответствующую тарифному плану"
   ]
  },
  {
   "cell_type": "code",
   "execution_count": 36,
   "metadata": {},
   "outputs": [],
   "source": [
    "# напишем функцию для расчета выручки\n",
    "def month_payment_calculation(row):\n",
    "    min_overlimit = row['min_overlimit']\n",
    "    sms_overlimit = row['sms_overlimit']\n",
    "    internet_overlimit = row['internet_overlimit']\n",
    "    tariff = row['tariff']\n",
    "      \n",
    "    # вычисляем переплату по звонкам. \n",
    "    min_overpay = min_overlimit * tariffs.loc[tariffs['tariff_name'] == tariff, 'rub_per_minute'].array[0]\n",
    "    \n",
    "    # вычисляем переплату по сообщениям. \n",
    "    sms_overpay = sms_overlimit * tariffs.loc[tariffs['tariff_name'] == tariff, 'rub_per_message'].array[0]\n",
    "    \n",
    "     # вычисляем переплату по интернету. \n",
    "    internet_overpay = np.ceil(internet_overlimit / 1024) * tariffs.loc[tariffs['tariff_name'] == tariff, 'rub_per_gb'].array[0]\n",
    "    \n",
    "    # вычисляем абонентскую плату.\n",
    "    tariff_pay = tariffs.loc[tariffs['tariff_name'] == tariff, 'rub_monthly_fee'].array[0]\n",
    "    \n",
    "    # вычисляем выручку.\n",
    "    total_pay = tariff_pay + internet_overpay + min_overpay + sms_overpay\n",
    " \n",
    "    \n",
    "    return total_pay"
   ]
  },
  {
   "cell_type": "markdown",
   "metadata": {},
   "source": [
    "Добавим к датафрейму total_data столбец **user_revenue**, который будет содержать данные о выручке по каждому клиенту"
   ]
  },
  {
   "cell_type": "code",
   "execution_count": 37,
   "metadata": {},
   "outputs": [],
   "source": [
    "total_data['user_revenue'] = total_data.apply(month_payment_calculation, axis = 1)"
   ]
  },
  {
   "cell_type": "markdown",
   "metadata": {},
   "source": [
    "**Расчёт переплаты сверх тарифа по пользователям** <a name=\"общийДФПЛ\"></a>"
   ]
  },
  {
   "cell_type": "markdown",
   "metadata": {},
   "source": [
    "Теперь расчитаем по каждому абоненту какую сумму он оплачивает за услуги связи сверх тарифа"
   ]
  },
  {
   "cell_type": "code",
   "execution_count": 38,
   "metadata": {},
   "outputs": [],
   "source": [
    "# напишем функцию, с помощью которой расчитаем суммы переплат по абонентам\n",
    "def overpay(row):\n",
    "    tariff = row['tariff']\n",
    "    total_pay = row['user_revenue']\n",
    "    tariff_pay = tariffs.loc[tariffs['tariff_name'] == tariff, 'rub_monthly_fee'].array[0]\n",
    "    over_pay = total_pay - tariff_pay\n",
    "    if over_pay > 0:\n",
    "        return over_pay\n",
    "    else:\n",
    "        return 0\n",
    "    "
   ]
  },
  {
   "cell_type": "code",
   "execution_count": 39,
   "metadata": {},
   "outputs": [],
   "source": [
    "total_data['over_pay'] = total_data.apply(overpay, axis = 1)"
   ]
  },
  {
   "cell_type": "markdown",
   "metadata": {},
   "source": [
    "Добавим к датафрейму total_data столбец **over_pay**, который будет содержать данные о сумме, оплаченной абонентом сверх тарифа"
   ]
  },
  {
   "cell_type": "markdown",
   "metadata": {},
   "source": [
    "**Категоризация пользователей по наличию оплат сверх тарифа и по территориальному признаку** <a name=\"общийДФКАТ\"></a>"
   ]
  },
  {
   "cell_type": "markdown",
   "metadata": {},
   "source": [
    "Для дальнейшего анализа нам потребуется категоризация пользователей по наличию оплат сверх тарифа, для этого добавим столбец **over_pay_kat** в котором \"0\" соответствует значению \"нет переплат\", \"1\" - соответствует значению \"есть переплаты\""
   ]
  },
  {
   "cell_type": "code",
   "execution_count": 40,
   "metadata": {},
   "outputs": [],
   "source": [
    "# напишем функцию для категоризации по оплатам сверх тарифа\n",
    "def overpay_kat(row):\n",
    "    if row['over_pay'] == 0:\n",
    "        return 0\n",
    "    else:\n",
    "        return 1"
   ]
  },
  {
   "cell_type": "code",
   "execution_count": 41,
   "metadata": {},
   "outputs": [],
   "source": [
    "total_data['over_pay_kat'] = total_data.apply(overpay_kat, axis = 1)"
   ]
  },
  {
   "cell_type": "markdown",
   "metadata": {},
   "source": [
    "Так же потребуется категоризация пользователей по территориальному признаку, для этого добавим столбец **city_kat** в котором \"Москва\" соответствует городу проживания \"Москва\", \"Регион\" - соответствует городам проживания, кроме Москвы"
   ]
  },
  {
   "cell_type": "code",
   "execution_count": 42,
   "metadata": {},
   "outputs": [],
   "source": [
    "# напишем функцию для категоризации по территориальному признаку\n",
    "def city_kat(row):\n",
    "    if row['city'] == 'Москва':\n",
    "        return row['city']\n",
    "    else:\n",
    "        return 'Регион'"
   ]
  },
  {
   "cell_type": "code",
   "execution_count": 43,
   "metadata": {},
   "outputs": [],
   "source": [
    "total_data['city_cat'] = total_data.apply(city_kat, axis=1)"
   ]
  },
  {
   "cell_type": "markdown",
   "metadata": {},
   "source": [
    "Посмотрим на обновлённый датафрейм total_data"
   ]
  },
  {
   "cell_type": "code",
   "execution_count": 44,
   "metadata": {
    "scrolled": false
   },
   "outputs": [
    {
     "name": "stdout",
     "output_type": "stream",
     "text": [
      "Информация об общей таблице\n"
     ]
    },
    {
     "data": {
      "text/html": [
       "<div>\n",
       "<style scoped>\n",
       "    .dataframe tbody tr th:only-of-type {\n",
       "        vertical-align: middle;\n",
       "    }\n",
       "\n",
       "    .dataframe tbody tr th {\n",
       "        vertical-align: top;\n",
       "    }\n",
       "\n",
       "    .dataframe thead th {\n",
       "        text-align: right;\n",
       "    }\n",
       "</style>\n",
       "<table border=\"1\" class=\"dataframe\">\n",
       "  <thead>\n",
       "    <tr style=\"text-align: right;\">\n",
       "      <th></th>\n",
       "      <th>user_id</th>\n",
       "      <th>month</th>\n",
       "      <th>calls_count</th>\n",
       "      <th>calls_min_sum</th>\n",
       "      <th>sms_count</th>\n",
       "      <th>internet_mb</th>\n",
       "      <th>tariff</th>\n",
       "      <th>city</th>\n",
       "      <th>min_overlimit</th>\n",
       "      <th>sms_overlimit</th>\n",
       "      <th>internet_overlimit</th>\n",
       "      <th>user_revenue</th>\n",
       "      <th>over_pay</th>\n",
       "      <th>over_pay_kat</th>\n",
       "      <th>city_cat</th>\n",
       "    </tr>\n",
       "  </thead>\n",
       "  <tbody>\n",
       "    <tr>\n",
       "      <td>0</td>\n",
       "      <td>1000</td>\n",
       "      <td>5</td>\n",
       "      <td>17</td>\n",
       "      <td>159.0</td>\n",
       "      <td>22.0</td>\n",
       "      <td>2256.0</td>\n",
       "      <td>ultra</td>\n",
       "      <td>Краснодар</td>\n",
       "      <td>0.0</td>\n",
       "      <td>0.0</td>\n",
       "      <td>0.0</td>\n",
       "      <td>1950.0</td>\n",
       "      <td>0.0</td>\n",
       "      <td>0</td>\n",
       "      <td>Регион</td>\n",
       "    </tr>\n",
       "    <tr>\n",
       "      <td>1</td>\n",
       "      <td>1000</td>\n",
       "      <td>6</td>\n",
       "      <td>28</td>\n",
       "      <td>172.0</td>\n",
       "      <td>60.0</td>\n",
       "      <td>23257.0</td>\n",
       "      <td>ultra</td>\n",
       "      <td>Краснодар</td>\n",
       "      <td>0.0</td>\n",
       "      <td>0.0</td>\n",
       "      <td>0.0</td>\n",
       "      <td>1950.0</td>\n",
       "      <td>0.0</td>\n",
       "      <td>0</td>\n",
       "      <td>Регион</td>\n",
       "    </tr>\n",
       "    <tr>\n",
       "      <td>2</td>\n",
       "      <td>1000</td>\n",
       "      <td>7</td>\n",
       "      <td>41</td>\n",
       "      <td>340.0</td>\n",
       "      <td>75.0</td>\n",
       "      <td>14016.0</td>\n",
       "      <td>ultra</td>\n",
       "      <td>Краснодар</td>\n",
       "      <td>0.0</td>\n",
       "      <td>0.0</td>\n",
       "      <td>0.0</td>\n",
       "      <td>1950.0</td>\n",
       "      <td>0.0</td>\n",
       "      <td>0</td>\n",
       "      <td>Регион</td>\n",
       "    </tr>\n",
       "    <tr>\n",
       "      <td>3</td>\n",
       "      <td>1000</td>\n",
       "      <td>8</td>\n",
       "      <td>42</td>\n",
       "      <td>408.0</td>\n",
       "      <td>81.0</td>\n",
       "      <td>14070.0</td>\n",
       "      <td>ultra</td>\n",
       "      <td>Краснодар</td>\n",
       "      <td>0.0</td>\n",
       "      <td>0.0</td>\n",
       "      <td>0.0</td>\n",
       "      <td>1950.0</td>\n",
       "      <td>0.0</td>\n",
       "      <td>0</td>\n",
       "      <td>Регион</td>\n",
       "    </tr>\n",
       "    <tr>\n",
       "      <td>4</td>\n",
       "      <td>1000</td>\n",
       "      <td>9</td>\n",
       "      <td>46</td>\n",
       "      <td>466.0</td>\n",
       "      <td>57.0</td>\n",
       "      <td>14581.0</td>\n",
       "      <td>ultra</td>\n",
       "      <td>Краснодар</td>\n",
       "      <td>0.0</td>\n",
       "      <td>0.0</td>\n",
       "      <td>0.0</td>\n",
       "      <td>1950.0</td>\n",
       "      <td>0.0</td>\n",
       "      <td>0</td>\n",
       "      <td>Регион</td>\n",
       "    </tr>\n",
       "  </tbody>\n",
       "</table>\n",
       "</div>"
      ],
      "text/plain": [
       "   user_id  month  calls_count  calls_min_sum  sms_count  internet_mb tariff  \\\n",
       "0     1000      5           17          159.0       22.0       2256.0  ultra   \n",
       "1     1000      6           28          172.0       60.0      23257.0  ultra   \n",
       "2     1000      7           41          340.0       75.0      14016.0  ultra   \n",
       "3     1000      8           42          408.0       81.0      14070.0  ultra   \n",
       "4     1000      9           46          466.0       57.0      14581.0  ultra   \n",
       "\n",
       "        city  min_overlimit  sms_overlimit  internet_overlimit  user_revenue  \\\n",
       "0  Краснодар            0.0            0.0                 0.0        1950.0   \n",
       "1  Краснодар            0.0            0.0                 0.0        1950.0   \n",
       "2  Краснодар            0.0            0.0                 0.0        1950.0   \n",
       "3  Краснодар            0.0            0.0                 0.0        1950.0   \n",
       "4  Краснодар            0.0            0.0                 0.0        1950.0   \n",
       "\n",
       "   over_pay  over_pay_kat city_cat  \n",
       "0       0.0             0   Регион  \n",
       "1       0.0             0   Регион  \n",
       "2       0.0             0   Регион  \n",
       "3       0.0             0   Регион  \n",
       "4       0.0             0   Регион  "
      ]
     },
     "metadata": {},
     "output_type": "display_data"
    },
    {
     "name": "stdout",
     "output_type": "stream",
     "text": [
      "*************************************\n",
      "<class 'pandas.core.frame.DataFrame'>\n",
      "Int64Index: 3168 entries, 0 to 3167\n",
      "Data columns (total 15 columns):\n",
      "user_id               3168 non-null int64\n",
      "month                 3168 non-null int64\n",
      "calls_count           3168 non-null int64\n",
      "calls_min_sum         3168 non-null float64\n",
      "sms_count             3168 non-null float64\n",
      "internet_mb           3168 non-null float64\n",
      "tariff                3168 non-null object\n",
      "city                  3168 non-null object\n",
      "min_overlimit         3168 non-null float64\n",
      "sms_overlimit         3168 non-null float64\n",
      "internet_overlimit    3168 non-null float64\n",
      "user_revenue          3168 non-null float64\n",
      "over_pay              3168 non-null float64\n",
      "over_pay_kat          3168 non-null int64\n",
      "city_cat              3168 non-null object\n",
      "dtypes: float64(8), int64(4), object(3)\n",
      "memory usage: 396.0+ KB\n"
     ]
    },
    {
     "data": {
      "text/plain": [
       "None"
      ]
     },
     "metadata": {},
     "output_type": "display_data"
    },
    {
     "name": "stdout",
     "output_type": "stream",
     "text": [
      "*************************************\n",
      "Число дубликатов: 0\n",
      "*************************************\n"
     ]
    }
   ],
   "source": [
    "total_info(total_data, 'Информация об общей таблице')"
   ]
  },
  {
   "cell_type": "markdown",
   "metadata": {},
   "source": [
    "**Анализ переплат по тарифам** <a name=\"общийДФПЕРТАР\"></a>"
   ]
  },
  {
   "cell_type": "markdown",
   "metadata": {},
   "source": [
    "Посмотрим как распределилась выручками между абонентами двух тарифов, нарисуем диаграмму"
   ]
  },
  {
   "cell_type": "code",
   "execution_count": 45,
   "metadata": {
    "scrolled": true
   },
   "outputs": [
    {
     "data": {
      "image/png": "[encoded data removed]",
      "text/plain": [
       "<Figure size 1440x360 with 1 Axes>"
      ]
     },
     "metadata": {},
     "output_type": "display_data"
    }
   ],
   "source": [
    "all_revenue = total_data['user_revenue'].sum()\n",
    "\n",
    "\n",
    "def func_pct(pct):\n",
    "    value = float(pct/100.*all_revenue)\n",
    "    return \"{:.2f}%\\n({:,.0f} руб.)\".format(pct, value)\n",
    "\n",
    "\n",
    "axes = total_data.groupby('tariff')['user_revenue'].sum().plot(kind='pie', subplots=True, fontsize=15,\n",
    "                                                                     use_index=False, shadow=True,\n",
    "                                                                     title = 'Распределение объёмов выручки между пользователями',\n",
    "                                                                     pctdistance=0.45,\n",
    "                                                                     startangle=20, figsize=(20,5),\n",
    "                                                                     autopct=lambda pct: func_pct(pct))\n",
    "\n",
    "for ax in axes:\n",
    "    ax.legend(['Смарт', 'Ультра'], bbox_to_anchor=(0.87,0.87), framealpha=0.2, prop={'size':12})\n",
    "    ax.set_ylabel('')"
   ]
  },
  {
   "cell_type": "markdown",
   "metadata": {},
   "source": [
    "Ранее мы выяснили, что 70% абонентов пользуются тарифом \"Смарт\", это, с учётом разрыва в размере абонентской платы между тарифами (550 руб.- \"Смарт\" и 1950 руб.- \"Ультра\"), могло привести к распределению выручки в бОльшую сторону для абонентов \"Ультра\", но раз этого не произошло и почти 60% выручки приносят пользователи тарифа \"Смарт\", значит многие абоненты \"Смарт\" докупают услуги сверх тарифа, проверим так ли это."
   ]
  },
  {
   "cell_type": "markdown",
   "metadata": {},
   "source": [
    "Для сравнения двух тарифов создадим два новых датафрейма по тарифам, с помощью метода query()"
   ]
  },
  {
   "cell_type": "code",
   "execution_count": 46,
   "metadata": {},
   "outputs": [],
   "source": [
    "total_data_smart = total_data.query('tariff == \"smart\"') # датафрейм с данными по абонентам \"Смарт\"\n",
    "total_data_ultra = total_data.query('tariff == \"ultra\"') # датафрейм с данными по абонентам \"Ультра\""
   ]
  },
  {
   "cell_type": "markdown",
   "metadata": {},
   "source": [
    "Нарисуем диаграммы, которые покажут какой процент абонентов каждого тарифа докупают услуги, а какой процент остаётся в рамках абонентской платы"
   ]
  },
  {
   "cell_type": "code",
   "execution_count": 47,
   "metadata": {
    "scrolled": true
   },
   "outputs": [
    {
     "data": {
      "image/png": "[encoded data removed]",
      "text/plain": [
       "<Figure size 1440x360 with 2 Axes>"
      ]
     },
     "metadata": {},
     "output_type": "display_data"
    }
   ],
   "source": [
    "filter_list = ['smart', 'ultra']\n",
    "titles_list = ['По клиентам тарифа \"Смарт\"', 'По клиентам тарифа \"Ультра\"']\n",
    "rows = 1\n",
    "cols = 2\n",
    "filter_list_counter = 0\n",
    "\n",
    "sum_smart = total_data_smart['user_id'].count()\n",
    "sum_ultra = total_data_ultra['user_id'].count()\n",
    "\n",
    "annot_labels = ['В рамках тарифа', 'Дозаказ услуг']\n",
    "\n",
    "def func_pct(pct):\n",
    "    if pct < 75 and pct > 25:\n",
    "        value = float(pct/100.*sum_smart)\n",
    "    else:\n",
    "        value = float(pct/100.*sum_ultra)\n",
    "    return \"{:.2f}%\".format(pct, value)\n",
    "\n",
    "fig, axes = plt.subplots(rows, cols, figsize=(20,10))\n",
    "\n",
    "for r in range(rows):\n",
    "    for c in range(cols):\n",
    "        colors = ['yellow', 'red']\n",
    "        filter_data = total_data[total_data['tariff'] == filter_list[filter_list_counter]].groupby('over_pay_kat')['user_id']\n",
    "        ax = filter_data.count().plot(kind='pie', fontsize=14, use_index=False, shadow=True,  colors=colors,\n",
    "                                           title=titles_list[filter_list_counter], pctdistance=0.55, figsize=(20,5),\n",
    "                                           autopct=lambda pct: func_pct(pct), startangle=200, ax=axes[c], labels=None)\n",
    "\n",
    "        filter_list_counter += 1\n",
    "\n",
    "plt.tight_layout(pad=3)\n",
    "\n",
    "for ax in axes:\n",
    "    ax.legend(['В рамках тарифа', 'Дозаказ услуг'], bbox_to_anchor=(0.897,0.87), prop={'size':15})\n",
    "    ax.set_ylabel('')\n",
    "    ax.title.set_size(16)\n",
    "    ax.title.set_position([0.5, 1.15])"
   ]
  },
  {
   "cell_type": "markdown",
   "metadata": {},
   "source": [
    "Как мы и предполагали почти 75% абонентов \"Смарт\" дозаказывают услуги, т.е. им не хватает пакетов включенных в тариф.  \n",
    "А абоненты \"Ультра\" напротив в большинстве случаев (86.48%) остаются в рамках услуг включенных в тариф.  \n",
    "\n",
    "\n",
    "**Посмотрим какие услуги дозаказывают пользователи обоих тарифов**"
   ]
  },
  {
   "cell_type": "code",
   "execution_count": 48,
   "metadata": {
    "scrolled": true
   },
   "outputs": [
    {
     "data": {
      "text/html": [
       "<div>\n",
       "<style scoped>\n",
       "    .dataframe tbody tr th:only-of-type {\n",
       "        vertical-align: middle;\n",
       "    }\n",
       "\n",
       "    .dataframe tbody tr th {\n",
       "        vertical-align: top;\n",
       "    }\n",
       "\n",
       "    .dataframe thead th {\n",
       "        text-align: right;\n",
       "    }\n",
       "</style>\n",
       "<table border=\"1\" class=\"dataframe\">\n",
       "  <thead>\n",
       "    <tr style=\"text-align: right;\">\n",
       "      <th></th>\n",
       "      <th>tariff</th>\n",
       "      <th>min_overlimit</th>\n",
       "      <th>sms_overlimit</th>\n",
       "      <th>internet_overlimit</th>\n",
       "    </tr>\n",
       "  </thead>\n",
       "  <tbody>\n",
       "    <tr>\n",
       "      <td>0</td>\n",
       "      <td>smart</td>\n",
       "      <td>92739.0</td>\n",
       "      <td>12928.0</td>\n",
       "      <td>6160391.0</td>\n",
       "    </tr>\n",
       "    <tr>\n",
       "      <td>1</td>\n",
       "      <td>ultra</td>\n",
       "      <td>0.0</td>\n",
       "      <td>0.0</td>\n",
       "      <td>723689.0</td>\n",
       "    </tr>\n",
       "  </tbody>\n",
       "</table>\n",
       "</div>"
      ],
      "text/plain": [
       "  tariff  min_overlimit  sms_overlimit  internet_overlimit\n",
       "0  smart        92739.0        12928.0           6160391.0\n",
       "1  ultra            0.0            0.0            723689.0"
      ]
     },
     "execution_count": 48,
     "metadata": {},
     "output_type": "execute_result"
    }
   ],
   "source": [
    "(total_data.groupby('tariff').sum()[['min_overlimit', 'sms_overlimit', 'internet_overlimit']]).reset_index()"
   ]
  },
  {
   "cell_type": "markdown",
   "metadata": {},
   "source": [
    "Абоненты \"Смарт\" дозаказывают все виды услуг и минуты, и сообщения, и интернет.  \n",
    "Абоненты \"Ультра\" дозаказывают только пакет интернет, по остальным пакетам услуг они остаются в рамках тарифа "
   ]
  },
  {
   "cell_type": "markdown",
   "metadata": {},
   "source": [
    "**Посмотрим как распределились суммы переплат для каждого тарифа, построим гистограмму оплат сверх тарифа \"Смарт\"**"
   ]
  },
  {
   "cell_type": "code",
   "execution_count": 49,
   "metadata": {},
   "outputs": [
    {
     "data": {
      "image/png": "[encoded data removed]",
      "text/plain": [
       "<Figure size 432x288 with 1 Axes>"
      ]
     },
     "metadata": {},
     "output_type": "display_data"
    }
   ],
   "source": [
    "total_data_smart.query('over_pay > 0')['over_pay'].plot(kind='hist', \n",
    "                                                        title='Гистограмма оплат сверх тарифа \"Смарт\"', ec='black', bins=70);"
   ]
  },
  {
   "cell_type": "markdown",
   "metadata": {},
   "source": [
    "Большая часть абонентов , если выходит за рамки лимита, переплачивает до 1000 рублей, с учётом того, что абонентская плата 550 рублей, это довольно много, посмотрим на гистограмму  поближе, ограничим сумму переплат 1000 рублями"
   ]
  },
  {
   "cell_type": "code",
   "execution_count": 50,
   "metadata": {},
   "outputs": [
    {
     "data": {
      "image/png": "[encoded data removed]",
      "text/plain": [
       "<Figure size 432x288 with 1 Axes>"
      ]
     },
     "metadata": {},
     "output_type": "display_data"
    }
   ],
   "source": [
    "total_data_smart.query('0 < over_pay < 1000')['over_pay'].plot(kind='hist', \n",
    "                                                        title='Гистограмма оплат сверх тарифа \"Смарт\"', ec='black', bins=50);"
   ]
  },
  {
   "cell_type": "markdown",
   "metadata": {},
   "source": [
    "В основном переплаты кратные 200 рублям, смотрим в описание тарифов и видим, что зачастую это покупка дополнительного пакета интернет-трафика: 1Гб - 200 рублей"
   ]
  },
  {
   "cell_type": "markdown",
   "metadata": {},
   "source": [
    "**Теперь посмотрим как распределились суммы переплат для абонентов \"Ультра\", построим гистограмму** "
   ]
  },
  {
   "cell_type": "code",
   "execution_count": 51,
   "metadata": {
    "scrolled": true
   },
   "outputs": [
    {
     "data": {
      "image/png": "[encoded data removed]",
      "text/plain": [
       "<Figure size 432x288 with 1 Axes>"
      ]
     },
     "metadata": {},
     "output_type": "display_data"
    }
   ],
   "source": [
    "total_data_ultra.query('over_pay > 0')['over_pay'].plot(kind='hist', \n",
    "                                                        title='Гистограмма оплат сверх тарифа \"Ультра\"', ec='black', bins=50);"
   ]
  },
  {
   "cell_type": "markdown",
   "metadata": {},
   "source": [
    "Большая часть абонентов, если покупает услуги сверх включенных в тариф, переплачивает до 1200 рублей, посмотрим на гистограмму  поближе, ограничим сумму переплат 1200 рублями"
   ]
  },
  {
   "cell_type": "code",
   "execution_count": 52,
   "metadata": {},
   "outputs": [
    {
     "data": {
      "image/png": "[encoded data removed]",
      "text/plain": [
       "<Figure size 432x288 with 1 Axes>"
      ]
     },
     "metadata": {},
     "output_type": "display_data"
    }
   ],
   "source": [
    "total_data_ultra.query('0< over_pay < 1200')['over_pay'].plot(kind='hist', \n",
    "                                                        title='Гистограмма оплат сверх тарифа \"Ультра\"', ec='black', bins=50);"
   ]
  },
  {
   "cell_type": "markdown",
   "metadata": {},
   "source": [
    "Очевидно, что суммы переплат кратны 150 рублям, обращаемся к описанию тарифа \"Ультра\": дополнительный пакет интернет трафика 1 Гб - 150 рублей. "
   ]
  },
  {
   "cell_type": "markdown",
   "metadata": {},
   "source": [
    "**Вывод:** \n",
    "\n",
    "* бОльшую часть выручки (59.46%) компании \"Мегалайн\" приносят абоненты тарифа \"Смарт\", это происходит вследствие того, что им не хватает пакетов услуг включенных в тариф и они докупают услуги;\n",
    "\n",
    "* почти 75% абонентов тарифа \"Смарт\" дозаказывают услуги, тогда как 86.48% абонентов тарифа \"Ультра\" остаются в рамках абонентской платы;\n",
    "\n",
    "* абоненты \"Смарт\" докупают все виды услуг связи, но чаще интернет-трафик. Большая часть переплат у клиентов, которые докупают услуги, до 1000 рублей;    \n",
    "\n",
    "* абоненты \"Ультра\" докупают только пакет интернет-трафика. Большая часть переплат у клиентов, которые докупают услуги, до 1200 рублей;    "
   ]
  },
  {
   "cell_type": "markdown",
   "metadata": {},
   "source": [
    "# 4. Анализ данных <a name=\"анализ\"></a>"
   ]
  },
  {
   "cell_type": "markdown",
   "metadata": {},
   "source": [
    "Опишем поведение клиентов оператора, исходя из выборки. Сколько минут разговора, сколько сообщений и какой объём интернет-трафика требуется пользователям каждого тарифа в месяц? Посчитаем среднее количество, дисперсию и стандартное отклонение. Построим гистограммы. Опишем распределения.  \n",
    "Сначала построим диаграммы размаха по всем рассматриваемым данным (длительность звонка, количество отправленных сообщений, объем использованного интернет-трафика), чтобы зафиксировать выбросы и отфильтровать их при дальнейшем анализе.   \n",
    "Расчитаем доверительные интервалы для каждой из услуг"
   ]
  },
  {
   "cell_type": "markdown",
   "metadata": {},
   "source": [
    "**Функции для построения диаграмм размаха и расчета доверительных интервалов** <a name=\"анализФДР\"></a>"
   ]
  },
  {
   "cell_type": "markdown",
   "metadata": {},
   "source": [
    "Напишем функцию для построения диаграмм размаха"
   ]
  },
  {
   "cell_type": "code",
   "execution_count": 53,
   "metadata": {
    "scrolled": false
   },
   "outputs": [],
   "source": [
    "def box_plot_func(column, name):\n",
    "    total_data_tariff = \\\n",
    "    total_data\\\n",
    "    .groupby('tariff', as_index=False)\\\n",
    "    .agg({column:'median'})\\\n",
    "    .sort_values(by='tariff', ascending=True).reset_index()\n",
    "\n",
    "    plt.figure(figsize=(9,5))\n",
    "    ax = sns.boxplot(x='tariff', y=column, data=total_data, showfliers=False, order=total_data_tariff['tariff'].to_list())\n",
    "    ax.set_xlabel('')\n",
    "    plt.title(name)\n",
    "    plt.grid(True)\n",
    "    "
   ]
  },
  {
   "cell_type": "markdown",
   "metadata": {},
   "source": [
    "Напишем функцию для расчета доверительных интервалов"
   ]
  },
  {
   "cell_type": "code",
   "execution_count": 54,
   "metadata": {},
   "outputs": [],
   "source": [
    "\n",
    "def interval(column):\n",
    "    quantiles_s = total_data_smart[column].quantile([0.25, 0.75])\n",
    "    iqr_s = quantiles_s.iloc[1] - quantiles_s.iloc[0]\n",
    "    interval_smart=(max(0, quantiles_s.iloc[0] - 1.5 * iqr_s), quantiles_s.iloc[1] + 1.5 * iqr_s)\n",
    "    quantiles_u = total_data_ultra[column].quantile([0.25, 0.75])\n",
    "    iqr_u = quantiles_u.iloc[1] - quantiles_u.iloc[0]\n",
    "    interval_ultra=(max(0, quantiles_u.iloc[0] - 1.5 * iqr_u), quantiles_u.iloc[1] + 1.5 * iqr_u)\n",
    "    print('Границы интервала для столбца \"{}\" тарифа {}: {}'.format(column, total_data_smart['tariff'].array[0], interval_smart))\n",
    "    print('Границы интервала для столбца \"{}\" тарифа {}: {}'.format(column, total_data_ultra['tariff'].array[0], interval_ultra))\n",
    "    \n",
    "    return interval_smart, interval_ultra      "
   ]
  },
  {
   "cell_type": "markdown",
   "metadata": {},
   "source": [
    "**Диаграмма размаха \"Объём использованного интернет-траффика\"** <a name=\"анализДРИ\"></a>"
   ]
  },
  {
   "cell_type": "code",
   "execution_count": 55,
   "metadata": {},
   "outputs": [
    {
     "data": {
      "image/png": "[encoded data removed]",
      "text/plain": [
       "<Figure size 648x360 with 1 Axes>"
      ]
     },
     "metadata": {},
     "output_type": "display_data"
    }
   ],
   "source": [
    "box_plot_func('internet_mb', 'Объём использованного интернет-траффика, МБ')"
   ]
  },
  {
   "cell_type": "code",
   "execution_count": 56,
   "metadata": {
    "scrolled": true
   },
   "outputs": [
    {
     "name": "stdout",
     "output_type": "stream",
     "text": [
      "Границы интервала для столбца \"internet_mb\" тарифа smart: (1578.0, 31162.0)\n",
      "Границы интервала для столбца \"internet_mb\" тарифа ultra: (0, 49717.25)\n"
     ]
    }
   ],
   "source": [
    "int_int_smart, int_int_ultra = interval('internet_mb');"
   ]
  },
  {
   "cell_type": "markdown",
   "metadata": {},
   "source": [
    "**Диаграмма размаха \"Количество использованных минут\"** <a name=\"анализДРМ\"></a>"
   ]
  },
  {
   "cell_type": "code",
   "execution_count": 57,
   "metadata": {
    "scrolled": true
   },
   "outputs": [
    {
     "data": {
      "image/png": "[encoded data removed]",
      "text/plain": [
       "<Figure size 648x360 with 1 Axes>"
      ]
     },
     "metadata": {},
     "output_type": "display_data"
    }
   ],
   "source": [
    "box_plot_func('calls_min_sum', 'Количество использованных минут, мин')"
   ]
  },
  {
   "cell_type": "code",
   "execution_count": 58,
   "metadata": {
    "scrolled": true
   },
   "outputs": [
    {
     "name": "stdout",
     "output_type": "stream",
     "text": [
      "Границы интервала для столбца \"calls_min_sum\" тарифа smart: (0, 937.5)\n",
      "Границы интервала для столбца \"calls_min_sum\" тарифа ultra: (0, 1428.5)\n"
     ]
    }
   ],
   "source": [
    "int_min_smart, int_min_ultra = interval('calls_min_sum');"
   ]
  },
  {
   "cell_type": "markdown",
   "metadata": {},
   "source": [
    "**Диаграмма размаха \"Количество отправленных сообщений\"** <a name=\"анализДРС\"></a>"
   ]
  },
  {
   "cell_type": "code",
   "execution_count": 59,
   "metadata": {},
   "outputs": [
    {
     "data": {
      "image/png": "[encoded data removed]",
      "text/plain": [
       "<Figure size 648x360 with 1 Axes>"
      ]
     },
     "metadata": {},
     "output_type": "display_data"
    }
   ],
   "source": [
    "box_plot_func('sms_count', 'Количество отправленных сообщений, шт')"
   ]
  },
  {
   "cell_type": "code",
   "execution_count": 60,
   "metadata": {
    "scrolled": true
   },
   "outputs": [
    {
     "name": "stdout",
     "output_type": "stream",
     "text": [
      "Границы интервала для столбца \"sms_count\" тарифа smart: (0, 112.5)\n",
      "Границы интервала для столбца \"sms_count\" тарифа ultra: (0, 188.75)\n"
     ]
    }
   ],
   "source": [
    "int_sms_smart, int_sms_ultra = interval('sms_count');"
   ]
  },
  {
   "cell_type": "markdown",
   "metadata": {},
   "source": [
    "На диаграммах размаха видно, что медианы и нижние границы \"усов\" для обоих тарифов различаются не значительно, а вот верхние границы \"усов\" тарифа \"Ультра\" заметно больше верхних границ тарифа \"Смарт\", значит распределения данных для тарифа \"Ультра\" более скошены вправо, для этих данных медиана будет меньше среднего"
   ]
  },
  {
   "cell_type": "markdown",
   "metadata": {},
   "source": [
    "**Функция для построения гистограмм для отфильтрованных от выбросов данных, расчет дисперсии, среднего, медианы и стандартного отклонения** <a name=\"анализФГ\"></a>"
   ]
  },
  {
   "cell_type": "markdown",
   "metadata": {},
   "source": [
    "Напишем функцию для прорисовки гистограмм по отфильтрованным от выбросов данным и рассчитаем дисперсию, среднее, медиану и стандартное отклонение"
   ]
  },
  {
   "cell_type": "code",
   "execution_count": 61,
   "metadata": {},
   "outputs": [],
   "source": [
    "def total_hist(data):\n",
    "    \n",
    "    ax = plt.gca()\n",
    "    func_dict = {'Internet': 'internet_mb', 'Calls': 'calls_min_sum', 'SMS': 'sms_count'}\n",
    "    xlims = [(int_int_smart[0], int_int_smart[1]), (int_int_ultra[0], int_int_ultra[1]),\n",
    "             (int_min_smart[0], int_min_smart[1]), (int_min_ultra[0], int_min_ultra[1]),\n",
    "             (int_sms_smart[0], int_sms_smart[1]), (int_sms_ultra[0], int_sms_ultra[1])]\n",
    "    \n",
    "    filt_column = func_dict[data]\n",
    "\n",
    "    # оформление в зависимости от рассматриваемых данных\n",
    "    if data == 'Internet':\n",
    "        title = 'Гистограмма объёма использованного интернет-трафика, Мб'\n",
    "        xlim1 = xlims[0]\n",
    "        xlim2 = xlims[1]\n",
    "        \n",
    "       \n",
    "    elif data == 'Calls':\n",
    "        title = 'Гистограмма количества использованных минут, мин.'\n",
    "        xlim1 = xlims[2]\n",
    "        xlim2 = xlims[3]\n",
    "       \n",
    "    else:\n",
    "        title = 'Гистограмма количества отправленных сообщений, шт.'\n",
    "        xlim1 = xlims[4]\n",
    "        xlim2 = xlims[5]\n",
    "       \n",
    "    \n",
    "    # получаем отфильтрованные от выбросов датафреймы\n",
    "    filter_smart_data = total_data_smart[(total_data_smart[filt_column] >= xlim1[0]) &\n",
    "                                           (total_data_smart[filt_column] <= xlim1[1])][filt_column]\n",
    "    filter_ultra_data = total_data_ultra[(total_data_ultra[filt_column] >= xlim2[0]) &\n",
    "                                           (total_data_ultra[filt_column] <= xlim2[1])][filt_column]\n",
    "    # рисуем\n",
    "    filter_smart_data.plot(kind='hist', bins=40, ec='black', ax=ax, color='gray', \n",
    "                             title=title, xlim=xlim1, figsize = (12,6), fontsize = 12, alpha = 0.7)\n",
    "    filter_ultra_data.plot(kind='hist', bins=70, ec='black', ax=ax, color='blue', \n",
    "                             title=title, xlim=xlim2, figsize = (12,6), fontsize = 12, alpha = 0.7)\n",
    "    \n",
    "    # расчетные данные\n",
    "    mean_smart = filter_smart_data.mean()\n",
    "    mean_ultra = filter_ultra_data.mean()\n",
    "    dispersion_smart = np.var(filter_smart_data, ddof = 1) \n",
    "    dispersion_ultra = np.var(filter_ultra_data, ddof = 1)\n",
    "    std_smart = np.std(filter_smart_data) \n",
    "    std_ultra = np.std(filter_ultra_data) \n",
    "    median_smart = filter_smart_data.median()\n",
    "    median_ultra = filter_ultra_data.median()\n",
    "    \n",
    "    smart_data = 'Медиана - {:.0f}\\nСреднее - {:.0f}\\nДисперсия - {:.0f}\\nstd - {:.0f}'.format(median_smart, mean_smart, dispersion_smart, std_smart)\n",
    "    ultra_data = 'Медиана - {:.0f}\\nСреднее - {:.0f}\\nДисперсия - {:.0f}\\nstd - {:.0f}'.format(median_ultra, mean_ultra, dispersion_ultra, std_ultra)\n",
    "    \n",
    "    legend_second = plt.legend([smart_data, ultra_data], prop={'size':10.5}, \n",
    "                                framealpha=0, bbox_to_anchor=(1.0,0.32), loc=4)\n",
    "    \n",
    "    \n",
    "    plt.gca().add_artist(legend_second)\n",
    "    \n",
    "    # рисуем медианы\n",
    "    plt.axvline(x=median_smart,linewidth=3, color='darkgray', linestyle='--')\n",
    "   \n",
    "    plt.axvline(x=median_ultra,linewidth=3, color='indigo', linestyle='--')\n",
    "        \n",
    "    plt.legend(['Медиана Смарт', 'Медиана Ультра', 'Смарт', 'Ультра'], prop={'size':12})\n",
    "    \n",
    "    ax.title.set_size(16)"
   ]
  },
  {
   "cell_type": "markdown",
   "metadata": {},
   "source": [
    "**Гистограмма количества использованных минут** <a name=\"анализГМ\"></a>"
   ]
  },
  {
   "cell_type": "code",
   "execution_count": 62,
   "metadata": {
    "scrolled": false
   },
   "outputs": [
    {
     "data": {
      "image/png": "[encoded data removed]",
      "text/plain": [
       "<Figure size 864x432 with 1 Axes>"
      ]
     },
     "metadata": {},
     "output_type": "display_data"
    }
   ],
   "source": [
    "total_hist('Calls')"
   ]
  },
  {
   "cell_type": "markdown",
   "metadata": {},
   "source": [
    "В основном клиенты тарифа \"Смарт\" разговаривают от 300 до 500 минут в месяц, медиана равна 421 минута, что ,с учетом того что в тариф включено всего 500 минут, является критическим значением говорит о том, что многоим приходится платить за минуты сверх тарифа.  \n",
    "Большинство клиентов тарифа \"Ультра\" не разговаривают по телефону, а те кто пользуется голосовой связью используют в среднем чуть больше 500 минут из 3000 минут включенных в тариф, медиана равна 528 минут.  \n",
    "Медиана и среднее тарифа \"Ультра\" больше медианы и средного тарифа \"Смарт\""
   ]
  },
  {
   "cell_type": "markdown",
   "metadata": {},
   "source": [
    "**Гистограмма объёма использованного интернет-трафика** <a name=\"анализГИ\"></a>"
   ]
  },
  {
   "cell_type": "code",
   "execution_count": 63,
   "metadata": {
    "scrolled": false
   },
   "outputs": [
    {
     "data": {
      "image/png": "[encoded data removed]",
      "text/plain": [
       "<Figure size 864x432 with 1 Axes>"
      ]
     },
     "metadata": {},
     "output_type": "display_data"
    }
   ],
   "source": [
    "total_hist('Internet')"
   ]
  },
  {
   "cell_type": "markdown",
   "metadata": {},
   "source": [
    "Медиана тарифа \"Смарт\" равна 16,2 Гб, что превышает включенные в тариф 15 Гб, на гистограмме видно, что большинство абонентов доплачивают за увеличение объёма интернет-трафика.  \n",
    "Медиана тарифа \"Ультра\" равна 18,8 Гб, на гистограмме видно, что лишь небольшая часть абонентов \"Смарт\" выходят за рамки объёма интернет трафика включенного в тариф"
   ]
  },
  {
   "cell_type": "markdown",
   "metadata": {},
   "source": [
    "**Гистограмма количества отправленных сообщений** <a name=\"анализГС\"></a>"
   ]
  },
  {
   "cell_type": "code",
   "execution_count": 64,
   "metadata": {
    "scrolled": false
   },
   "outputs": [
    {
     "data": {
      "image/png": "[encoded data removed]",
      "text/plain": [
       "<Figure size 864x432 with 1 Axes>"
      ]
     },
     "metadata": {},
     "output_type": "display_data"
    }
   ],
   "source": [
    "total_hist('SMS')"
   ]
  },
  {
   "cell_type": "markdown",
   "metadata": {},
   "source": [
    "Сообщения абоненты обоих тарифов практически не отправляют, те кто всё-таки пользуется данной услугой на тарифе \"Ультра\" отправляют около 50 сообщений, на тарифе \"Смарт\" - около 30 сообщений.  \n",
    "Медиана и среднее тарифа \"Ультра\" больше медианы и средного тарифа \"Смарт\""
   ]
  },
  {
   "cell_type": "markdown",
   "metadata": {},
   "source": [
    "# 5. Проверка гипотез <a name=\"гипотезы\"></a>"
   ]
  },
  {
   "cell_type": "markdown",
   "metadata": {},
   "source": [
    "### Первая гипотеза для проверки: **средняя выручка пользователей тарифов «Ультра» и «Смарт» различается**<a name=\"гипотеза1\"></a>"
   ]
  },
  {
   "cell_type": "markdown",
   "metadata": {},
   "source": [
    "В формулировке гипотезы идёт речь о сравнении двух средних генеральных совокупностей для независимых переменных, сформулируем нулевую гипотезу:  \n",
    "\n",
    "**H0 - средняя выручка пользователей тарифов «Ультра» и «Смарт» равна**\n",
    "\n",
    "Альтернативная гипотеза:  \n",
    "\n",
    "**H1 - средняя выручка пользователей тарифов «Ультра» и «Смарт» не равна**"
   ]
  },
  {
   "cell_type": "markdown",
   "metadata": {},
   "source": [
    "Сначала построим диаграммы размаха"
   ]
  },
  {
   "cell_type": "code",
   "execution_count": 65,
   "metadata": {
    "scrolled": true
   },
   "outputs": [
    {
     "data": {
      "image/png": "[encoded data removed]",
      "text/plain": [
       "<Figure size 648x360 with 1 Axes>"
      ]
     },
     "metadata": {},
     "output_type": "display_data"
    }
   ],
   "source": [
    "box_plot_func('user_revenue', 'Объём полученной выручки, руб.')"
   ]
  },
  {
   "cell_type": "markdown",
   "metadata": {},
   "source": [
    "Судя по диаграмме размаха, значения выручки от абонентов \"Ультра\" располагаются выше и не имеют \"пересечений\" с большинством значений выручки абонентов тарифа \"Смарт\" расположенных внутри \"ящика\", это даёт нам основание предположить, что \"нулевую гипотезу\" можно будет отвергнуть, проверим наше предположение"
   ]
  },
  {
   "cell_type": "markdown",
   "metadata": {},
   "source": [
    "Рассчитаем доверительные интервалы для фильтрации данных"
   ]
  },
  {
   "cell_type": "code",
   "execution_count": 66,
   "metadata": {
    "scrolled": true
   },
   "outputs": [
    {
     "name": "stdout",
     "output_type": "stream",
     "text": [
      "Границы интервала для столбца \"user_revenue\" тарифа smart: (0, 3550.0)\n",
      "Границы интервала для столбца \"user_revenue\" тарифа ultra: (1950.0, 1950.0)\n"
     ]
    }
   ],
   "source": [
    "int_rev_smart, int_rev_ultra = interval('user_revenue');"
   ]
  },
  {
   "cell_type": "markdown",
   "metadata": {},
   "source": [
    "Теперь отфильтруем данные в соответствии с интервалами"
   ]
  },
  {
   "cell_type": "code",
   "execution_count": 67,
   "metadata": {},
   "outputs": [],
   "source": [
    "smart_data_revenue = total_data_smart[(total_data_smart['user_revenue'] >= int_rev_smart[0]) &\n",
    "                                           (total_data_smart['user_revenue'] <= int_rev_smart[1])]['user_revenue']\n",
    "ultra_data_revenue = total_data_ultra[(total_data_ultra['user_revenue'] >= int_rev_ultra[0]) &\n",
    "                                           (total_data_ultra['user_revenue'] <= int_rev_ultra[1])]['user_revenue']"
   ]
  },
  {
   "cell_type": "markdown",
   "metadata": {},
   "source": [
    "Для проверки гипотезы о равенстве среднего двух генеральных совокупностей по взятым из них выборкам, применим метод scipy.stats.ttest_ind (array1, array2) ."
   ]
  },
  {
   "cell_type": "code",
   "execution_count": 68,
   "metadata": {
    "scrolled": true
   },
   "outputs": [
    {
     "name": "stdout",
     "output_type": "stream",
     "text": [
      "p-значение: 4.058263348571694e-147\n",
      "Отвергаем нулевую гипотезу\n"
     ]
    }
   ],
   "source": [
    "alpha = 0.05 # зададим критический уровень статистической значимости\n",
    "             # если p-value окажется меньше него - отвергнем гипотезу\n",
    "\n",
    "results = st.ttest_ind(smart_data_revenue, ultra_data_revenue)\n",
    "\n",
    "print('p-значение:', results.pvalue)\n",
    "\n",
    "if (results.pvalue < alpha):\n",
    "    print(\"Отвергаем нулевую гипотезу\")\n",
    "else:\n",
    "    print(\"Не получилось отвергнуть нулевую гипотезу\")"
   ]
  },
  {
   "cell_type": "markdown",
   "metadata": {},
   "source": [
    "Наши данные не противоречат гипотезе: **средняя выручка пользователей тарифов «Ультра» и «Смарт» различается**"
   ]
  },
  {
   "cell_type": "markdown",
   "metadata": {},
   "source": [
    "Проверим на нашей выборке на сколько отличаются средние значения прибыли по тарифам"
   ]
  },
  {
   "cell_type": "code",
   "execution_count": 69,
   "metadata": {},
   "outputs": [
    {
     "name": "stdout",
     "output_type": "stream",
     "text": [
      "Средняя выручка по пользователям тарифа \"Смарт\" - 1251\n",
      "Средняя выручка по пользователям тарифа \"Ультра\" - 1950\n"
     ]
    }
   ],
   "source": [
    "print('Средняя выручка по пользователям тарифа \"Смарт\" - {:.0f}'.format(smart_data_revenue.mean()))\n",
    "print('Средняя выручка по пользователям тарифа \"Ультра\" - {:.0f}'.format(ultra_data_revenue.mean()))"
   ]
  },
  {
   "cell_type": "markdown",
   "metadata": {},
   "source": [
    "Средний показатель выручки в месяц по абоненту тарифа \"Ультра\" на 55% больше, чем тот же показатель для пользователей тарифа \"Смарт\", это и неудивительно учитывая, что абонентская плата на тарифе \"Ультра\" больше в 3,5 раза, чем на \"Смарт\".   \n",
    "Абоненты \"Смарт\", конечно, дозаказывают услуги почти в 75% случаев , но средняя выручка всё равно значительно меньше средней выручки по клиетна тарифа \"Ультра\""
   ]
  },
  {
   "cell_type": "markdown",
   "metadata": {},
   "source": [
    "### Вторая гипотеза для проверки: **средняя выручка пользователей из Москвы отличается от выручки пользователей из других регионов** <a name=\"гипотеза2\"></a>"
   ]
  },
  {
   "cell_type": "markdown",
   "metadata": {},
   "source": [
    "В формулировке гипотезы идёт речь о сравнении двух средних генеральных совокупностей для независимых переменных, сформулируем нулевую гипотезу:  \n",
    "\n",
    "**H0 - средняя выручка пользователей из Москвы не отличается от выручки пользователей из других регионов**\n",
    "\n",
    "Альтернативная гипотеза:  \n",
    "\n",
    "**H1 - средняя выручка пользователей из Москвы отличается от выручки пользователей из других регионов**"
   ]
  },
  {
   "cell_type": "markdown",
   "metadata": {},
   "source": [
    "Сначала построим диаграммы размаха для объёмов выручки Москвы и регионов"
   ]
  },
  {
   "cell_type": "code",
   "execution_count": 70,
   "metadata": {
    "scrolled": true
   },
   "outputs": [
    {
     "data": {
      "image/png": "[encoded data removed]",
      "text/plain": [
       "<Figure size 648x360 with 1 Axes>"
      ]
     },
     "metadata": {},
     "output_type": "display_data"
    }
   ],
   "source": [
    "    total_data_city = \\\n",
    "    total_data\\\n",
    "    .groupby('city_cat', as_index=False)\\\n",
    "    .agg({'user_revenue':'median'})\\\n",
    "    .sort_values(by='city_cat', ascending=True).reset_index()\n",
    "\n",
    "    plt.figure(figsize=(9,5))\n",
    "    ax = sns.boxplot(x='city_cat', y='user_revenue', data=total_data, showfliers=False, \n",
    "                     order=total_data_city['city_cat'].to_list())\n",
    "    ax.set_xlabel('')\n",
    "    plt.title('Объёмы выручки Москвы и регионов')\n",
    "    plt.grid(True)"
   ]
  },
  {
   "cell_type": "markdown",
   "metadata": {},
   "source": [
    "Диаграммы размаха отличаются не значительно, поэтому можем предположить, что средний чек москвича не будет отличаться от среднего чека жителя любого другого города, проверим наше предположение.  \n",
    "Напишем функцию, с помощью которой рассчитаем доверительные интервалы для фильтрации данных от выбросов."
   ]
  },
  {
   "cell_type": "code",
   "execution_count": 71,
   "metadata": {},
   "outputs": [],
   "source": [
    "total_data_moscow = total_data.query('city_cat == \"Москва\"')\n",
    "total_data_region = total_data.query('city_cat != \"Москва\"')\n",
    "def interval_city(column):\n",
    "    quantiles_m = total_data_moscow[column].quantile([0.25, 0.75])\n",
    "    iqr_m = quantiles_m.iloc[1] - quantiles_m.iloc[0]\n",
    "    interval_moscow=(max(0, quantiles_m.iloc[0] - 1.5 * iqr_m), quantiles_m.iloc[1] + 1.5 * iqr_m)\n",
    "    quantiles_r = total_data_region[column].quantile([0.25, 0.75])\n",
    "    iqr_r = quantiles_r.iloc[1] - quantiles_r.iloc[0]\n",
    "    interval_region=(max(0, quantiles_r.iloc[0] - 1.5 * iqr_r), quantiles_r.iloc[1] + 1.5 * iqr_r)\n",
    "    print('Границы интервала для столбца \"{}\" тарифа {}: {}'.format(column, total_data_moscow['city_cat'].array[0], interval_moscow))\n",
    "    print('Границы интервала для столбца \"{}\" тарифа {}: {}'.format(column, total_data_region['city_cat'].array[0], interval_region))\n",
    "    \n",
    "    return interval_moscow, interval_region   "
   ]
  },
  {
   "cell_type": "code",
   "execution_count": 72,
   "metadata": {
    "scrolled": true
   },
   "outputs": [
    {
     "name": "stdout",
     "output_type": "stream",
     "text": [
      "Границы интервала для столбца \"user_revenue\" тарифа Москва: (0, 3678.0)\n",
      "Границы интервала для столбца \"user_revenue\" тарифа Регион: (0, 3750.0)\n"
     ]
    }
   ],
   "source": [
    "int_reg_smart, int_reg_ultra = interval_city('user_revenue')"
   ]
  },
  {
   "cell_type": "markdown",
   "metadata": {},
   "source": [
    "Теперь отфильтруем данные в соответствии с интервалами"
   ]
  },
  {
   "cell_type": "code",
   "execution_count": 73,
   "metadata": {},
   "outputs": [],
   "source": [
    "moscow_data_revenue = total_data_moscow[(total_data_moscow['user_revenue'] >= int_reg_smart[0]) &\n",
    "                                           (total_data_moscow['user_revenue'] <= int_reg_smart[1])]['user_revenue']\n",
    "region_data_revenue = total_data_region[(total_data_region['user_revenue'] >= int_reg_ultra[0]) &\n",
    "                                           (total_data_region['user_revenue'] <= int_reg_ultra[1])]['user_revenue']"
   ]
  },
  {
   "cell_type": "markdown",
   "metadata": {},
   "source": [
    "Для проверки гипотезы о равенстве среднего двух генеральных совокупностей по взятым из них выборкам, применим метод scipy.stats.ttest_ind (array1, array2) ."
   ]
  },
  {
   "cell_type": "code",
   "execution_count": 74,
   "metadata": {},
   "outputs": [
    {
     "name": "stdout",
     "output_type": "stream",
     "text": [
      "p-значение: 0.2058856276984465\n",
      "Не получилось отвергнуть нулевую гипотезу\n"
     ]
    }
   ],
   "source": [
    "\n",
    "alpha = 0.05 # зададим критический уровень статистической значимости\n",
    "            # если p-value окажется меньше него - отвергнем гипотезу\n",
    "\n",
    "results = st.ttest_ind(\n",
    "    moscow_data_revenue, \n",
    "    region_data_revenue)\n",
    "\n",
    "print('p-значение:', results.pvalue)\n",
    "\n",
    "if (results.pvalue < alpha):\n",
    "    print(\"Отвергаем нулевую гипотезу\")\n",
    "else:\n",
    "    print(\"Не получилось отвергнуть нулевую гипотезу\")"
   ]
  },
  {
   "cell_type": "markdown",
   "metadata": {},
   "source": [
    "Наши данные не противоречат гипотезе: **средняя выручка пользователей из Москвы не отличается от выручки пользователей из других регионов**  \n",
    "\n",
    "Проверим на нашей выборке как отличаются или нет средние значения прибыли по территориальному признаку"
   ]
  },
  {
   "cell_type": "code",
   "execution_count": 75,
   "metadata": {
    "scrolled": true
   },
   "outputs": [
    {
     "name": "stdout",
     "output_type": "stream",
     "text": [
      "Средняя выручка по пользователю в месяц в Москве: 1528\n",
      "Средняя выручка по пользователю в месяц в регионах: 1486\n"
     ]
    }
   ],
   "source": [
    "print('Средняя выручка по пользователю в месяц в Москве: {:.0f}'.format(moscow_data_revenue.mean()))\n",
    "print('Средняя выручка по пользователю в месяц в регионах: {:.0f}'.format(region_data_revenue.mean()))"
   ]
  },
  {
   "cell_type": "markdown",
   "metadata": {},
   "source": [
    "Средние значения отличаются незначительно, разница - 42 рубля\n",
    "\n",
    "Интересно посмотреть как распределились пользователи тарифов по территориальному признаку, нарисуем круговую диаграмму"
   ]
  },
  {
   "cell_type": "code",
   "execution_count": 76,
   "metadata": {},
   "outputs": [
    {
     "data": {
      "image/png": "[encoded data removed]",
      "text/plain": [
       "<Figure size 1440x360 with 2 Axes>"
      ]
     },
     "metadata": {},
     "output_type": "display_data"
    }
   ],
   "source": [
    "total_data_moscow = total_data.query('city_cat == \"Москва\"')\n",
    "total_data_region = total_data.query('city_cat != \"Москва\"')\n",
    "filter_list = ['Москва', 'Регион']\n",
    "titles_list = ['По клиентам проживающим в Москве', 'По клиентам проживающим в регионах']\n",
    "rows = 1\n",
    "cols = 2\n",
    "filter_list_counter = 0\n",
    "\n",
    "sum_moscow = total_data_moscow['user_id'].count()\n",
    "sum_region = total_data_region['user_id'].count()\n",
    "\n",
    "annot_labels = ['тариф \"Смарт\"', 'тариф \"Ультра\"']\n",
    "\n",
    "def func_pct(pct):\n",
    "    if pct < 75 and pct > 25:\n",
    "        value = float(pct/100.*sum_moscow)\n",
    "    else:\n",
    "        value = float(pct/100.*sum_region)\n",
    "    return \"{:.2f}%\".format(pct, value)\n",
    "\n",
    "fig, axes = plt.subplots(rows, cols, figsize=(20,10))\n",
    "\n",
    "for r in range(rows):\n",
    "    for c in range(cols):\n",
    "        \n",
    "        filter_data = total_data[total_data['city_cat'] == filter_list[filter_list_counter]].groupby('tariff')['user_id']\n",
    "        ax = filter_data.count().plot(kind='pie', fontsize=14, use_index=False, shadow=True,  \n",
    "                                           title=titles_list[filter_list_counter], pctdistance=0.55, figsize=(20,5),\n",
    "                                           autopct=lambda pct: func_pct(pct), startangle=200, ax=axes[c], labels=None)\n",
    "\n",
    "        filter_list_counter += 1\n",
    "\n",
    "plt.tight_layout(pad=3)\n",
    "\n",
    "for ax in axes:\n",
    "    ax.legend(['тариф \"Смарт\"', 'тариф \"Ультра\"'], bbox_to_anchor=(0.897,0.87), prop={'size':15})\n",
    "    ax.set_ylabel('')\n",
    "    ax.title.set_size(16)\n",
    "    ax.title.set_position([0.5, 1.15])"
   ]
  },
  {
   "cell_type": "markdown",
   "metadata": {},
   "source": [
    "Тариф \"Смарт\" популярен и в Москве, и в регионах, разница совсем небольшая."
   ]
  },
  {
   "cell_type": "markdown",
   "metadata": {},
   "source": [
    "**Вывод:**   \n",
    "* Наши данные не противоречат гипотезе: **средняя выручка пользователей тарифов «Ультра» и «Смарт» различается**  \n",
    "\n",
    "* Наши данные не противоречат гипотезе: **средняя выручка пользователей из Москвы отличается от выручки пользователей из других регионов** "
   ]
  },
  {
   "cell_type": "markdown",
   "metadata": {},
   "source": [
    "# 6. Общий вывод <a name=\"вывод\"></a>"
   ]
  },
  {
   "cell_type": "markdown",
   "metadata": {},
   "source": [
    "Посмотрим какой средний процент использования пакетов услуг, включенных в тарифный пакет, для каждого тарифа"
   ]
  },
  {
   "cell_type": "code",
   "execution_count": 77,
   "metadata": {},
   "outputs": [],
   "source": [
    "smart_int_mean = (total_data_smart['internet_mb'] / (1024 * 15)).mean()\n",
    "smart_min_mean = (total_data_smart['calls_min_sum'] / 500).mean()\n",
    "smart_sms_mean = (total_data_smart['sms_count'] / 50).mean()\n",
    "ultra_int_mean = (total_data_ultra['internet_mb'] / (1024 * 30)).mean()\n",
    "ultra_min_mean = (total_data_ultra['calls_min_sum'] / 3000).mean()\n",
    "ultra_sms_mean = (total_data_ultra['sms_count'] / 1000).mean()"
   ]
  },
  {
   "cell_type": "code",
   "execution_count": 78,
   "metadata": {
    "scrolled": false
   },
   "outputs": [
    {
     "name": "stdout",
     "output_type": "stream",
     "text": [
      "Средний процент использования пакета интернет-трафика по тарифу \"Смарт\" - 105.67% = 16,231 Гб\n",
      "Средний процент использования пакета минут разговоров по тарифу \"Смарт\" - 83.89% = 419 мин\n",
      "Средний процент использования пакета смс-сообщений по тарифу \"Смарт\" - 66.78% = 33 шт.\n",
      "*************************************************************************************************\n",
      "Средний процент использования пакета интернет-трафика по тарифу \"Ультра\" - 63.44% = 19,490 Гб\n",
      "Средний процент использования пакета минут разговоров по тарифу \"Ультра\" - 18.26% = 548 мин\n",
      "Средний процент использования пакета смс-сообщений по тарифу \"Ультра\" - 4.88% = 49 шт.\n"
     ]
    }
   ],
   "source": [
    "print('Средний процент использования пакета интернет-трафика по тарифу \"Смарт\" - {:.2%} = {:,.0f} Гб'.\n",
    "      format(smart_int_mean, smart_int_mean * 1024 * 15))\n",
    "print('Средний процент использования пакета минут разговоров по тарифу \"Смарт\" - {:.2%} = {:,.0f} мин'.\n",
    "      format(smart_min_mean, smart_min_mean * 500))\n",
    "print('Средний процент использования пакета смс-сообщений по тарифу \"Смарт\" - {:.2%} = {:,.0f} шт.'.\n",
    "      format(smart_sms_mean, smart_sms_mean * 50))\n",
    "print('*************************************************************************************************')\n",
    "print('Средний процент использования пакета интернет-трафика по тарифу \"Ультра\" - {:.2%} = {:,.0f} Гб'.\n",
    "      format(ultra_int_mean, ultra_int_mean * 1024 * 30))\n",
    "print('Средний процент использования пакета минут разговоров по тарифу \"Ультра\" - {:.2%} = {:,.0f} мин'.\n",
    "      format(ultra_min_mean, ultra_min_mean * 3000))\n",
    "print('Средний процент использования пакета смс-сообщений по тарифу \"Ультра\" - {:.2%} = {:,.0f} шт.'.\n",
    "      format(ultra_sms_mean, ultra_sms_mean * 1000))"
   ]
  },
  {
   "cell_type": "markdown",
   "metadata": {},
   "source": [
    "**По тарифу \"Ультра\" всё прекрасно, в среднем абонент не использует полностью все услуги, которые включены в пакет:**  \n",
    "\n",
    "* из 30 Гб включенных в тариф \"Ультра\" в среднем в месяц абонент использует 20 Гб  \n",
    "* из 3000 минут включенных в тариф \"Ультра\" в среднем в месяц абонент выговаривает 550 минут  \n",
    "* из 1000 сообщений включенных в тариф \"Ультра\" в среднем в месяц абонент отправляет 50 сообщений  \n",
    "\n",
    "**По тарифу \"Смарт\" не всё так хорошо, в среднем абонент использует практически полностью все услуги, которые включены в пакет:** \n",
    "\n",
    "* из 15 Гб включенных в тариф \"Смарт\" в среднем в месяц абонент использует всё и докупает сверх пакета 2 Гб  \n",
    "* из 500 минут включенных в тариф \"Смарт\" в среднем в месяц абонент выговаривает 419 минут , т.е. практически использует все минуты   \n",
    "* из 50 сообщений включенных в тариф \"Ультра\" в среднем в месяц абонент отправляет 33 сообщения  "
   ]
  },
  {
   "cell_type": "markdown",
   "metadata": {},
   "source": [
    "Посмотрим какое в среднем превышение по услугам у абонентов тарифов"
   ]
  },
  {
   "cell_type": "code",
   "execution_count": 79,
   "metadata": {},
   "outputs": [],
   "source": [
    "smart_int_over = (total_data_smart['internet_overlimit'] / 1024).mean()\n",
    "smart_min_over = (total_data_smart['min_overlimit']).mean()\n",
    "smart_sms_over = (total_data_smart['sms_overlimit']).mean()\n",
    "ultra_int_over = (total_data_ultra['internet_overlimit']/ 1024).mean()\n",
    "ultra_min_over = (total_data_ultra['min_overlimit']).mean()\n",
    "ultra_sms_over = (total_data_ultra['sms_overlimit']).mean()"
   ]
  },
  {
   "cell_type": "code",
   "execution_count": 80,
   "metadata": {},
   "outputs": [
    {
     "name": "stdout",
     "output_type": "stream",
     "text": [
      "Среднee превышение пакета интернет-трафика по тарифу \"Смарт\" - 2.71 Гб\n",
      "Среднее превышение пакета минут разговоров по тарифу \"Смарт\" 42 мин\n",
      "Среднее превышение пакета смс-сообщений по тарифу \"Смарт\" 6 шт.\n",
      "******************************************************************************\n",
      "Среднee превышение пакета интернет-трафика по тарифу \"Ультра\" 0.75 Гб\n",
      "Среднее превышение пакета минут разговоров по тарифу \"Ультра\" 0 мин\n",
      "Среднее превышение пакета смс-сообщений по тарифу \"Ультра\" 0 шт.\n"
     ]
    }
   ],
   "source": [
    "print('Среднee превышение пакета интернет-трафика по тарифу \"Смарт\" - {:,.2f} Гб'.\n",
    "      format(smart_int_over))\n",
    "print('Среднее превышение пакета минут разговоров по тарифу \"Смарт\" {:,.0f} мин'.\n",
    "      format(smart_min_over))\n",
    "print('Среднее превышение пакета смс-сообщений по тарифу \"Смарт\" {:,.0f} шт.'.\n",
    "      format(smart_sms_over))\n",
    "print('******************************************************************************')\n",
    "print('Среднee превышение пакета интернет-трафика по тарифу \"Ультра\" {:,.2f} Гб'.\n",
    "      format(ultra_int_over))\n",
    "print('Среднее превышение пакета минут разговоров по тарифу \"Ультра\" {:,.0f} мин'.\n",
    "      format(ultra_min_over))\n",
    "print('Среднее превышение пакета смс-сообщений по тарифу \"Ультра\" {:,.0f} шт.'.\n",
    "      format(ultra_sms_over))"
   ]
  },
  {
   "cell_type": "markdown",
   "metadata": {},
   "source": [
    "### Вывод:"
   ]
  },
  {
   "cell_type": "markdown",
   "metadata": {},
   "source": [
    "* Абоненты \"Мегалайн\", которые пользуются тарифом \"Смарт\" приносят оператору практически 60% выручки, остальные 40% - это выручка от клиентов тарифа\"Ультра\" (которых всего 30% от общего числа клиентов).   \n",
    "  \n",
    "  \n",
    "* Среднему клиенту тарифа \"Ультра\" хватает услуг включенных в пакет тарифа, иногда он дозаказывает 1 Гб интернета  \n",
    "  \n",
    "  \n",
    "* Среднему клиенту тарифа \"Смарт\" не хватает 2-3 Гб интернет-трафика  и он дозаказывает эту услугу за дополнительные 400-600 рублей  \n",
    "  \n",
    "  \n",
    "* Думаю потенциальному клиенту \"Мегалайн\" не хватает тарифа, который занимал бы промежуточное значение, между этими тарифами.   \n",
    "С учетом того, что средний чек по оплате услуг клиентом тарифа \"Смарт\" состаляет 1250 рублей, значит это та сумма, которую он готов отдавать за услуги связи. Стоит посоветовать \"Мегалайн\" разработать тариф с увеличенными относительно \"Смарт\" пакетами услуг и абонентской платой 1200-1300 рублей\n"
   ]
  }
 ],
 "metadata": {
  "kernelspec": {
   "display_name": "Python 3",
   "language": "python",
   "name": "python3"
  },
  "language_info": {
   "codemirror_mode": {
    "name": "ipython",
    "version": 3
   },
   "file_extension": ".py",
   "mimetype": "text/x-python",
   "name": "python",
   "nbconvert_exporter": "python",
   "pygments_lexer": "ipython3",
   "version": "3.7.6"
  }
 },
 "nbformat": 4,
 "nbformat_minor": 2
}
